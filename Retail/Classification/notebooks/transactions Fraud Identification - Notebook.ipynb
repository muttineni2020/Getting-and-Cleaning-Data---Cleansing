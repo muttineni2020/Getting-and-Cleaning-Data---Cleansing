{
 "cells": [
  {
   "cell_type": "code",
   "execution_count": 2,
   "metadata": {},
   "outputs": [],
   "source": [
    "import pandas as pd\n",
    "import os\n",
    "import numpy as np\n",
    "\n",
    "#Visualization\n",
    "import matplotlib.pyplot as plt\n",
    "import seaborn as sns\n",
    "\n",
    "# Modeling imports\n",
    "from sklearn import linear_model\n",
    "from sklearn.model_selection import train_test_split, GridSearchCV, RandomizedSearchCV, StratifiedKFold\n",
    "from sklearn.ensemble import ExtraTreesClassifier, RandomForestClassifier, GradientBoostingClassifier\n",
    "from xgboost import XGBClassifier, plot_importance\n",
    "from sklearn.feature_selection import SelectFromModel\n",
    "import xgboost as xgb\n",
    "from sklearn.metrics import classification_report, roc_auc_score, roc_curve, confusion_matrix, f1_score, accuracy_score, precision_score, recall_score,precision_recall_curve \n",
    "from sklearn.dummy import DummyClassifier\n",
    "\n",
    "%matplotlib inline\n",
    "import  warnings\n",
    "warnings.simplefilter('ignore')"
   ]
  },
  {
   "cell_type": "code",
   "execution_count": 3,
   "metadata": {},
   "outputs": [],
   "source": [
    "#Reading Fraud Data Set\n",
    "df_fraud = pd.read_csv(\"fraud_data.csv\",index_col=0)"
   ]
  },
  {
   "cell_type": "code",
   "execution_count": 4,
   "metadata": {},
   "outputs": [],
   "source": [
    "pd.set_option('display.float_format', lambda x: '%.f' % x)"
   ]
  },
  {
   "cell_type": "code",
   "execution_count": 5,
   "metadata": {},
   "outputs": [
    {
     "data": {
      "text/html": [
       "<div>\n",
       "<style scoped>\n",
       "    .dataframe tbody tr th:only-of-type {\n",
       "        vertical-align: middle;\n",
       "    }\n",
       "\n",
       "    .dataframe tbody tr th {\n",
       "        vertical-align: top;\n",
       "    }\n",
       "\n",
       "    .dataframe thead th {\n",
       "        text-align: right;\n",
       "    }\n",
       "</style>\n",
       "<table border=\"1\" class=\"dataframe\">\n",
       "  <thead>\n",
       "    <tr style=\"text-align: right;\">\n",
       "      <th></th>\n",
       "      <th>user_id</th>\n",
       "      <th>signup_time</th>\n",
       "      <th>purchase_time</th>\n",
       "      <th>purchase_value</th>\n",
       "      <th>device_id</th>\n",
       "      <th>source</th>\n",
       "      <th>browser</th>\n",
       "      <th>sex</th>\n",
       "      <th>age</th>\n",
       "      <th>ip_address</th>\n",
       "      <th>class</th>\n",
       "    </tr>\n",
       "  </thead>\n",
       "  <tbody>\n",
       "    <tr>\n",
       "      <th>149671</th>\n",
       "      <td>285108</td>\n",
       "      <td>7/15/2015 4:36</td>\n",
       "      <td>9/10/2015 14:17</td>\n",
       "      <td>31</td>\n",
       "      <td>HZAKVUFTDOSFD</td>\n",
       "      <td>Direct</td>\n",
       "      <td>Chrome</td>\n",
       "      <td>M</td>\n",
       "      <td>49</td>\n",
       "      <td>2818400139</td>\n",
       "      <td>0</td>\n",
       "    </tr>\n",
       "    <tr>\n",
       "      <th>15611</th>\n",
       "      <td>131009</td>\n",
       "      <td>1/24/2015 12:29</td>\n",
       "      <td>4/13/2015 4:53</td>\n",
       "      <td>31</td>\n",
       "      <td>XGQAJSOUJIZCC</td>\n",
       "      <td>SEO</td>\n",
       "      <td>IE</td>\n",
       "      <td>F</td>\n",
       "      <td>21</td>\n",
       "      <td>3251268287</td>\n",
       "      <td>0</td>\n",
       "    </tr>\n",
       "    <tr>\n",
       "      <th>73178</th>\n",
       "      <td>328855</td>\n",
       "      <td>3/11/2015 0:54</td>\n",
       "      <td>4/5/2015 12:23</td>\n",
       "      <td>16</td>\n",
       "      <td>VCCTAYDCWKZIY</td>\n",
       "      <td>Direct</td>\n",
       "      <td>IE</td>\n",
       "      <td>M</td>\n",
       "      <td>26</td>\n",
       "      <td>2727760440</td>\n",
       "      <td>0</td>\n",
       "    </tr>\n",
       "    <tr>\n",
       "      <th>84546</th>\n",
       "      <td>229053</td>\n",
       "      <td>1/7/2015 13:19</td>\n",
       "      <td>1/9/2015 10:12</td>\n",
       "      <td>29</td>\n",
       "      <td>MFFIHYNXCJLEY</td>\n",
       "      <td>SEO</td>\n",
       "      <td>Chrome</td>\n",
       "      <td>M</td>\n",
       "      <td>34</td>\n",
       "      <td>2083419526</td>\n",
       "      <td>0</td>\n",
       "    </tr>\n",
       "    <tr>\n",
       "      <th>35978</th>\n",
       "      <td>108439</td>\n",
       "      <td>2/8/2015 21:11</td>\n",
       "      <td>4/9/2015 14:26</td>\n",
       "      <td>26</td>\n",
       "      <td>WMSXWGVPNIFBM</td>\n",
       "      <td>Ads</td>\n",
       "      <td>FireFox</td>\n",
       "      <td>M</td>\n",
       "      <td>33</td>\n",
       "      <td>3207912664</td>\n",
       "      <td>0</td>\n",
       "    </tr>\n",
       "  </tbody>\n",
       "</table>\n",
       "</div>"
      ],
      "text/plain": [
       "        user_id      signup_time    purchase_time  purchase_value  \\\n",
       "149671   285108   7/15/2015 4:36  9/10/2015 14:17              31   \n",
       "15611    131009  1/24/2015 12:29   4/13/2015 4:53              31   \n",
       "73178    328855   3/11/2015 0:54   4/5/2015 12:23              16   \n",
       "84546    229053   1/7/2015 13:19   1/9/2015 10:12              29   \n",
       "35978    108439   2/8/2015 21:11   4/9/2015 14:26              26   \n",
       "\n",
       "            device_id  source  browser sex  age  ip_address  class  \n",
       "149671  HZAKVUFTDOSFD  Direct   Chrome   M   49  2818400139      0  \n",
       "15611   XGQAJSOUJIZCC     SEO       IE   F   21  3251268287      0  \n",
       "73178   VCCTAYDCWKZIY  Direct       IE   M   26  2727760440      0  \n",
       "84546   MFFIHYNXCJLEY     SEO   Chrome   M   34  2083419526      0  \n",
       "35978   WMSXWGVPNIFBM     Ads  FireFox   M   33  3207912664      0  "
      ]
     },
     "execution_count": 5,
     "metadata": {},
     "output_type": "execute_result"
    }
   ],
   "source": [
    "#Top 5 records - Fraud data set\n",
    "df_fraud.head()"
   ]
  },
  {
   "cell_type": "code",
   "execution_count": 6,
   "metadata": {},
   "outputs": [
    {
     "data": {
      "text/plain": [
       "120000"
      ]
     },
     "execution_count": 6,
     "metadata": {},
     "output_type": "execute_result"
    }
   ],
   "source": [
    "#Length of Data Set\n",
    "len(df_fraud)"
   ]
  },
  {
   "cell_type": "code",
   "execution_count": 7,
   "metadata": {},
   "outputs": [],
   "source": [
    "#Reading IpAddress_to_Country Data Set\n",
    "df_Ip_Country = pd.read_excel(\"IpAddress_to_Country.xlsx\")"
   ]
  },
  {
   "cell_type": "code",
   "execution_count": 8,
   "metadata": {},
   "outputs": [
    {
     "data": {
      "text/html": [
       "<div>\n",
       "<style scoped>\n",
       "    .dataframe tbody tr th:only-of-type {\n",
       "        vertical-align: middle;\n",
       "    }\n",
       "\n",
       "    .dataframe tbody tr th {\n",
       "        vertical-align: top;\n",
       "    }\n",
       "\n",
       "    .dataframe thead th {\n",
       "        text-align: right;\n",
       "    }\n",
       "</style>\n",
       "<table border=\"1\" class=\"dataframe\">\n",
       "  <thead>\n",
       "    <tr style=\"text-align: right;\">\n",
       "      <th></th>\n",
       "      <th>lower_bound_ip_address</th>\n",
       "      <th>upper_bound_ip_address</th>\n",
       "      <th>country</th>\n",
       "    </tr>\n",
       "  </thead>\n",
       "  <tbody>\n",
       "    <tr>\n",
       "      <th>0</th>\n",
       "      <td>16777216</td>\n",
       "      <td>16777471</td>\n",
       "      <td>Australia</td>\n",
       "    </tr>\n",
       "    <tr>\n",
       "      <th>1</th>\n",
       "      <td>16777472</td>\n",
       "      <td>16777727</td>\n",
       "      <td>China</td>\n",
       "    </tr>\n",
       "    <tr>\n",
       "      <th>2</th>\n",
       "      <td>16777728</td>\n",
       "      <td>16778239</td>\n",
       "      <td>China</td>\n",
       "    </tr>\n",
       "    <tr>\n",
       "      <th>3</th>\n",
       "      <td>16778240</td>\n",
       "      <td>16779263</td>\n",
       "      <td>Australia</td>\n",
       "    </tr>\n",
       "    <tr>\n",
       "      <th>4</th>\n",
       "      <td>16779264</td>\n",
       "      <td>16781311</td>\n",
       "      <td>China</td>\n",
       "    </tr>\n",
       "  </tbody>\n",
       "</table>\n",
       "</div>"
      ],
      "text/plain": [
       "   lower_bound_ip_address  upper_bound_ip_address    country\n",
       "0                16777216                16777471  Australia\n",
       "1                16777472                16777727      China\n",
       "2                16777728                16778239      China\n",
       "3                16778240                16779263  Australia\n",
       "4                16779264                16781311      China"
      ]
     },
     "execution_count": 8,
     "metadata": {},
     "output_type": "execute_result"
    }
   ],
   "source": [
    "#Top 5 records - LowerIP - UpperIP -Country data set\n",
    "df_Ip_Country.head()"
   ]
  },
  {
   "cell_type": "code",
   "execution_count": 12,
   "metadata": {},
   "outputs": [
    {
     "data": {
      "text/plain": [
       "138846"
      ]
     },
     "execution_count": 12,
     "metadata": {},
     "output_type": "execute_result"
    }
   ],
   "source": [
    "#length of df_Ip_Country\n",
    "len(df_Ip_Country)"
   ]
  },
  {
   "cell_type": "code",
   "execution_count": 13,
   "metadata": {},
   "outputs": [],
   "source": [
    "s = pd.Series(df_Ip_Country['country'].values, pd.IntervalIndex.from_arrays(df_Ip_Country['lower_bound_ip_address'], df_Ip_Country['upper_bound_ip_address']))"
   ]
  },
  {
   "cell_type": "code",
   "execution_count": 14,
   "metadata": {},
   "outputs": [],
   "source": [
    "df_fraud['country'] = df_fraud['ip_address'].map(s)"
   ]
  },
  {
   "cell_type": "code",
   "execution_count": 15,
   "metadata": {},
   "outputs": [
    {
     "data": {
      "text/plain": [
       "False    102580\n",
       "True      17420\n",
       "Name: country, dtype: int64"
      ]
     },
     "execution_count": 15,
     "metadata": {},
     "output_type": "execute_result"
    }
   ],
   "source": [
    "# Check for Country value null\n",
    "df_fraud['country'].isnull().value_counts()"
   ]
  },
  {
   "cell_type": "markdown",
   "metadata": {},
   "source": [
    "Here, Fraud Data has 17000 ip addresses with missing country information after mapping with lower and upper boundary ip address data. We can delete ip addresses with missing country info records but there may be a posibility that, these missing ip address corresponds to fake ip addresses generated specifically to create fraud. If it would be the case, We should see some associated correlation. So, for now i am marking these missing country information records \"UnKnown\""
   ]
  },
  {
   "cell_type": "code",
   "execution_count": 16,
   "metadata": {},
   "outputs": [],
   "source": [
    "df_fraud.country.fillna('UnKnown',inplace=True)"
   ]
  },
  {
   "cell_type": "code",
   "execution_count": 17,
   "metadata": {},
   "outputs": [
    {
     "data": {
      "text/plain": [
       "Series([], Name: country, dtype: object)"
      ]
     },
     "execution_count": 17,
     "metadata": {},
     "output_type": "execute_result"
    }
   ],
   "source": [
    "# Check null values still exists in Country column\n",
    "df_fraud[df_fraud['country'].isnull()].country"
   ]
  },
  {
   "cell_type": "markdown",
   "metadata": {},
   "source": [
    "No null Values exists - Country column"
   ]
  },
  {
   "cell_type": "code",
   "execution_count": 18,
   "metadata": {},
   "outputs": [
    {
     "name": "stdout",
     "output_type": "stream",
     "text": [
      "<class 'pandas.core.frame.DataFrame'>\n",
      "Int64Index: 120000 entries, 149671 to 46646\n",
      "Data columns (total 12 columns):\n",
      "user_id           120000 non-null int64\n",
      "signup_time       120000 non-null object\n",
      "purchase_time     120000 non-null object\n",
      "purchase_value    120000 non-null int64\n",
      "device_id         120000 non-null object\n",
      "source            120000 non-null object\n",
      "browser           120000 non-null object\n",
      "sex               120000 non-null object\n",
      "age               120000 non-null int64\n",
      "ip_address        120000 non-null float64\n",
      "class             120000 non-null int64\n",
      "country           120000 non-null object\n",
      "dtypes: float64(1), int64(4), object(7)\n",
      "memory usage: 11.9+ MB\n"
     ]
    }
   ],
   "source": [
    "df_fraud.info()"
   ]
  },
  {
   "cell_type": "markdown",
   "metadata": {},
   "source": [
    "It seems Fraud Data set looks good with no missing values."
   ]
  },
  {
   "cell_type": "markdown",
   "metadata": {},
   "source": [
    "### Exploring Data"
   ]
  },
  {
   "cell_type": "markdown",
   "metadata": {},
   "source": [
    "##### Summary Statistics"
   ]
  },
  {
   "cell_type": "code",
   "execution_count": 19,
   "metadata": {},
   "outputs": [
    {
     "data": {
      "text/html": [
       "<div>\n",
       "<style scoped>\n",
       "    .dataframe tbody tr th:only-of-type {\n",
       "        vertical-align: middle;\n",
       "    }\n",
       "\n",
       "    .dataframe tbody tr th {\n",
       "        vertical-align: top;\n",
       "    }\n",
       "\n",
       "    .dataframe thead th {\n",
       "        text-align: right;\n",
       "    }\n",
       "</style>\n",
       "<table border=\"1\" class=\"dataframe\">\n",
       "  <thead>\n",
       "    <tr style=\"text-align: right;\">\n",
       "      <th></th>\n",
       "      <th>user_id</th>\n",
       "      <th>signup_time</th>\n",
       "      <th>purchase_time</th>\n",
       "      <th>purchase_value</th>\n",
       "      <th>device_id</th>\n",
       "      <th>source</th>\n",
       "      <th>browser</th>\n",
       "      <th>sex</th>\n",
       "      <th>age</th>\n",
       "      <th>ip_address</th>\n",
       "      <th>class</th>\n",
       "      <th>country</th>\n",
       "    </tr>\n",
       "  </thead>\n",
       "  <tbody>\n",
       "    <tr>\n",
       "      <th>count</th>\n",
       "      <td>120000</td>\n",
       "      <td>120000</td>\n",
       "      <td>120000</td>\n",
       "      <td>120000</td>\n",
       "      <td>120000</td>\n",
       "      <td>120000</td>\n",
       "      <td>120000</td>\n",
       "      <td>120000</td>\n",
       "      <td>120000</td>\n",
       "      <td>120000</td>\n",
       "      <td>120000</td>\n",
       "      <td>120000</td>\n",
       "    </tr>\n",
       "    <tr>\n",
       "      <th>unique</th>\n",
       "      <td>nan</td>\n",
       "      <td>109111</td>\n",
       "      <td>100058</td>\n",
       "      <td>nan</td>\n",
       "      <td>110599</td>\n",
       "      <td>3</td>\n",
       "      <td>5</td>\n",
       "      <td>2</td>\n",
       "      <td>nan</td>\n",
       "      <td>nan</td>\n",
       "      <td>nan</td>\n",
       "      <td>177</td>\n",
       "    </tr>\n",
       "    <tr>\n",
       "      <th>top</th>\n",
       "      <td>nan</td>\n",
       "      <td>1/6/2015 12:10</td>\n",
       "      <td>1/6/2015 12:53</td>\n",
       "      <td>nan</td>\n",
       "      <td>ITUMJCKWEYNDD</td>\n",
       "      <td>SEO</td>\n",
       "      <td>Chrome</td>\n",
       "      <td>M</td>\n",
       "      <td>nan</td>\n",
       "      <td>nan</td>\n",
       "      <td>nan</td>\n",
       "      <td>United States</td>\n",
       "    </tr>\n",
       "    <tr>\n",
       "      <th>freq</th>\n",
       "      <td>nan</td>\n",
       "      <td>21</td>\n",
       "      <td>20</td>\n",
       "      <td>nan</td>\n",
       "      <td>19</td>\n",
       "      <td>48297</td>\n",
       "      <td>48652</td>\n",
       "      <td>70126</td>\n",
       "      <td>nan</td>\n",
       "      <td>nan</td>\n",
       "      <td>nan</td>\n",
       "      <td>46183</td>\n",
       "    </tr>\n",
       "    <tr>\n",
       "      <th>mean</th>\n",
       "      <td>200320</td>\n",
       "      <td>NaN</td>\n",
       "      <td>NaN</td>\n",
       "      <td>37</td>\n",
       "      <td>NaN</td>\n",
       "      <td>NaN</td>\n",
       "      <td>NaN</td>\n",
       "      <td>NaN</td>\n",
       "      <td>33</td>\n",
       "      <td>2151549770</td>\n",
       "      <td>0</td>\n",
       "      <td>NaN</td>\n",
       "    </tr>\n",
       "    <tr>\n",
       "      <th>std</th>\n",
       "      <td>115362</td>\n",
       "      <td>NaN</td>\n",
       "      <td>NaN</td>\n",
       "      <td>18</td>\n",
       "      <td>NaN</td>\n",
       "      <td>NaN</td>\n",
       "      <td>NaN</td>\n",
       "      <td>NaN</td>\n",
       "      <td>9</td>\n",
       "      <td>1248314063</td>\n",
       "      <td>0</td>\n",
       "      <td>NaN</td>\n",
       "    </tr>\n",
       "    <tr>\n",
       "      <th>min</th>\n",
       "      <td>2</td>\n",
       "      <td>NaN</td>\n",
       "      <td>NaN</td>\n",
       "      <td>9</td>\n",
       "      <td>NaN</td>\n",
       "      <td>NaN</td>\n",
       "      <td>NaN</td>\n",
       "      <td>NaN</td>\n",
       "      <td>18</td>\n",
       "      <td>93447</td>\n",
       "      <td>0</td>\n",
       "      <td>NaN</td>\n",
       "    </tr>\n",
       "    <tr>\n",
       "      <th>25%</th>\n",
       "      <td>100926</td>\n",
       "      <td>NaN</td>\n",
       "      <td>NaN</td>\n",
       "      <td>22</td>\n",
       "      <td>NaN</td>\n",
       "      <td>NaN</td>\n",
       "      <td>NaN</td>\n",
       "      <td>NaN</td>\n",
       "      <td>27</td>\n",
       "      <td>1085344808</td>\n",
       "      <td>0</td>\n",
       "      <td>NaN</td>\n",
       "    </tr>\n",
       "    <tr>\n",
       "      <th>50%</th>\n",
       "      <td>200038</td>\n",
       "      <td>NaN</td>\n",
       "      <td>NaN</td>\n",
       "      <td>34</td>\n",
       "      <td>NaN</td>\n",
       "      <td>NaN</td>\n",
       "      <td>NaN</td>\n",
       "      <td>NaN</td>\n",
       "      <td>33</td>\n",
       "      <td>2155238209</td>\n",
       "      <td>0</td>\n",
       "      <td>NaN</td>\n",
       "    </tr>\n",
       "    <tr>\n",
       "      <th>75%</th>\n",
       "      <td>300396</td>\n",
       "      <td>NaN</td>\n",
       "      <td>NaN</td>\n",
       "      <td>49</td>\n",
       "      <td>NaN</td>\n",
       "      <td>NaN</td>\n",
       "      <td>NaN</td>\n",
       "      <td>NaN</td>\n",
       "      <td>39</td>\n",
       "      <td>3241268072</td>\n",
       "      <td>0</td>\n",
       "      <td>NaN</td>\n",
       "    </tr>\n",
       "    <tr>\n",
       "      <th>max</th>\n",
       "      <td>400000</td>\n",
       "      <td>NaN</td>\n",
       "      <td>NaN</td>\n",
       "      <td>154</td>\n",
       "      <td>NaN</td>\n",
       "      <td>NaN</td>\n",
       "      <td>NaN</td>\n",
       "      <td>NaN</td>\n",
       "      <td>76</td>\n",
       "      <td>4294850500</td>\n",
       "      <td>1</td>\n",
       "      <td>NaN</td>\n",
       "    </tr>\n",
       "  </tbody>\n",
       "</table>\n",
       "</div>"
      ],
      "text/plain": [
       "        user_id     signup_time   purchase_time  purchase_value  \\\n",
       "count    120000          120000          120000          120000   \n",
       "unique      nan          109111          100058             nan   \n",
       "top         nan  1/6/2015 12:10  1/6/2015 12:53             nan   \n",
       "freq        nan              21              20             nan   \n",
       "mean     200320             NaN             NaN              37   \n",
       "std      115362             NaN             NaN              18   \n",
       "min           2             NaN             NaN               9   \n",
       "25%      100926             NaN             NaN              22   \n",
       "50%      200038             NaN             NaN              34   \n",
       "75%      300396             NaN             NaN              49   \n",
       "max      400000             NaN             NaN             154   \n",
       "\n",
       "            device_id  source browser     sex    age  ip_address  class  \\\n",
       "count          120000  120000  120000  120000 120000      120000 120000   \n",
       "unique         110599       3       5       2    nan         nan    nan   \n",
       "top     ITUMJCKWEYNDD     SEO  Chrome       M    nan         nan    nan   \n",
       "freq               19   48297   48652   70126    nan         nan    nan   \n",
       "mean              NaN     NaN     NaN     NaN     33  2151549770      0   \n",
       "std               NaN     NaN     NaN     NaN      9  1248314063      0   \n",
       "min               NaN     NaN     NaN     NaN     18       93447      0   \n",
       "25%               NaN     NaN     NaN     NaN     27  1085344808      0   \n",
       "50%               NaN     NaN     NaN     NaN     33  2155238209      0   \n",
       "75%               NaN     NaN     NaN     NaN     39  3241268072      0   \n",
       "max               NaN     NaN     NaN     NaN     76  4294850500      1   \n",
       "\n",
       "              country  \n",
       "count          120000  \n",
       "unique            177  \n",
       "top     United States  \n",
       "freq            46183  \n",
       "mean              NaN  \n",
       "std               NaN  \n",
       "min               NaN  \n",
       "25%               NaN  \n",
       "50%               NaN  \n",
       "75%               NaN  \n",
       "max               NaN  "
      ]
     },
     "execution_count": 19,
     "metadata": {},
     "output_type": "execute_result"
    }
   ],
   "source": [
    "df_fraud.describe(include=\"all\")"
   ]
  },
  {
   "cell_type": "markdown",
   "metadata": {},
   "source": [
    "Above table shows different statistical messures like mean, median and so. \n",
    "    1. If we could look at age, it seems good as square root STD (variance), min and Max normally distributed. \n",
    "    2. And Fare also looks good.\n",
    "    \n",
    "    But to have a clear idea, we can explore more in Data Visualization through Hist and Box plots."
   ]
  },
  {
   "cell_type": "code",
   "execution_count": 20,
   "metadata": {},
   "outputs": [
    {
     "data": {
      "text/plain": [
       "0    108735\n",
       "1     11265\n",
       "Name: class, dtype: int64"
      ]
     },
     "execution_count": 20,
     "metadata": {},
     "output_type": "execute_result"
    }
   ],
   "source": [
    "# Check output class is imbalanced or not\n",
    "df_fraud[\"class\"].value_counts()"
   ]
  },
  {
   "cell_type": "markdown",
   "metadata": {},
   "source": [
    "It seems, data set has class imbalance. i.e. 1 in 10 transactions are reported as fraud (around 10% of fraud). So ensemble algorithms performs very well in this kind of scenarios. But let's explore more on this data set and see."
   ]
  },
  {
   "cell_type": "code",
   "execution_count": 21,
   "metadata": {},
   "outputs": [
    {
     "data": {
      "text/html": [
       "<div>\n",
       "<style scoped>\n",
       "    .dataframe tbody tr th:only-of-type {\n",
       "        vertical-align: middle;\n",
       "    }\n",
       "\n",
       "    .dataframe tbody tr th {\n",
       "        vertical-align: top;\n",
       "    }\n",
       "\n",
       "    .dataframe thead th {\n",
       "        text-align: right;\n",
       "    }\n",
       "</style>\n",
       "<table border=\"1\" class=\"dataframe\">\n",
       "  <thead>\n",
       "    <tr style=\"text-align: right;\">\n",
       "      <th></th>\n",
       "      <th>user_id</th>\n",
       "      <th>signup_time</th>\n",
       "      <th>purchase_time</th>\n",
       "      <th>purchase_value</th>\n",
       "      <th>device_id</th>\n",
       "      <th>source</th>\n",
       "      <th>browser</th>\n",
       "      <th>sex</th>\n",
       "      <th>age</th>\n",
       "      <th>ip_address</th>\n",
       "      <th>class</th>\n",
       "      <th>country</th>\n",
       "    </tr>\n",
       "  </thead>\n",
       "  <tbody>\n",
       "  </tbody>\n",
       "</table>\n",
       "</div>"
      ],
      "text/plain": [
       "Empty DataFrame\n",
       "Columns: [user_id, signup_time, purchase_time, purchase_value, device_id, source, browser, sex, age, ip_address, class, country]\n",
       "Index: []"
      ]
     },
     "execution_count": 21,
     "metadata": {},
     "output_type": "execute_result"
    }
   ],
   "source": [
    "# Check for duplicate entries in data\n",
    "df_fraud[df_fraud[\"user_id\"].duplicated()==True]"
   ]
  },
  {
   "cell_type": "markdown",
   "metadata": {},
   "source": [
    "No duplicates in the data, so we are good."
   ]
  },
  {
   "cell_type": "code",
   "execution_count": 22,
   "metadata": {},
   "outputs": [
    {
     "name": "stdout",
     "output_type": "stream",
     "text": [
      "Wall time: 1min 37s\n"
     ]
    }
   ],
   "source": [
    "%%time\n",
    "# Looking for some other useful info by grouping\n",
    "# We have Signup and Purchase time, it would be usefull if we could calculate time difference. In general if the signup time and purchase time difference is less, that means user creating accounts and purchasing immediately will be a red flag and need to take into consideration.\n",
    "df_fraud['signup_time'] = df_fraud.signup_time.apply(pd.to_datetime)#pd.to_datetime(df_fraud.signup_time)\n",
    "df_fraud['purchase_time'] = df_fraud.purchase_time.apply(pd.to_datetime)#pd.to_datetime(df_fraud.purchase_time)\n",
    "\n",
    "# it is very suspicious if a user signup and then immediately purchase\n",
    "df_fraud['time_diff'] = (df_fraud.purchase_time - df_fraud.signup_time).apply(lambda x: x.seconds)"
   ]
  },
  {
   "cell_type": "code",
   "execution_count": 23,
   "metadata": {},
   "outputs": [
    {
     "data": {
      "text/plain": [
       "1    6036\n",
       "0     289\n",
       "Name: class, dtype: int64"
      ]
     },
     "execution_count": 23,
     "metadata": {},
     "output_type": "execute_result"
    }
   ],
   "source": [
    "df_fraud[df_fraud['time_diff']<=200]['class'].value_counts()"
   ]
  },
  {
   "cell_type": "markdown",
   "metadata": {},
   "source": [
    "Above data shows almost 95% of fraudlent activities happened when user purchase and signup time difference less (here i have considered as 200 secs - approximately 3 minutes). It is evident that, User signup time and purchase time playing key role in identifying Fraud/Non-Fraud activity. "
   ]
  },
  {
   "cell_type": "code",
   "execution_count": 26,
   "metadata": {},
   "outputs": [
    {
     "data": {
      "text/html": [
       "<div>\n",
       "<style scoped>\n",
       "    .dataframe tbody tr th:only-of-type {\n",
       "        vertical-align: middle;\n",
       "    }\n",
       "\n",
       "    .dataframe tbody tr th {\n",
       "        vertical-align: top;\n",
       "    }\n",
       "\n",
       "    .dataframe thead th {\n",
       "        text-align: right;\n",
       "    }\n",
       "</style>\n",
       "<table border=\"1\" class=\"dataframe\">\n",
       "  <thead>\n",
       "    <tr style=\"text-align: right;\">\n",
       "      <th></th>\n",
       "      <th></th>\n",
       "      <th></th>\n",
       "      <th></th>\n",
       "      <th>age</th>\n",
       "      <th>country</th>\n",
       "    </tr>\n",
       "    <tr>\n",
       "      <th>class</th>\n",
       "      <th>sex</th>\n",
       "      <th>source</th>\n",
       "      <th>browser</th>\n",
       "      <th></th>\n",
       "      <th></th>\n",
       "    </tr>\n",
       "  </thead>\n",
       "  <tbody>\n",
       "    <tr>\n",
       "      <th rowspan=\"30\" valign=\"top\">0</th>\n",
       "      <th rowspan=\"15\" valign=\"top\">F</th>\n",
       "      <th rowspan=\"5\" valign=\"top\">Ads</th>\n",
       "      <th>Chrome</th>\n",
       "      <td>7184</td>\n",
       "      <td>7184</td>\n",
       "    </tr>\n",
       "    <tr>\n",
       "      <th>FireFox</th>\n",
       "      <td>2953</td>\n",
       "      <td>2953</td>\n",
       "    </tr>\n",
       "    <tr>\n",
       "      <th>IE</th>\n",
       "      <td>4466</td>\n",
       "      <td>4466</td>\n",
       "    </tr>\n",
       "    <tr>\n",
       "      <th>Opera</th>\n",
       "      <td>413</td>\n",
       "      <td>413</td>\n",
       "    </tr>\n",
       "    <tr>\n",
       "      <th>Safari</th>\n",
       "      <td>2917</td>\n",
       "      <td>2917</td>\n",
       "    </tr>\n",
       "    <tr>\n",
       "      <th rowspan=\"5\" valign=\"top\">Direct</th>\n",
       "      <th>Chrome</th>\n",
       "      <td>3741</td>\n",
       "      <td>3741</td>\n",
       "    </tr>\n",
       "    <tr>\n",
       "      <th>FireFox</th>\n",
       "      <td>1465</td>\n",
       "      <td>1465</td>\n",
       "    </tr>\n",
       "    <tr>\n",
       "      <th>IE</th>\n",
       "      <td>2222</td>\n",
       "      <td>2222</td>\n",
       "    </tr>\n",
       "    <tr>\n",
       "      <th>Opera</th>\n",
       "      <td>218</td>\n",
       "      <td>218</td>\n",
       "    </tr>\n",
       "    <tr>\n",
       "      <th>Safari</th>\n",
       "      <td>1450</td>\n",
       "      <td>1450</td>\n",
       "    </tr>\n",
       "    <tr>\n",
       "      <th rowspan=\"5\" valign=\"top\">SEO</th>\n",
       "      <th>Chrome</th>\n",
       "      <td>7370</td>\n",
       "      <td>7370</td>\n",
       "    </tr>\n",
       "    <tr>\n",
       "      <th>FireFox</th>\n",
       "      <td>2931</td>\n",
       "      <td>2931</td>\n",
       "    </tr>\n",
       "    <tr>\n",
       "      <th>IE</th>\n",
       "      <td>4414</td>\n",
       "      <td>4414</td>\n",
       "    </tr>\n",
       "    <tr>\n",
       "      <th>Opera</th>\n",
       "      <td>466</td>\n",
       "      <td>466</td>\n",
       "    </tr>\n",
       "    <tr>\n",
       "      <th>Safari</th>\n",
       "      <td>3092</td>\n",
       "      <td>3092</td>\n",
       "    </tr>\n",
       "    <tr>\n",
       "      <th rowspan=\"15\" valign=\"top\">M</th>\n",
       "      <th rowspan=\"5\" valign=\"top\">Ads</th>\n",
       "      <th>Chrome</th>\n",
       "      <td>10138</td>\n",
       "      <td>10138</td>\n",
       "    </tr>\n",
       "    <tr>\n",
       "      <th>FireFox</th>\n",
       "      <td>4170</td>\n",
       "      <td>4170</td>\n",
       "    </tr>\n",
       "    <tr>\n",
       "      <th>IE</th>\n",
       "      <td>6082</td>\n",
       "      <td>6082</td>\n",
       "    </tr>\n",
       "    <tr>\n",
       "      <th>Opera</th>\n",
       "      <td>660</td>\n",
       "      <td>660</td>\n",
       "    </tr>\n",
       "    <tr>\n",
       "      <th>Safari</th>\n",
       "      <td>4126</td>\n",
       "      <td>4126</td>\n",
       "    </tr>\n",
       "    <tr>\n",
       "      <th rowspan=\"5\" valign=\"top\">Direct</th>\n",
       "      <th>Chrome</th>\n",
       "      <td>5115</td>\n",
       "      <td>5115</td>\n",
       "    </tr>\n",
       "    <tr>\n",
       "      <th>FireFox</th>\n",
       "      <td>2067</td>\n",
       "      <td>2067</td>\n",
       "    </tr>\n",
       "    <tr>\n",
       "      <th>IE</th>\n",
       "      <td>3086</td>\n",
       "      <td>3086</td>\n",
       "    </tr>\n",
       "    <tr>\n",
       "      <th>Opera</th>\n",
       "      <td>306</td>\n",
       "      <td>306</td>\n",
       "    </tr>\n",
       "    <tr>\n",
       "      <th>Safari</th>\n",
       "      <td>2011</td>\n",
       "      <td>2011</td>\n",
       "    </tr>\n",
       "    <tr>\n",
       "      <th rowspan=\"5\" valign=\"top\">SEO</th>\n",
       "      <th>Chrome</th>\n",
       "      <td>10266</td>\n",
       "      <td>10266</td>\n",
       "    </tr>\n",
       "    <tr>\n",
       "      <th>FireFox</th>\n",
       "      <td>4183</td>\n",
       "      <td>4183</td>\n",
       "    </tr>\n",
       "    <tr>\n",
       "      <th>IE</th>\n",
       "      <td>6359</td>\n",
       "      <td>6359</td>\n",
       "    </tr>\n",
       "    <tr>\n",
       "      <th>Opera</th>\n",
       "      <td>640</td>\n",
       "      <td>640</td>\n",
       "    </tr>\n",
       "    <tr>\n",
       "      <th>Safari</th>\n",
       "      <td>4224</td>\n",
       "      <td>4224</td>\n",
       "    </tr>\n",
       "    <tr>\n",
       "      <th rowspan=\"30\" valign=\"top\">1</th>\n",
       "      <th rowspan=\"15\" valign=\"top\">F</th>\n",
       "      <th rowspan=\"5\" valign=\"top\">Ads</th>\n",
       "      <th>Chrome</th>\n",
       "      <td>794</td>\n",
       "      <td>794</td>\n",
       "    </tr>\n",
       "    <tr>\n",
       "      <th>FireFox</th>\n",
       "      <td>325</td>\n",
       "      <td>325</td>\n",
       "    </tr>\n",
       "    <tr>\n",
       "      <th>IE</th>\n",
       "      <td>441</td>\n",
       "      <td>441</td>\n",
       "    </tr>\n",
       "    <tr>\n",
       "      <th>Opera</th>\n",
       "      <td>15</td>\n",
       "      <td>15</td>\n",
       "    </tr>\n",
       "    <tr>\n",
       "      <th>Safari</th>\n",
       "      <td>218</td>\n",
       "      <td>218</td>\n",
       "    </tr>\n",
       "    <tr>\n",
       "      <th rowspan=\"5\" valign=\"top\">Direct</th>\n",
       "      <th>Chrome</th>\n",
       "      <td>499</td>\n",
       "      <td>499</td>\n",
       "    </tr>\n",
       "    <tr>\n",
       "      <th>FireFox</th>\n",
       "      <td>135</td>\n",
       "      <td>135</td>\n",
       "    </tr>\n",
       "    <tr>\n",
       "      <th>IE</th>\n",
       "      <td>194</td>\n",
       "      <td>194</td>\n",
       "    </tr>\n",
       "    <tr>\n",
       "      <th>Opera</th>\n",
       "      <td>19</td>\n",
       "      <td>19</td>\n",
       "    </tr>\n",
       "    <tr>\n",
       "      <th>Safari</th>\n",
       "      <td>148</td>\n",
       "      <td>148</td>\n",
       "    </tr>\n",
       "    <tr>\n",
       "      <th rowspan=\"5\" valign=\"top\">SEO</th>\n",
       "      <th>Chrome</th>\n",
       "      <td>656</td>\n",
       "      <td>656</td>\n",
       "    </tr>\n",
       "    <tr>\n",
       "      <th>FireFox</th>\n",
       "      <td>339</td>\n",
       "      <td>339</td>\n",
       "    </tr>\n",
       "    <tr>\n",
       "      <th>IE</th>\n",
       "      <td>382</td>\n",
       "      <td>382</td>\n",
       "    </tr>\n",
       "    <tr>\n",
       "      <th>Opera</th>\n",
       "      <td>53</td>\n",
       "      <td>53</td>\n",
       "    </tr>\n",
       "    <tr>\n",
       "      <th>Safari</th>\n",
       "      <td>354</td>\n",
       "      <td>354</td>\n",
       "    </tr>\n",
       "    <tr>\n",
       "      <th rowspan=\"15\" valign=\"top\">M</th>\n",
       "      <th rowspan=\"5\" valign=\"top\">Ads</th>\n",
       "      <th>Chrome</th>\n",
       "      <td>1091</td>\n",
       "      <td>1091</td>\n",
       "    </tr>\n",
       "    <tr>\n",
       "      <th>FireFox</th>\n",
       "      <td>402</td>\n",
       "      <td>402</td>\n",
       "    </tr>\n",
       "    <tr>\n",
       "      <th>IE</th>\n",
       "      <td>519</td>\n",
       "      <td>519</td>\n",
       "    </tr>\n",
       "    <tr>\n",
       "      <th>Opera</th>\n",
       "      <td>68</td>\n",
       "      <td>68</td>\n",
       "    </tr>\n",
       "    <tr>\n",
       "      <th>Safari</th>\n",
       "      <td>479</td>\n",
       "      <td>479</td>\n",
       "    </tr>\n",
       "    <tr>\n",
       "      <th rowspan=\"5\" valign=\"top\">Direct</th>\n",
       "      <th>Chrome</th>\n",
       "      <td>713</td>\n",
       "      <td>713</td>\n",
       "    </tr>\n",
       "    <tr>\n",
       "      <th>FireFox</th>\n",
       "      <td>206</td>\n",
       "      <td>206</td>\n",
       "    </tr>\n",
       "    <tr>\n",
       "      <th>IE</th>\n",
       "      <td>383</td>\n",
       "      <td>383</td>\n",
       "    </tr>\n",
       "    <tr>\n",
       "      <th>Opera</th>\n",
       "      <td>47</td>\n",
       "      <td>47</td>\n",
       "    </tr>\n",
       "    <tr>\n",
       "      <th>Safari</th>\n",
       "      <td>217</td>\n",
       "      <td>217</td>\n",
       "    </tr>\n",
       "    <tr>\n",
       "      <th rowspan=\"5\" valign=\"top\">SEO</th>\n",
       "      <th>Chrome</th>\n",
       "      <td>1085</td>\n",
       "      <td>1085</td>\n",
       "    </tr>\n",
       "    <tr>\n",
       "      <th>FireFox</th>\n",
       "      <td>439</td>\n",
       "      <td>439</td>\n",
       "    </tr>\n",
       "    <tr>\n",
       "      <th>IE</th>\n",
       "      <td>590</td>\n",
       "      <td>590</td>\n",
       "    </tr>\n",
       "    <tr>\n",
       "      <th>Opera</th>\n",
       "      <td>70</td>\n",
       "      <td>70</td>\n",
       "    </tr>\n",
       "    <tr>\n",
       "      <th>Safari</th>\n",
       "      <td>384</td>\n",
       "      <td>384</td>\n",
       "    </tr>\n",
       "  </tbody>\n",
       "</table>\n",
       "</div>"
      ],
      "text/plain": [
       "                            age  country\n",
       "class sex source browser                \n",
       "0     F   Ads    Chrome    7184     7184\n",
       "                 FireFox   2953     2953\n",
       "                 IE        4466     4466\n",
       "                 Opera      413      413\n",
       "                 Safari    2917     2917\n",
       "          Direct Chrome    3741     3741\n",
       "                 FireFox   1465     1465\n",
       "                 IE        2222     2222\n",
       "                 Opera      218      218\n",
       "                 Safari    1450     1450\n",
       "          SEO    Chrome    7370     7370\n",
       "                 FireFox   2931     2931\n",
       "                 IE        4414     4414\n",
       "                 Opera      466      466\n",
       "                 Safari    3092     3092\n",
       "      M   Ads    Chrome   10138    10138\n",
       "                 FireFox   4170     4170\n",
       "                 IE        6082     6082\n",
       "                 Opera      660      660\n",
       "                 Safari    4126     4126\n",
       "          Direct Chrome    5115     5115\n",
       "                 FireFox   2067     2067\n",
       "                 IE        3086     3086\n",
       "                 Opera      306      306\n",
       "                 Safari    2011     2011\n",
       "          SEO    Chrome   10266    10266\n",
       "                 FireFox   4183     4183\n",
       "                 IE        6359     6359\n",
       "                 Opera      640      640\n",
       "                 Safari    4224     4224\n",
       "1     F   Ads    Chrome     794      794\n",
       "                 FireFox    325      325\n",
       "                 IE         441      441\n",
       "                 Opera       15       15\n",
       "                 Safari     218      218\n",
       "          Direct Chrome     499      499\n",
       "                 FireFox    135      135\n",
       "                 IE         194      194\n",
       "                 Opera       19       19\n",
       "                 Safari     148      148\n",
       "          SEO    Chrome     656      656\n",
       "                 FireFox    339      339\n",
       "                 IE         382      382\n",
       "                 Opera       53       53\n",
       "                 Safari     354      354\n",
       "      M   Ads    Chrome    1091     1091\n",
       "                 FireFox    402      402\n",
       "                 IE         519      519\n",
       "                 Opera       68       68\n",
       "                 Safari     479      479\n",
       "          Direct Chrome     713      713\n",
       "                 FireFox    206      206\n",
       "                 IE         383      383\n",
       "                 Opera       47       47\n",
       "                 Safari     217      217\n",
       "          SEO    Chrome    1085     1085\n",
       "                 FireFox    439      439\n",
       "                 IE         590      590\n",
       "                 Opera       70       70\n",
       "                 Safari     384      384"
      ]
     },
     "execution_count": 26,
     "metadata": {},
     "output_type": "execute_result"
    }
   ],
   "source": [
    "# Explore class, sex, age, country, browser, source stats\n",
    "df_fraud[['class','sex','age','country','browser','source']].groupby(['class','sex','source','browser']).count()"
   ]
  },
  {
   "cell_type": "markdown",
   "metadata": {},
   "source": [
    "Above table looks good, as we don't see much imbalance by sex. Sex is not effecting more on Fraud/Non-Fraud activity.\n",
    "And also, data is dsitributed normally irrespective of Source, Browser. You may see people using using chrome more often than other browsers but it is same across Fraud/Non-Fraud. So i think source won't have much importance in fraud activity."
   ]
  },
  {
   "cell_type": "code",
   "execution_count": 25,
   "metadata": {},
   "outputs": [
    {
     "data": {
      "text/html": [
       "<div>\n",
       "<style scoped>\n",
       "    .dataframe tbody tr th:only-of-type {\n",
       "        vertical-align: middle;\n",
       "    }\n",
       "\n",
       "    .dataframe tbody tr th {\n",
       "        vertical-align: top;\n",
       "    }\n",
       "\n",
       "    .dataframe thead th {\n",
       "        text-align: right;\n",
       "    }\n",
       "</style>\n",
       "<table border=\"1\" class=\"dataframe\">\n",
       "  <thead>\n",
       "    <tr style=\"text-align: right;\">\n",
       "      <th>class</th>\n",
       "      <th>0</th>\n",
       "      <th>1</th>\n",
       "    </tr>\n",
       "    <tr>\n",
       "      <th>age</th>\n",
       "      <th></th>\n",
       "      <th></th>\n",
       "    </tr>\n",
       "  </thead>\n",
       "  <tbody>\n",
       "    <tr>\n",
       "      <th>18</th>\n",
       "      <td>1987</td>\n",
       "      <td>215</td>\n",
       "    </tr>\n",
       "    <tr>\n",
       "      <th>19</th>\n",
       "      <td>2111</td>\n",
       "      <td>199</td>\n",
       "    </tr>\n",
       "    <tr>\n",
       "      <th>20</th>\n",
       "      <td>2427</td>\n",
       "      <td>239</td>\n",
       "    </tr>\n",
       "    <tr>\n",
       "      <th>21</th>\n",
       "      <td>2752</td>\n",
       "      <td>237</td>\n",
       "    </tr>\n",
       "    <tr>\n",
       "      <th>22</th>\n",
       "      <td>2950</td>\n",
       "      <td>301</td>\n",
       "    </tr>\n",
       "    <tr>\n",
       "      <th>23</th>\n",
       "      <td>3208</td>\n",
       "      <td>391</td>\n",
       "    </tr>\n",
       "    <tr>\n",
       "      <th>24</th>\n",
       "      <td>3538</td>\n",
       "      <td>397</td>\n",
       "    </tr>\n",
       "    <tr>\n",
       "      <th>25</th>\n",
       "      <td>3816</td>\n",
       "      <td>327</td>\n",
       "    </tr>\n",
       "    <tr>\n",
       "      <th>26</th>\n",
       "      <td>4117</td>\n",
       "      <td>343</td>\n",
       "    </tr>\n",
       "    <tr>\n",
       "      <th>27</th>\n",
       "      <td>4300</td>\n",
       "      <td>393</td>\n",
       "    </tr>\n",
       "    <tr>\n",
       "      <th>28</th>\n",
       "      <td>4517</td>\n",
       "      <td>485</td>\n",
       "    </tr>\n",
       "    <tr>\n",
       "      <th>29</th>\n",
       "      <td>4557</td>\n",
       "      <td>464</td>\n",
       "    </tr>\n",
       "    <tr>\n",
       "      <th>30</th>\n",
       "      <td>4615</td>\n",
       "      <td>459</td>\n",
       "    </tr>\n",
       "    <tr>\n",
       "      <th>31</th>\n",
       "      <td>4735</td>\n",
       "      <td>493</td>\n",
       "    </tr>\n",
       "    <tr>\n",
       "      <th>32</th>\n",
       "      <td>4772</td>\n",
       "      <td>568</td>\n",
       "    </tr>\n",
       "    <tr>\n",
       "      <th>33</th>\n",
       "      <td>4691</td>\n",
       "      <td>502</td>\n",
       "    </tr>\n",
       "    <tr>\n",
       "      <th>34</th>\n",
       "      <td>4562</td>\n",
       "      <td>444</td>\n",
       "    </tr>\n",
       "    <tr>\n",
       "      <th>35</th>\n",
       "      <td>4479</td>\n",
       "      <td>473</td>\n",
       "    </tr>\n",
       "    <tr>\n",
       "      <th>36</th>\n",
       "      <td>4244</td>\n",
       "      <td>580</td>\n",
       "    </tr>\n",
       "    <tr>\n",
       "      <th>37</th>\n",
       "      <td>4110</td>\n",
       "      <td>393</td>\n",
       "    </tr>\n",
       "    <tr>\n",
       "      <th>38</th>\n",
       "      <td>3795</td>\n",
       "      <td>374</td>\n",
       "    </tr>\n",
       "    <tr>\n",
       "      <th>39</th>\n",
       "      <td>3575</td>\n",
       "      <td>382</td>\n",
       "    </tr>\n",
       "    <tr>\n",
       "      <th>40</th>\n",
       "      <td>3253</td>\n",
       "      <td>381</td>\n",
       "    </tr>\n",
       "    <tr>\n",
       "      <th>41</th>\n",
       "      <td>3004</td>\n",
       "      <td>325</td>\n",
       "    </tr>\n",
       "    <tr>\n",
       "      <th>42</th>\n",
       "      <td>2701</td>\n",
       "      <td>324</td>\n",
       "    </tr>\n",
       "    <tr>\n",
       "      <th>43</th>\n",
       "      <td>2460</td>\n",
       "      <td>226</td>\n",
       "    </tr>\n",
       "    <tr>\n",
       "      <th>44</th>\n",
       "      <td>2104</td>\n",
       "      <td>211</td>\n",
       "    </tr>\n",
       "    <tr>\n",
       "      <th>45</th>\n",
       "      <td>1887</td>\n",
       "      <td>192</td>\n",
       "    </tr>\n",
       "    <tr>\n",
       "      <th>46</th>\n",
       "      <td>1551</td>\n",
       "      <td>123</td>\n",
       "    </tr>\n",
       "    <tr>\n",
       "      <th>47</th>\n",
       "      <td>1443</td>\n",
       "      <td>141</td>\n",
       "    </tr>\n",
       "    <tr>\n",
       "      <th>48</th>\n",
       "      <td>1252</td>\n",
       "      <td>141</td>\n",
       "    </tr>\n",
       "    <tr>\n",
       "      <th>49</th>\n",
       "      <td>1018</td>\n",
       "      <td>61</td>\n",
       "    </tr>\n",
       "    <tr>\n",
       "      <th>50</th>\n",
       "      <td>822</td>\n",
       "      <td>105</td>\n",
       "    </tr>\n",
       "    <tr>\n",
       "      <th>51</th>\n",
       "      <td>653</td>\n",
       "      <td>67</td>\n",
       "    </tr>\n",
       "    <tr>\n",
       "      <th>52</th>\n",
       "      <td>600</td>\n",
       "      <td>62</td>\n",
       "    </tr>\n",
       "    <tr>\n",
       "      <th>53</th>\n",
       "      <td>471</td>\n",
       "      <td>50</td>\n",
       "    </tr>\n",
       "    <tr>\n",
       "      <th>54</th>\n",
       "      <td>412</td>\n",
       "      <td>48</td>\n",
       "    </tr>\n",
       "    <tr>\n",
       "      <th>55</th>\n",
       "      <td>293</td>\n",
       "      <td>36</td>\n",
       "    </tr>\n",
       "    <tr>\n",
       "      <th>56</th>\n",
       "      <td>228</td>\n",
       "      <td>28</td>\n",
       "    </tr>\n",
       "    <tr>\n",
       "      <th>57</th>\n",
       "      <td>170</td>\n",
       "      <td>18</td>\n",
       "    </tr>\n",
       "    <tr>\n",
       "      <th>58</th>\n",
       "      <td>151</td>\n",
       "      <td>25</td>\n",
       "    </tr>\n",
       "    <tr>\n",
       "      <th>59</th>\n",
       "      <td>116</td>\n",
       "      <td>5</td>\n",
       "    </tr>\n",
       "    <tr>\n",
       "      <th>60</th>\n",
       "      <td>78</td>\n",
       "      <td>5</td>\n",
       "    </tr>\n",
       "    <tr>\n",
       "      <th>61</th>\n",
       "      <td>58</td>\n",
       "      <td>13</td>\n",
       "    </tr>\n",
       "    <tr>\n",
       "      <th>62</th>\n",
       "      <td>48</td>\n",
       "      <td>2</td>\n",
       "    </tr>\n",
       "    <tr>\n",
       "      <th>63</th>\n",
       "      <td>36</td>\n",
       "      <td>15</td>\n",
       "    </tr>\n",
       "    <tr>\n",
       "      <th>64</th>\n",
       "      <td>23</td>\n",
       "      <td>1</td>\n",
       "    </tr>\n",
       "    <tr>\n",
       "      <th>65</th>\n",
       "      <td>17</td>\n",
       "      <td>0</td>\n",
       "    </tr>\n",
       "    <tr>\n",
       "      <th>66</th>\n",
       "      <td>8</td>\n",
       "      <td>1</td>\n",
       "    </tr>\n",
       "    <tr>\n",
       "      <th>67</th>\n",
       "      <td>5</td>\n",
       "      <td>0</td>\n",
       "    </tr>\n",
       "    <tr>\n",
       "      <th>68</th>\n",
       "      <td>5</td>\n",
       "      <td>0</td>\n",
       "    </tr>\n",
       "    <tr>\n",
       "      <th>69</th>\n",
       "      <td>4</td>\n",
       "      <td>0</td>\n",
       "    </tr>\n",
       "    <tr>\n",
       "      <th>70</th>\n",
       "      <td>1</td>\n",
       "      <td>0</td>\n",
       "    </tr>\n",
       "    <tr>\n",
       "      <th>71</th>\n",
       "      <td>1</td>\n",
       "      <td>0</td>\n",
       "    </tr>\n",
       "    <tr>\n",
       "      <th>72</th>\n",
       "      <td>2</td>\n",
       "      <td>0</td>\n",
       "    </tr>\n",
       "    <tr>\n",
       "      <th>73</th>\n",
       "      <td>1</td>\n",
       "      <td>0</td>\n",
       "    </tr>\n",
       "    <tr>\n",
       "      <th>76</th>\n",
       "      <td>1</td>\n",
       "      <td>0</td>\n",
       "    </tr>\n",
       "  </tbody>\n",
       "</table>\n",
       "</div>"
      ],
      "text/plain": [
       "class     0    1\n",
       "age             \n",
       "18     1987  215\n",
       "19     2111  199\n",
       "20     2427  239\n",
       "21     2752  237\n",
       "22     2950  301\n",
       "23     3208  391\n",
       "24     3538  397\n",
       "25     3816  327\n",
       "26     4117  343\n",
       "27     4300  393\n",
       "28     4517  485\n",
       "29     4557  464\n",
       "30     4615  459\n",
       "31     4735  493\n",
       "32     4772  568\n",
       "33     4691  502\n",
       "34     4562  444\n",
       "35     4479  473\n",
       "36     4244  580\n",
       "37     4110  393\n",
       "38     3795  374\n",
       "39     3575  382\n",
       "40     3253  381\n",
       "41     3004  325\n",
       "42     2701  324\n",
       "43     2460  226\n",
       "44     2104  211\n",
       "45     1887  192\n",
       "46     1551  123\n",
       "47     1443  141\n",
       "48     1252  141\n",
       "49     1018   61\n",
       "50      822  105\n",
       "51      653   67\n",
       "52      600   62\n",
       "53      471   50\n",
       "54      412   48\n",
       "55      293   36\n",
       "56      228   28\n",
       "57      170   18\n",
       "58      151   25\n",
       "59      116    5\n",
       "60       78    5\n",
       "61       58   13\n",
       "62       48    2\n",
       "63       36   15\n",
       "64       23    1\n",
       "65       17    0\n",
       "66        8    1\n",
       "67        5    0\n",
       "68        5    0\n",
       "69        4    0\n",
       "70        1    0\n",
       "71        1    0\n",
       "72        2    0\n",
       "73        1    0\n",
       "76        1    0"
      ]
     },
     "execution_count": 25,
     "metadata": {},
     "output_type": "execute_result"
    }
   ],
   "source": [
    "# Now let's explore Age and class relation, to see if we can find something\n",
    "pd.crosstab(df_fraud.age,df_fraud['class'])"
   ]
  },
  {
   "cell_type": "markdown",
   "metadata": {},
   "source": [
    "If we look at here, age impacts more on transactions (includes Fraud and Non fraud). Trasactions more when you are at young age to mid 30's and then gradually decreases. It is some thing we should take into consideration and apply our transformations on age column."
   ]
  },
  {
   "cell_type": "markdown",
   "metadata": {},
   "source": [
    "### Data Visualization"
   ]
  },
  {
   "cell_type": "code",
   "execution_count": 27,
   "metadata": {},
   "outputs": [
    {
     "data": {
      "text/plain": [
       "Text(0,0.5,'Frequency')"
      ]
     },
     "execution_count": 27,
     "metadata": {},
     "output_type": "execute_result"
    },
    {
     "data": {
      "image/png": "[encoded data removed]",
      "text/plain": [
       "<Figure size 1440x360 with 2 Axes>"
      ]
     },
     "metadata": {
      "needs_background": "light"
     },
     "output_type": "display_data"
    }
   ],
   "source": [
    "# Look for data distributions of Purchase_value\n",
    "\n",
    "f, hist_fig=plt.subplots(1,2, figsize=(20,5))\n",
    "\n",
    "sns.distplot(df_fraud['purchase_value'], hist=True, kde=True, \n",
    "             bins=int(30), color = 'orange', \n",
    "             hist_kws={'edgecolor':'skyblue'},\n",
    "             kde_kws={'linewidth': 2}, ax=hist_fig[0])\n",
    "hist_fig[0].set_title('Purchase Histogram - Right skewed 0.67')\n",
    "hist_fig[0].set_xlabel('Bins')\n",
    "hist_fig[0].set_ylabel('Frequency')\n",
    "\n",
    "sns.distplot(df_fraud.age, hist=True, kde=True, \n",
    "             bins=int(30), color = 'green', \n",
    "             hist_kws={'edgecolor':'white'},\n",
    "             kde_kws={'linewidth': 2}, ax=hist_fig[1])\n",
    "hist_fig[1].set_title('Age : Histogram - Right skewed 0.42')\n",
    "hist_fig[1].set_xlabel('Bins')\n",
    "hist_fig[1].set_ylabel('Frequency')\n"
   ]
  },
  {
   "cell_type": "markdown",
   "metadata": {},
   "source": [
    "Purchase_value skew is 0.67 and Age skew is 0.42. these both seems right skewed. It would be good if we could see skew as close to as 0. We may have to apply some transformation to have the data, distributed normally. "
   ]
  },
  {
   "cell_type": "code",
   "execution_count": 28,
   "metadata": {},
   "outputs": [
    {
     "data": {
      "text/plain": [
       "0.6732113033206071"
      ]
     },
     "execution_count": 28,
     "metadata": {},
     "output_type": "execute_result"
    }
   ],
   "source": [
    "# Purchase skew\n",
    "df_fraud['purchase_value'].skew()"
   ]
  },
  {
   "cell_type": "code",
   "execution_count": 29,
   "metadata": {},
   "outputs": [
    {
     "data": {
      "text/plain": [
       "0.42893778637508934"
      ]
     },
     "execution_count": 29,
     "metadata": {},
     "output_type": "execute_result"
    }
   ],
   "source": [
    "# Age skew\n",
    "df_fraud.age.skew()"
   ]
  },
  {
   "cell_type": "code",
   "execution_count": 30,
   "metadata": {},
   "outputs": [
    {
     "data": {
      "image/png": "[encoded data removed]",
      "text/plain": [
       "<Figure size 1440x360 with 3 Axes>"
      ]
     },
     "metadata": {
      "needs_background": "light"
     },
     "output_type": "display_data"
    }
   ],
   "source": [
    "# Age and Purchase value outliers detection\n",
    "\n",
    "f, sub_fig=plt.subplots(1,3, figsize=(20,5))\n",
    "\n",
    "sub_fig[0].scatter(df_fraud['purchase_value'],df_fraud.age,c='c', alpha=0.5)\n",
    "sub_fig[0].set_title('Purchase vs Age')\n",
    "sub_fig[0].set_xlabel('Purchase Value')\n",
    "sub_fig[0].set_ylabel('Age')\n",
    "\n",
    "sub_fig[1].boxplot(df_fraud.age)\n",
    "sub_fig[1].set_title('Age : Box plot')\n",
    "\n",
    "sub_fig[2].boxplot(df_fraud['purchase_value'])\n",
    "sub_fig[2].set_title('Purchase Value : Box plot')\n",
    "\n",
    "plt.tight_layout\n",
    "plt.show()"
   ]
  },
  {
   "cell_type": "markdown",
   "metadata": {},
   "source": [
    "It seems Age and Purchase value has outliers, It would be better if we could apply feature engineering to seperate data into bins. Otherwise it may effect our model performance."
   ]
  },
  {
   "cell_type": "code",
   "execution_count": 31,
   "metadata": {},
   "outputs": [],
   "source": [
    "# Initialize a temp data frame and look for some relations of device ids shared, ip address shared, signup time, day, week. \n",
    "# If we find any relation then we can apply to main data frame feature engineering.\n",
    "tmp_df = pd.DataFrame(columns=(\"class\", \"userids_per_deviceid\", \"userids_per_ipaddress\"))\n",
    "tmp_df[\"class\"] = df_fraud[\"class\"]\n",
    "\n",
    "# Count the number of unique user ids associated each device\n",
    "userid_count = df_fraud.groupby(\"device_id\").user_id.count()\n",
    "tmp_df[\"userids_per_deviceid\"] = df_fraud.device_id.apply(lambda x: userid_count[x])\n",
    "\n",
    "# Count the number of unique user ids associated each ip address\n",
    "userid_count = df_fraud.groupby(\"ip_address\").user_id.count()\n",
    "tmp_df[\"userids_per_ipaddress\"] = df_fraud.ip_address.apply(lambda x: userid_count[x])\n",
    "\n",
    "# day of the week\n",
    "tmp_df['signup_time_dow'] = pd.to_datetime(df_fraud['signup_time']).dt.dayofweek\n",
    "tmp_df['purchase_time_dow'] = pd.to_datetime(df_fraud['purchase_time']).dt.dayofweek\n",
    "# week of the year\n",
    "tmp_df['signup_time_week'] = pd.to_datetime(df_fraud['signup_time']).dt.week\n",
    "tmp_df['purchase_time_week'] = pd.to_datetime(df_fraud['purchase_time']).dt.week\n",
    "\n",
    "tmp_df['signup_hour_of_day'] = pd.to_datetime(df_fraud['purchase_time']).dt.hour\n",
    "tmp_df['purchase_hour_of_day'] = pd.to_datetime(df_fraud['signup_time']).dt.hour\n"
   ]
  },
  {
   "cell_type": "code",
   "execution_count": 32,
   "metadata": {},
   "outputs": [
    {
     "name": "stdout",
     "output_type": "stream",
     "text": [
      "<class 'pandas.core.frame.DataFrame'>\n",
      "Int64Index: 120000 entries, 149671 to 46646\n",
      "Data columns (total 9 columns):\n",
      "class                    120000 non-null int64\n",
      "userids_per_deviceid     120000 non-null int64\n",
      "userids_per_ipaddress    120000 non-null int64\n",
      "signup_time_dow          120000 non-null int64\n",
      "purchase_time_dow        120000 non-null int64\n",
      "signup_time_week         120000 non-null int64\n",
      "purchase_time_week       120000 non-null int64\n",
      "signup_hour_of_day       120000 non-null int64\n",
      "purchase_hour_of_day     120000 non-null int64\n",
      "dtypes: int64(9)\n",
      "memory usage: 9.2 MB\n"
     ]
    }
   ],
   "source": [
    "tmp_df.info()"
   ]
  },
  {
   "cell_type": "code",
   "execution_count": 34,
   "metadata": {},
   "outputs": [
    {
     "data": {
      "image/png": "[encoded data removed]",
      "text/plain": [
       "<Figure size 1440x1080 with 9 Axes>"
      ]
     },
     "metadata": {
      "needs_background": "light"
     },
     "output_type": "display_data"
    }
   ],
   "source": [
    "# EXploring little more on age, Purchse value, class, browser, source, deviceids shared, ipaddress shared\n",
    "f, rel_fig=plt.subplots(3,3, figsize=(20,15))\n",
    "\n",
    "sns.countplot(x='sex', hue='class', data=df_fraud,ax=rel_fig[0,0])\n",
    "\n",
    "sns.catplot(x=\"class\", y=\"age\", kind=\"box\", hue='sex', data=df_fraud, ax=rel_fig[0,1]);\n",
    "\n",
    "sns.catplot(x=\"class\", y=\"purchase_value\", kind=\"box\", hue='sex', data=df_fraud, ax=rel_fig[0,2]);\n",
    "\n",
    "#sns.catplot(x=\"class\", y=\"purchase_value\", kind=\"box\", hue='sex', data=df_fraud, ax=rel_fig[1,0]);\n",
    "\n",
    "sns.scatterplot(x=\"purchase_value\", y=\"age\", hue=\"class\", data=df_fraud, ax=rel_fig[1,0]);\n",
    "\n",
    "sns.countplot(x='source', hue='class', data=df_fraud,ax=rel_fig[1,1])\n",
    "\n",
    "sns.countplot(x='browser', hue='class', data=df_fraud,ax=rel_fig[1,2])\n",
    "\n",
    "sns.factorplot(x=\"class\", y=\"userids_per_deviceid\", data=tmp_df, ax=rel_fig[2,0])\n",
    "\n",
    "sns.factorplot(x=\"class\", y=\"userids_per_ipaddress\", data=tmp_df, ax=rel_fig[2,1])\n",
    "\n",
    "h=sns.factorplot(x=\"class\", y=\"time_diff\", data=df_fraud, ax=rel_fig[2,2])\n",
    "\n",
    "plt.close(2)\n",
    "plt.close(3)\n",
    "plt.close(4)\n",
    "plt.close(5)\n",
    "plt.close(6)\n",
    "plt.tight_layout()\n",
    "plt.show()"
   ]
  },
  {
   "cell_type": "markdown",
   "metadata": {},
   "source": [
    "If we look above diagrams, \n",
    "\n",
    "1. Figure 1 - It exaplins the relation between sex and class. Males make up more of the customer base of the company and thus are also involved in more of the fraud cases. It doesn't look like one gender is more likely to participate in fraud though, just that one gender tends to use the site more in general.\n",
    "2. Figure 2, 3 - It explains outliers in Age and purchase values. Here we can see more outliers in exists in Age and Purchase value. It would be better if we could apply feature engineering to seperate the data into bins, so that outlier will be reduced and our model will give better performance.\n",
    "3. Figure 4 - It explains the relationship between purchase value, age, fraud. It doesn't look like purchase value and gender is not effecting more fraudlent activity.\n",
    "4. Figure 5 - It explains the relationship between marketing source and fraud. It doesn't look like any given marketing source is more associated with fraud either. Although there are less direct sources associated with fraud and there are less direct sources overall (fraud and non-fraud) aswell.\n",
    "5. Figure 6 - It explains the relationship between browser used and fraud. Here, user more towards chrome browser but this not effecting anything on fraud/non-fraud activity. \n",
    "6. Figure 7,8 - It explains the relationship between the number of unique user ids assocated with either a single device or a single ip address. These are clearly important correlations. Here it seems that multiple user ids associated with either a unique device id or ip address is a large indicator of fraudulent behaviour.\n",
    "7. Figure 9 - It explains the relationship between the time between sign-up and purchase and fraud. Here small time periods between sign-up and purchase are also strongly impact the fraud.\n"
   ]
  },
  {
   "cell_type": "markdown",
   "metadata": {},
   "source": [
    "Explore in detail on Sign up and Purchase time to find little more relation"
   ]
  },
  {
   "cell_type": "code",
   "execution_count": 35,
   "metadata": {},
   "outputs": [
    {
     "data": {
      "image/png": "[encoded data removed]",
      "text/plain": [
       "<Figure size 1440x720 with 6 Axes>"
      ]
     },
     "metadata": {
      "needs_background": "light"
     },
     "output_type": "display_data"
    }
   ],
   "source": [
    "f, time_fig=plt.subplots(2,3, figsize=(20,10))\n",
    "\n",
    "sns.countplot(x='signup_hour_of_day', hue='class', data=tmp_df, ax=time_fig[0,0])\n",
    "sns.countplot(x='signup_time_dow', hue='class', data=tmp_df, ax=time_fig[0,1])\n",
    "sns.countplot(x='signup_time_week', hue='class', data=tmp_df, ax=time_fig[0,2])\n",
    "\n",
    "sns.countplot(x='purchase_hour_of_day', hue='class', data=tmp_df, ax=time_fig[1,0])\n",
    "sns.countplot(x='purchase_time_dow', hue='class', data=tmp_df, ax=time_fig[1,1])\n",
    "sns.countplot(x='purchase_time_week', hue='class', data=tmp_df, ax=time_fig[1,2])\n",
    "\n",
    "plt.close(2)\n",
    "plt.close(3)\n",
    "plt.tight_layout()\n",
    "plt.show()\n"
   ]
  },
  {
   "cell_type": "markdown",
   "metadata": {},
   "source": [
    "When we look at above diagrams, Explains the relationship between purchase time, Signup time (hour of the day, day of the week, week of the year) and fraud. It looks like fraud occurs pretty regularly throughout the hours of the day and days of the week. I don't think there is something unsual we see here, irrespective fo time fraud occuring.\n",
    "However, there big spikes of fraud in starting of the year.\n",
    "\n",
    "This insight will be helpfulto  alert the organization for fraud during the first three weeks of the year."
   ]
  },
  {
   "cell_type": "markdown",
   "metadata": {},
   "source": [
    "#### Feature Engineering"
   ]
  },
  {
   "cell_type": "markdown",
   "metadata": {},
   "source": [
    "Here, I'll list all the new features that I'll add in this section.\n",
    "\n",
    "1. Multiple user ids for a unique device/ip address  - As we have seen clearly very good indicator of identifying fraud\n",
    "2. Time diff between sign-up and purchase in seconds - It has already added to our data set\n",
    "3. We have seen Age column outliers and it has right skewed. It would be better if we could apply some binning transformation, so that model understand range of Ages very well rather than individual vlaues impact and to distribute the data normally.\n",
    "4. Also we have outliers in Purchase value column, few transactions have very high transaction amount. It would be better if we could apply some binning here.\n",
    "5. One-hot-encoded features for each country"
   ]
  },
  {
   "cell_type": "code",
   "execution_count": 36,
   "metadata": {},
   "outputs": [],
   "source": [
    "# Count the number of unique user ids associated each device\n",
    "df_fraud['userids_per_ipaddress'] = df_fraud.groupby('ip_address')['user_id'].transform('count')\n",
    "\n",
    "# Count the number of unique user ids associated each ip address\n",
    "df_fraud['userids_per_deviceid'] = df_fraud.groupby('device_id')['user_id'].transform('count')"
   ]
  },
  {
   "cell_type": "code",
   "execution_count": 37,
   "metadata": {},
   "outputs": [
    {
     "data": {
      "text/plain": [
       "<matplotlib.axes._subplots.AxesSubplot at 0x21308987ac8>"
      ]
     },
     "execution_count": 37,
     "metadata": {},
     "output_type": "execute_result"
    },
    {
     "data": {
      "image/png": "[encoded data removed]",
      "text/plain": [
       "<Figure size 432x288 with 1 Axes>"
      ]
     },
     "metadata": {
      "needs_background": "light"
     },
     "output_type": "display_data"
    }
   ],
   "source": [
    "# Applying binning to reduce outliers\n",
    "pd.qcut(df_fraud.age,3,labels=['18-30Age','30-50Age','41+']).value_counts().plot(kind='box')"
   ]
  },
  {
   "cell_type": "code",
   "execution_count": 38,
   "metadata": {},
   "outputs": [],
   "source": [
    "# Adding age_bin transformation to df_fraud data frame\n",
    "df_fraud['age_bin']= pd.qcut(df_fraud.age,3,labels=['Age18-30','Age30-50','Age41+'])"
   ]
  },
  {
   "cell_type": "code",
   "execution_count": 39,
   "metadata": {},
   "outputs": [
    {
     "data": {
      "text/plain": [
       "<matplotlib.axes._subplots.AxesSubplot at 0x21309101d68>"
      ]
     },
     "execution_count": 39,
     "metadata": {},
     "output_type": "execute_result"
    },
    {
     "data": {
      "image/png": "[encoded data removed]",
      "text/plain": [
       "<Figure size 432x288 with 1 Axes>"
      ]
     },
     "metadata": {
      "needs_background": "light"
     },
     "output_type": "display_data"
    }
   ],
   "source": [
    "# Applying binning to purchase_value to reduce outliers\n",
    "pd.qcut(df_fraud['purchase_value'],4,labels=['low','medium','high','very_high']).value_counts().plot(kind='box')"
   ]
  },
  {
   "cell_type": "code",
   "execution_count": 40,
   "metadata": {},
   "outputs": [],
   "source": [
    "# Adding purchase_bin transformation to df_fraud data frame\n",
    "df_fraud['purchase_bin']=pd.qcut(df_fraud['purchase_value'],4,labels=['low','medium','high','very_high'])#.value_counts().plot(kind='box')"
   ]
  },
  {
   "cell_type": "code",
   "execution_count": 41,
   "metadata": {},
   "outputs": [
    {
     "data": {
      "text/html": [
       "<div>\n",
       "<style scoped>\n",
       "    .dataframe tbody tr th:only-of-type {\n",
       "        vertical-align: middle;\n",
       "    }\n",
       "\n",
       "    .dataframe tbody tr th {\n",
       "        vertical-align: top;\n",
       "    }\n",
       "\n",
       "    .dataframe thead th {\n",
       "        text-align: right;\n",
       "    }\n",
       "</style>\n",
       "<table border=\"1\" class=\"dataframe\">\n",
       "  <thead>\n",
       "    <tr style=\"text-align: right;\">\n",
       "      <th></th>\n",
       "      <th>user_id</th>\n",
       "      <th>signup_time</th>\n",
       "      <th>purchase_time</th>\n",
       "      <th>purchase_value</th>\n",
       "      <th>device_id</th>\n",
       "      <th>source</th>\n",
       "      <th>browser</th>\n",
       "      <th>sex</th>\n",
       "      <th>age</th>\n",
       "      <th>ip_address</th>\n",
       "      <th>class</th>\n",
       "      <th>country</th>\n",
       "      <th>time_diff</th>\n",
       "      <th>userids_per_ipaddress</th>\n",
       "      <th>userids_per_deviceid</th>\n",
       "      <th>age_bin</th>\n",
       "      <th>purchase_bin</th>\n",
       "    </tr>\n",
       "  </thead>\n",
       "  <tbody>\n",
       "    <tr>\n",
       "      <th>149671</th>\n",
       "      <td>285108</td>\n",
       "      <td>2015-07-15 04:36:00</td>\n",
       "      <td>2015-09-10 14:17:00</td>\n",
       "      <td>31</td>\n",
       "      <td>HZAKVUFTDOSFD</td>\n",
       "      <td>Direct</td>\n",
       "      <td>Chrome</td>\n",
       "      <td>M</td>\n",
       "      <td>49</td>\n",
       "      <td>2818400139</td>\n",
       "      <td>0</td>\n",
       "      <td>United States</td>\n",
       "      <td>34860</td>\n",
       "      <td>1</td>\n",
       "      <td>2</td>\n",
       "      <td>Age41+</td>\n",
       "      <td>medium</td>\n",
       "    </tr>\n",
       "    <tr>\n",
       "      <th>15611</th>\n",
       "      <td>131009</td>\n",
       "      <td>2015-01-24 12:29:00</td>\n",
       "      <td>2015-04-13 04:53:00</td>\n",
       "      <td>31</td>\n",
       "      <td>XGQAJSOUJIZCC</td>\n",
       "      <td>SEO</td>\n",
       "      <td>IE</td>\n",
       "      <td>F</td>\n",
       "      <td>21</td>\n",
       "      <td>3251268287</td>\n",
       "      <td>0</td>\n",
       "      <td>United Kingdom</td>\n",
       "      <td>59040</td>\n",
       "      <td>1</td>\n",
       "      <td>1</td>\n",
       "      <td>Age18-30</td>\n",
       "      <td>medium</td>\n",
       "    </tr>\n",
       "  </tbody>\n",
       "</table>\n",
       "</div>"
      ],
      "text/plain": [
       "        user_id         signup_time       purchase_time  purchase_value  \\\n",
       "149671   285108 2015-07-15 04:36:00 2015-09-10 14:17:00              31   \n",
       "15611    131009 2015-01-24 12:29:00 2015-04-13 04:53:00              31   \n",
       "\n",
       "            device_id  source browser sex  age  ip_address  class  \\\n",
       "149671  HZAKVUFTDOSFD  Direct  Chrome   M   49  2818400139      0   \n",
       "15611   XGQAJSOUJIZCC     SEO      IE   F   21  3251268287      0   \n",
       "\n",
       "               country  time_diff  userids_per_ipaddress  \\\n",
       "149671   United States      34860                      1   \n",
       "15611   United Kingdom      59040                      1   \n",
       "\n",
       "        userids_per_deviceid   age_bin purchase_bin  \n",
       "149671                     2    Age41+       medium  \n",
       "15611                      1  Age18-30       medium  "
      ]
     },
     "execution_count": 41,
     "metadata": {},
     "output_type": "execute_result"
    }
   ],
   "source": [
    "df_fraud.head(2)"
   ]
  },
  {
   "cell_type": "code",
   "execution_count": 42,
   "metadata": {},
   "outputs": [
    {
     "data": {
      "text/plain": [
       "<matplotlib.axes._subplots.AxesSubplot at 0x2130b7b33c8>"
      ]
     },
     "execution_count": 42,
     "metadata": {},
     "output_type": "execute_result"
    },
    {
     "data": {
      "image/png": "[encoded data removed]",
      "text/plain": [
       "<Figure size 720x360 with 2 Axes>"
      ]
     },
     "metadata": {
      "needs_background": "light"
     },
     "output_type": "display_data"
    }
   ],
   "source": [
    "# Find Feature correlation using heat map\n",
    "\n",
    "f,ax = plt.subplots(figsize=(10, 5))\n",
    "sns.heatmap(df_fraud.corr(), annot=True, linewidths=.1, fmt= '.1f',ax=ax)"
   ]
  },
  {
   "cell_type": "markdown",
   "metadata": {},
   "source": [
    "If we look at here, userids_per_deviceid and userids_per_ipaddress strongly correlate each other. So instead of considering only one feature we can take mean of two features. If we consider only one feature (either by ipaddress or deviceid), there is a possibility to miss the info by ipaddress or by deviceid. So taking mean of these might help in achieving this."
   ]
  },
  {
   "cell_type": "code",
   "execution_count": 43,
   "metadata": {},
   "outputs": [],
   "source": [
    "# Add column for the average of the userids_per_deviceid,userids_per_ipaddress\n",
    "df_fraud[\"mean_number_of_ip_device_userids\"] = (df_fraud.userids_per_deviceid + df_fraud.userids_per_ipaddress) * 0.5"
   ]
  },
  {
   "cell_type": "code",
   "execution_count": 44,
   "metadata": {},
   "outputs": [
    {
     "data": {
      "text/plain": [
       "<seaborn.axisgrid.FacetGrid at 0x21306e334a8>"
      ]
     },
     "execution_count": 44,
     "metadata": {},
     "output_type": "execute_result"
    },
    {
     "data": {
      "image/png": "[encoded data removed]",
      "text/plain": [
       "<Figure size 360x360 with 1 Axes>"
      ]
     },
     "metadata": {
      "needs_background": "light"
     },
     "output_type": "display_data"
    }
   ],
   "source": [
    "sns.factorplot(x=\"class\", y=\"mean_number_of_ip_device_userids\", data=df_fraud)"
   ]
  },
  {
   "cell_type": "markdown",
   "metadata": {},
   "source": [
    "#### Categorical Feature Encoding"
   ]
  },
  {
   "cell_type": "markdown",
   "metadata": {},
   "source": [
    "now, we can have cleaned data frame with necessary columns.\n",
    "1. User_id field is not required, as we have created new feature mean of ip_device_userids\n",
    "2. Signup and Purchase time fields are not required, as we have created new feature on this 'Time_Diff'\n",
    "3. Purchase_Value column is not required, as we have created new feature 'Purchase_bin' as part of outlier treatment\n",
    "4. Device id not required as we have created new feature mean of ip_device_userids\n",
    "5. Age column not required as we have created new feature 'age_bin'\n",
    "6. ip_address column not required as we have created new feature mean of ip_device_userids\n",
    "7. userids_per_deviceid, userids_per_ipaddress is not required as we have created new feature mean_number_of_ip_device_userids\n",
    "8. And required column list,\n",
    "   col_list = ['source','browser','sex','age_bin','purchase_bin','country','time_diff','mean_number_of_ip_device_userids','class']"
   ]
  },
  {
   "cell_type": "code",
   "execution_count": 45,
   "metadata": {},
   "outputs": [
    {
     "data": {
      "text/html": [
       "<div>\n",
       "<style scoped>\n",
       "    .dataframe tbody tr th:only-of-type {\n",
       "        vertical-align: middle;\n",
       "    }\n",
       "\n",
       "    .dataframe tbody tr th {\n",
       "        vertical-align: top;\n",
       "    }\n",
       "\n",
       "    .dataframe thead th {\n",
       "        text-align: right;\n",
       "    }\n",
       "</style>\n",
       "<table border=\"1\" class=\"dataframe\">\n",
       "  <thead>\n",
       "    <tr style=\"text-align: right;\">\n",
       "      <th></th>\n",
       "      <th>source</th>\n",
       "      <th>browser</th>\n",
       "      <th>sex</th>\n",
       "      <th>age_bin</th>\n",
       "      <th>purchase_bin</th>\n",
       "      <th>country</th>\n",
       "      <th>time_diff</th>\n",
       "      <th>mean_number_of_ip_device_userids</th>\n",
       "      <th>class</th>\n",
       "    </tr>\n",
       "  </thead>\n",
       "  <tbody>\n",
       "    <tr>\n",
       "      <th>149671</th>\n",
       "      <td>Direct</td>\n",
       "      <td>Chrome</td>\n",
       "      <td>M</td>\n",
       "      <td>Age41+</td>\n",
       "      <td>medium</td>\n",
       "      <td>United States</td>\n",
       "      <td>34860</td>\n",
       "      <td>2</td>\n",
       "      <td>0</td>\n",
       "    </tr>\n",
       "    <tr>\n",
       "      <th>15611</th>\n",
       "      <td>SEO</td>\n",
       "      <td>IE</td>\n",
       "      <td>F</td>\n",
       "      <td>Age18-30</td>\n",
       "      <td>medium</td>\n",
       "      <td>United Kingdom</td>\n",
       "      <td>59040</td>\n",
       "      <td>1</td>\n",
       "      <td>0</td>\n",
       "    </tr>\n",
       "  </tbody>\n",
       "</table>\n",
       "</div>"
      ],
      "text/plain": [
       "        source browser sex   age_bin purchase_bin         country  time_diff  \\\n",
       "149671  Direct  Chrome   M    Age41+       medium   United States      34860   \n",
       "15611      SEO      IE   F  Age18-30       medium  United Kingdom      59040   \n",
       "\n",
       "        mean_number_of_ip_device_userids  class  \n",
       "149671                                 2      0  \n",
       "15611                                  1      0  "
      ]
     },
     "execution_count": 45,
     "metadata": {},
     "output_type": "execute_result"
    }
   ],
   "source": [
    "col_list = ['source','browser','sex','age_bin','purchase_bin','country','time_diff','mean_number_of_ip_device_userids','class']\n",
    "df_fraud = df_fraud[col_list]\n",
    "df_fraud.head(2)"
   ]
  },
  {
   "cell_type": "code",
   "execution_count": 46,
   "metadata": {},
   "outputs": [
    {
     "data": {
      "text/plain": [
       "<matplotlib.axes._subplots.AxesSubplot at 0x21309473400>"
      ]
     },
     "execution_count": 46,
     "metadata": {},
     "output_type": "execute_result"
    },
    {
     "data": {
      "image/png": "[encoded data removed]",
      "text/plain": [
       "<Figure size 720x360 with 2 Axes>"
      ]
     },
     "metadata": {
      "needs_background": "light"
     },
     "output_type": "display_data"
    }
   ],
   "source": [
    "f,ax = plt.subplots(figsize=(10, 5))\n",
    "sns.heatmap(df_fraud.corr(), annot=True, linewidths=.1, fmt= '.1f',ax=ax)"
   ]
  },
  {
   "cell_type": "code",
   "execution_count": 47,
   "metadata": {},
   "outputs": [
    {
     "data": {
      "text/html": [
       "<div>\n",
       "<style scoped>\n",
       "    .dataframe tbody tr th:only-of-type {\n",
       "        vertical-align: middle;\n",
       "    }\n",
       "\n",
       "    .dataframe tbody tr th {\n",
       "        vertical-align: top;\n",
       "    }\n",
       "\n",
       "    .dataframe thead th {\n",
       "        text-align: right;\n",
       "    }\n",
       "</style>\n",
       "<table border=\"1\" class=\"dataframe\">\n",
       "  <thead>\n",
       "    <tr style=\"text-align: right;\">\n",
       "      <th></th>\n",
       "      <th>time_diff</th>\n",
       "      <th>mean_number_of_ip_device_userids</th>\n",
       "      <th>class</th>\n",
       "      <th>source_Ads</th>\n",
       "      <th>source_Direct</th>\n",
       "      <th>source_SEO</th>\n",
       "      <th>browser_Chrome</th>\n",
       "      <th>browser_FireFox</th>\n",
       "      <th>browser_IE</th>\n",
       "      <th>browser_Opera</th>\n",
       "      <th>...</th>\n",
       "      <th>country_United States</th>\n",
       "      <th>country_Uruguay</th>\n",
       "      <th>country_Uzbekistan</th>\n",
       "      <th>country_Vanuatu</th>\n",
       "      <th>country_Venezuela</th>\n",
       "      <th>country_Viet Nam</th>\n",
       "      <th>country_Virgin Islands (U.S.)</th>\n",
       "      <th>country_Yemen</th>\n",
       "      <th>country_Zambia</th>\n",
       "      <th>country_Zimbabwe</th>\n",
       "    </tr>\n",
       "  </thead>\n",
       "  <tbody>\n",
       "    <tr>\n",
       "      <th>149671</th>\n",
       "      <td>34860</td>\n",
       "      <td>2</td>\n",
       "      <td>0</td>\n",
       "      <td>0</td>\n",
       "      <td>1</td>\n",
       "      <td>0</td>\n",
       "      <td>1</td>\n",
       "      <td>0</td>\n",
       "      <td>0</td>\n",
       "      <td>0</td>\n",
       "      <td>...</td>\n",
       "      <td>1</td>\n",
       "      <td>0</td>\n",
       "      <td>0</td>\n",
       "      <td>0</td>\n",
       "      <td>0</td>\n",
       "      <td>0</td>\n",
       "      <td>0</td>\n",
       "      <td>0</td>\n",
       "      <td>0</td>\n",
       "      <td>0</td>\n",
       "    </tr>\n",
       "    <tr>\n",
       "      <th>15611</th>\n",
       "      <td>59040</td>\n",
       "      <td>1</td>\n",
       "      <td>0</td>\n",
       "      <td>0</td>\n",
       "      <td>0</td>\n",
       "      <td>1</td>\n",
       "      <td>0</td>\n",
       "      <td>0</td>\n",
       "      <td>1</td>\n",
       "      <td>0</td>\n",
       "      <td>...</td>\n",
       "      <td>0</td>\n",
       "      <td>0</td>\n",
       "      <td>0</td>\n",
       "      <td>0</td>\n",
       "      <td>0</td>\n",
       "      <td>0</td>\n",
       "      <td>0</td>\n",
       "      <td>0</td>\n",
       "      <td>0</td>\n",
       "      <td>0</td>\n",
       "    </tr>\n",
       "    <tr>\n",
       "      <th>73178</th>\n",
       "      <td>41340</td>\n",
       "      <td>1</td>\n",
       "      <td>0</td>\n",
       "      <td>0</td>\n",
       "      <td>1</td>\n",
       "      <td>0</td>\n",
       "      <td>0</td>\n",
       "      <td>0</td>\n",
       "      <td>1</td>\n",
       "      <td>0</td>\n",
       "      <td>...</td>\n",
       "      <td>1</td>\n",
       "      <td>0</td>\n",
       "      <td>0</td>\n",
       "      <td>0</td>\n",
       "      <td>0</td>\n",
       "      <td>0</td>\n",
       "      <td>0</td>\n",
       "      <td>0</td>\n",
       "      <td>0</td>\n",
       "      <td>0</td>\n",
       "    </tr>\n",
       "    <tr>\n",
       "      <th>84546</th>\n",
       "      <td>75180</td>\n",
       "      <td>1</td>\n",
       "      <td>0</td>\n",
       "      <td>0</td>\n",
       "      <td>0</td>\n",
       "      <td>1</td>\n",
       "      <td>1</td>\n",
       "      <td>0</td>\n",
       "      <td>0</td>\n",
       "      <td>0</td>\n",
       "      <td>...</td>\n",
       "      <td>0</td>\n",
       "      <td>0</td>\n",
       "      <td>0</td>\n",
       "      <td>0</td>\n",
       "      <td>0</td>\n",
       "      <td>0</td>\n",
       "      <td>0</td>\n",
       "      <td>0</td>\n",
       "      <td>0</td>\n",
       "      <td>0</td>\n",
       "    </tr>\n",
       "    <tr>\n",
       "      <th>35978</th>\n",
       "      <td>62100</td>\n",
       "      <td>1</td>\n",
       "      <td>0</td>\n",
       "      <td>1</td>\n",
       "      <td>0</td>\n",
       "      <td>0</td>\n",
       "      <td>0</td>\n",
       "      <td>1</td>\n",
       "      <td>0</td>\n",
       "      <td>0</td>\n",
       "      <td>...</td>\n",
       "      <td>0</td>\n",
       "      <td>0</td>\n",
       "      <td>0</td>\n",
       "      <td>0</td>\n",
       "      <td>0</td>\n",
       "      <td>0</td>\n",
       "      <td>0</td>\n",
       "      <td>0</td>\n",
       "      <td>0</td>\n",
       "      <td>0</td>\n",
       "    </tr>\n",
       "  </tbody>\n",
       "</table>\n",
       "<p>5 rows × 197 columns</p>\n",
       "</div>"
      ],
      "text/plain": [
       "        time_diff  mean_number_of_ip_device_userids  class  source_Ads  \\\n",
       "149671      34860                                 2      0           0   \n",
       "15611       59040                                 1      0           0   \n",
       "73178       41340                                 1      0           0   \n",
       "84546       75180                                 1      0           0   \n",
       "35978       62100                                 1      0           1   \n",
       "\n",
       "        source_Direct  source_SEO  browser_Chrome  browser_FireFox  \\\n",
       "149671              1           0               1                0   \n",
       "15611               0           1               0                0   \n",
       "73178               1           0               0                0   \n",
       "84546               0           1               1                0   \n",
       "35978               0           0               0                1   \n",
       "\n",
       "        browser_IE  browser_Opera        ...         country_United States  \\\n",
       "149671           0              0        ...                             1   \n",
       "15611            1              0        ...                             0   \n",
       "73178            1              0        ...                             1   \n",
       "84546            0              0        ...                             0   \n",
       "35978            0              0        ...                             0   \n",
       "\n",
       "        country_Uruguay  country_Uzbekistan  country_Vanuatu  \\\n",
       "149671                0                   0                0   \n",
       "15611                 0                   0                0   \n",
       "73178                 0                   0                0   \n",
       "84546                 0                   0                0   \n",
       "35978                 0                   0                0   \n",
       "\n",
       "        country_Venezuela  country_Viet Nam  country_Virgin Islands (U.S.)  \\\n",
       "149671                  0                 0                              0   \n",
       "15611                   0                 0                              0   \n",
       "73178                   0                 0                              0   \n",
       "84546                   0                 0                              0   \n",
       "35978                   0                 0                              0   \n",
       "\n",
       "        country_Yemen  country_Zambia  country_Zimbabwe  \n",
       "149671              0               0                 0  \n",
       "15611               0               0                 0  \n",
       "73178               0               0                 0  \n",
       "84546               0               0                 0  \n",
       "35978               0               0                 0  \n",
       "\n",
       "[5 rows x 197 columns]"
      ]
     },
     "execution_count": 47,
     "metadata": {},
     "output_type": "execute_result"
    }
   ],
   "source": [
    "# create dummy variables for categorical features - onehot encoding\n",
    "final_fraud = pd.get_dummies(df_fraud,['source','browser','sex','age_bin','purchase_bin','country'])\n",
    "final_fraud.head()"
   ]
  },
  {
   "cell_type": "markdown",
   "metadata": {},
   "source": [
    "Here I am trying to know feature importance using ExtratreesClassifier"
   ]
  },
  {
   "cell_type": "code",
   "execution_count": 51,
   "metadata": {},
   "outputs": [],
   "source": [
    "# Data Set with no class feature\n",
    "X = final_fraud[ [col for col in final_fraud.columns if col != \"class\"] ]\n",
    "\n",
    "# Data set with only class feature\n",
    "Y = final_fraud[\"class\"]"
   ]
  },
  {
   "cell_type": "code",
   "execution_count": 49,
   "metadata": {},
   "outputs": [
    {
     "name": "stdout",
     "output_type": "stream",
     "text": [
      "[4.44498282e-01 4.08184761e-01 3.28225991e-03 1.65856413e-03\n",
      " 3.26417598e-03 6.56733891e-03 5.54668870e-03 6.06876827e-03\n",
      " 2.62820363e-03 5.76442253e-03 6.00183648e-03 5.66711363e-03\n",
      " 6.65488932e-03 5.10793198e-03 5.57254166e-03 6.11867160e-03\n",
      " 6.93753991e-03 6.76253575e-03 6.03759817e-03 5.78128872e-05\n",
      " 4.41851731e-06 3.87946820e-04 4.95232292e-05 2.55549585e-07\n",
      " 1.01566736e-03 1.15336541e-04 1.37162909e-03 6.31329212e-04\n",
      " 7.19223311e-05 2.03017299e-07 2.39300587e-06 1.00187988e-04\n",
      " 2.80714605e-06 9.06999162e-05 7.16268580e-04 5.62073105e-07\n",
      " 7.98976025e-08 8.77744353e-08 2.19303386e-07 1.57789478e-04\n",
      " 7.41231005e-05 3.63067729e-06 1.72071391e-03 7.05160437e-08\n",
      " 1.80242476e-06 1.07347912e-04 1.76730673e-07 1.52928665e-06\n",
      " 7.35662349e-07 1.60796350e-03 9.02683449e-08 3.70186261e-07\n",
      " 6.22330710e-04 3.20632424e-03 7.78401746e-04 1.49071358e-06\n",
      " 1.98404892e-06 1.66008542e-04 3.86354157e-07 1.95626094e-04\n",
      " 8.95323119e-07 9.98704534e-07 3.94719053e-05 3.16537241e-04\n",
      " 5.42150836e-04 4.55537430e-07 4.25342459e-08 5.85005012e-05\n",
      " 4.86005427e-04 3.60483682e-04 6.63412246e-05 7.23481016e-06\n",
      " 2.62523692e-07 3.33598824e-04 4.24368569e-07 6.47677290e-08\n",
      " 5.11891513e-04 1.59440253e-03 5.04583003e-06 5.31239653e-08\n",
      " 9.31685322e-05 1.55610052e-03 5.66532996e-06 9.68281345e-08\n",
      " 4.30135170e-04 2.60419632e-08 1.72456892e-06 7.91468067e-05\n",
      " 1.00369474e-06 5.77030121e-05 5.59249273e-04 2.60208456e-04\n",
      " 7.19123546e-05 1.04692691e-03 4.92155034e-04 4.55963544e-04\n",
      " 2.74387491e-06 5.30421609e-04 3.13785930e-04 1.32291655e-03\n",
      " 3.27928893e-06 2.75953107e-03 9.78350583e-06 1.35199579e-04\n",
      " 9.06877668e-05 2.30098674e-03 1.44995080e-04 1.07544283e-05\n",
      " 1.64104571e-06 1.75104403e-04 7.24589481e-05 7.56208045e-08\n",
      " 3.89962581e-05 2.07388006e-07 2.19543413e-04 2.94866910e-04\n",
      " 3.20243174e-06 5.37969032e-05 4.08702115e-07 6.02087525e-05\n",
      " 3.39222463e-04 1.69923005e-07 1.03683467e-04 5.52901113e-05\n",
      " 1.03872048e-03 1.18554930e-04 6.08383256e-06 2.18553890e-05\n",
      " 6.09346674e-05 1.40336722e-04 7.66723304e-06 6.20537612e-08\n",
      " 1.86680546e-04 1.44004678e-07 1.14043548e-06 1.48587070e-03\n",
      " 1.05529270e-06 4.90768469e-04 4.23905583e-05 1.48997295e-04\n",
      " 6.54846837e-04 1.30171257e-05 2.67189727e-04 5.88065600e-06\n",
      " 1.27764275e-04 1.55365876e-07 8.30952697e-05 3.12859818e-04\n",
      " 2.82039467e-04 7.47014451e-04 3.38976014e-04 7.20438335e-06\n",
      " 5.62257348e-06 8.63681044e-07 4.12130796e-04 1.18569113e-03\n",
      " 1.79606993e-06 4.33591445e-07 1.49844160e-07 5.09154593e-04\n",
      " 4.46416646e-05 5.49714292e-05 1.19098348e-04 1.99093519e-04\n",
      " 1.94233617e-04 2.37518469e-05 8.16158085e-04 5.02475959e-06\n",
      " 7.88462784e-04 1.78074956e-04 9.35826478e-05 9.60185537e-04\n",
      " 7.93128425e-04 1.84471294e-06 1.26023473e-03 1.57812901e-06\n",
      " 3.68119191e-04 5.85989735e-05 1.92398978e-04 6.81472288e-04\n",
      " 7.71734630e-05 1.92257564e-06 4.66206757e-04 2.77220595e-03\n",
      " 2.11357247e-04 1.83665629e-03 3.86237782e-03 1.58172266e-04\n",
      " 3.65343653e-05 1.04248982e-07 2.78555047e-04 5.96511703e-04\n",
      " 8.53985160e-05 3.23353729e-08 1.81463656e-06 7.95355681e-07]\n"
     ]
    }
   ],
   "source": [
    "model = ExtraTreesClassifier()\n",
    "model.fit(X, Y)\n",
    "feature_imp=model.feature_importances_\n",
    "print(feature_imp)"
   ]
  },
  {
   "cell_type": "markdown",
   "metadata": {},
   "source": [
    "Seems all the features are important. The greater score means greater the importance."
   ]
  },
  {
   "cell_type": "code",
   "execution_count": 50,
   "metadata": {},
   "outputs": [
    {
     "data": {
      "text/html": [
       "<div>\n",
       "<style scoped>\n",
       "    .dataframe tbody tr th:only-of-type {\n",
       "        vertical-align: middle;\n",
       "    }\n",
       "\n",
       "    .dataframe tbody tr th {\n",
       "        vertical-align: top;\n",
       "    }\n",
       "\n",
       "    .dataframe thead th {\n",
       "        text-align: right;\n",
       "    }\n",
       "</style>\n",
       "<table border=\"1\" class=\"dataframe\">\n",
       "  <thead>\n",
       "    <tr style=\"text-align: right;\">\n",
       "      <th></th>\n",
       "      <th>time_diff</th>\n",
       "      <th>mean_number_of_ip_device_userids</th>\n",
       "      <th>class</th>\n",
       "      <th>source_Ads</th>\n",
       "      <th>source_Direct</th>\n",
       "      <th>source_SEO</th>\n",
       "      <th>browser_Chrome</th>\n",
       "      <th>browser_FireFox</th>\n",
       "      <th>browser_IE</th>\n",
       "      <th>browser_Opera</th>\n",
       "      <th>...</th>\n",
       "      <th>country_United States</th>\n",
       "      <th>country_Uruguay</th>\n",
       "      <th>country_Uzbekistan</th>\n",
       "      <th>country_Vanuatu</th>\n",
       "      <th>country_Venezuela</th>\n",
       "      <th>country_Viet Nam</th>\n",
       "      <th>country_Virgin Islands (U.S.)</th>\n",
       "      <th>country_Yemen</th>\n",
       "      <th>country_Zambia</th>\n",
       "      <th>country_Zimbabwe</th>\n",
       "    </tr>\n",
       "  </thead>\n",
       "  <tbody>\n",
       "    <tr>\n",
       "      <th>149671</th>\n",
       "      <td>34860</td>\n",
       "      <td>2</td>\n",
       "      <td>0</td>\n",
       "      <td>0</td>\n",
       "      <td>1</td>\n",
       "      <td>0</td>\n",
       "      <td>1</td>\n",
       "      <td>0</td>\n",
       "      <td>0</td>\n",
       "      <td>0</td>\n",
       "      <td>...</td>\n",
       "      <td>1</td>\n",
       "      <td>0</td>\n",
       "      <td>0</td>\n",
       "      <td>0</td>\n",
       "      <td>0</td>\n",
       "      <td>0</td>\n",
       "      <td>0</td>\n",
       "      <td>0</td>\n",
       "      <td>0</td>\n",
       "      <td>0</td>\n",
       "    </tr>\n",
       "    <tr>\n",
       "      <th>15611</th>\n",
       "      <td>59040</td>\n",
       "      <td>1</td>\n",
       "      <td>0</td>\n",
       "      <td>0</td>\n",
       "      <td>0</td>\n",
       "      <td>1</td>\n",
       "      <td>0</td>\n",
       "      <td>0</td>\n",
       "      <td>1</td>\n",
       "      <td>0</td>\n",
       "      <td>...</td>\n",
       "      <td>0</td>\n",
       "      <td>0</td>\n",
       "      <td>0</td>\n",
       "      <td>0</td>\n",
       "      <td>0</td>\n",
       "      <td>0</td>\n",
       "      <td>0</td>\n",
       "      <td>0</td>\n",
       "      <td>0</td>\n",
       "      <td>0</td>\n",
       "    </tr>\n",
       "  </tbody>\n",
       "</table>\n",
       "<p>2 rows × 197 columns</p>\n",
       "</div>"
      ],
      "text/plain": [
       "        time_diff  mean_number_of_ip_device_userids  class  source_Ads  \\\n",
       "149671      34860                                 2      0           0   \n",
       "15611       59040                                 1      0           0   \n",
       "\n",
       "        source_Direct  source_SEO  browser_Chrome  browser_FireFox  \\\n",
       "149671              1           0               1                0   \n",
       "15611               0           1               0                0   \n",
       "\n",
       "        browser_IE  browser_Opera        ...         country_United States  \\\n",
       "149671           0              0        ...                             1   \n",
       "15611            1              0        ...                             0   \n",
       "\n",
       "        country_Uruguay  country_Uzbekistan  country_Vanuatu  \\\n",
       "149671                0                   0                0   \n",
       "15611                 0                   0                0   \n",
       "\n",
       "        country_Venezuela  country_Viet Nam  country_Virgin Islands (U.S.)  \\\n",
       "149671                  0                 0                              0   \n",
       "15611                   0                 0                              0   \n",
       "\n",
       "        country_Yemen  country_Zambia  country_Zimbabwe  \n",
       "149671              0               0                 0  \n",
       "15611               0               0                 0  \n",
       "\n",
       "[2 rows x 197 columns]"
      ]
     },
     "execution_count": 50,
     "metadata": {},
     "output_type": "execute_result"
    }
   ],
   "source": [
    "final_fraud.head(2)"
   ]
  },
  {
   "cell_type": "markdown",
   "metadata": {},
   "source": [
    "### Build ML model and Evaluate"
   ]
  },
  {
   "cell_type": "code",
   "execution_count": 52,
   "metadata": {},
   "outputs": [
    {
     "name": "stdout",
     "output_type": "stream",
     "text": [
      "(120000, 196) (120000,)\n"
     ]
    }
   ],
   "source": [
    "print (X.shape, Y.shape)"
   ]
  },
  {
   "cell_type": "code",
   "execution_count": 53,
   "metadata": {},
   "outputs": [],
   "source": [
    "X_train, X_test, Y_train, Y_test = train_test_split(X,Y, test_size=0.2, random_state=1)"
   ]
  },
  {
   "cell_type": "code",
   "execution_count": 54,
   "metadata": {},
   "outputs": [
    {
     "name": "stdout",
     "output_type": "stream",
     "text": [
      "<class 'pandas.core.frame.DataFrame'>\n",
      "Int64Index: 96000 entries, 126610 to 3801\n",
      "Columns: 196 entries, time_diff to country_Zimbabwe\n",
      "dtypes: float64(1), int64(1), uint8(194)\n",
      "memory usage: 20.0 MB\n"
     ]
    }
   ],
   "source": [
    "X_train.info()"
   ]
  },
  {
   "cell_type": "code",
   "execution_count": 55,
   "metadata": {},
   "outputs": [
    {
     "name": "stdout",
     "output_type": "stream",
     "text": [
      "<class 'pandas.core.frame.DataFrame'>\n",
      "Int64Index: 24000 entries, 64601 to 150000\n",
      "Columns: 196 entries, time_diff to country_Zimbabwe\n",
      "dtypes: float64(1), int64(1), uint8(194)\n",
      "memory usage: 5.0 MB\n"
     ]
    }
   ],
   "source": [
    "X_test.info()"
   ]
  },
  {
   "cell_type": "code",
   "execution_count": 57,
   "metadata": {},
   "outputs": [
    {
     "data": {
      "text/plain": [
       "0.09384375"
      ]
     },
     "execution_count": 57,
     "metadata": {},
     "output_type": "execute_result"
    }
   ],
   "source": [
    "np.mean(Y_train)"
   ]
  },
  {
   "cell_type": "code",
   "execution_count": 58,
   "metadata": {},
   "outputs": [
    {
     "data": {
      "text/plain": [
       "0.094"
      ]
     },
     "execution_count": 58,
     "metadata": {},
     "output_type": "execute_result"
    }
   ],
   "source": [
    "np.mean(Y_test)"
   ]
  },
  {
   "cell_type": "markdown",
   "metadata": {},
   "source": [
    "Here, it would be good if we could build baseline model with no machine learning model and compare in later point. It will be helpfull to compare our ML model is performing better than base line model or not? Baseline model always gives output of majority class. Predictive model should beat the baseline model performance."
   ]
  },
  {
   "cell_type": "markdown",
   "metadata": {},
   "source": [
    "#### Baseline model"
   ]
  },
  {
   "cell_type": "code",
   "execution_count": 59,
   "metadata": {},
   "outputs": [
    {
     "name": "stdout",
     "output_type": "stream",
     "text": [
      "score for baseline model: 0.91\n",
      "accuracy for Baseline model: 0.91\n",
      "Confusion matrix for Baseline model: \n",
      " [[21744     0]\n",
      " [ 2256     0]]\n",
      "Precision for baseline Model: 0.00\n",
      "Recall for baseline Model: 0.00\n"
     ]
    }
   ],
   "source": [
    "model_dummy = DummyClassifier(strategy='most_frequent',random_state=0)\n",
    "model_dummy.fit(X_train,Y_train)\n",
    "print('score for baseline model: {0:.2f}'.format(model_dummy.score(X_test,Y_test)))\n",
    "# Performance Metrics\n",
    "print('accuracy for Baseline model: {0:.2f}'.format(accuracy_score(Y_test,model_dummy.predict(X_test))))\n",
    "\n",
    "# Confusion Matrix\n",
    "print('Confusion matrix for Baseline model: \\n {0}'.format(confusion_matrix(Y_test,model_dummy.predict(X_test))))\n",
    "\n",
    "# Precision and Recall scores\n",
    "print('Precision for baseline Model: {0:.2f}'.format(precision_score(Y_test, model_dummy.predict(X_test))))\n",
    "print('Recall for baseline Model: {0:.2f}'.format(recall_score(Y_test, model_dummy.predict(X_test))))"
   ]
  },
  {
   "cell_type": "markdown",
   "metadata": {},
   "source": [
    "Ensemble Algorithms works well when we have class imbalance in target variable. First we can explore with Random Forest and then GBM (Gradient Boosting)."
   ]
  },
  {
   "cell_type": "code",
   "execution_count": 61,
   "metadata": {},
   "outputs": [],
   "source": [
    "# Traning the model\n",
    "rf = RandomForestClassifier()\n",
    "rf_model = rf.fit(X_train, Y_train)\n",
    "\n",
    "# Predicting the results\n",
    "y_pred = rf_model.predict(X_test)"
   ]
  },
  {
   "cell_type": "code",
   "execution_count": 62,
   "metadata": {},
   "outputs": [
    {
     "data": {
      "text/plain": [
       "RandomForestClassifier(bootstrap=True, class_weight=None, criterion='gini',\n",
       "            max_depth=None, max_features='auto', max_leaf_nodes=None,\n",
       "            min_impurity_decrease=0.0, min_impurity_split=None,\n",
       "            min_samples_leaf=1, min_samples_split=2,\n",
       "            min_weight_fraction_leaf=0.0, n_estimators=10, n_jobs=1,\n",
       "            oob_score=False, random_state=None, verbose=0,\n",
       "            warm_start=False)"
      ]
     },
     "execution_count": 62,
     "metadata": {},
     "output_type": "execute_result"
    }
   ],
   "source": [
    "rf"
   ]
  },
  {
   "cell_type": "code",
   "execution_count": 63,
   "metadata": {},
   "outputs": [
    {
     "name": "stdout",
     "output_type": "stream",
     "text": [
      "MODEL TEST SCORE: 0.94117\n",
      "ACCURACY: 0.94\n",
      "ROC-AUC: 0.77\n",
      "PRECISION: 0.76\n",
      "RECALL: 0.55\n",
      "Confusion Matrix:\n",
      " [[21350   394]\n",
      " [ 1018  1238]]\n",
      "\n",
      "True Negatives:  21350\n",
      "False Negatives:  1018\n",
      "True Positives:  1238\n",
      "False Positives:  394\n"
     ]
    }
   ],
   "source": [
    "# Evaluating\n",
    "model_test_score = rf_model.score(X_test,Y_test)\n",
    "conf_matrix = confusion_matrix(Y_test, y_pred)\n",
    "print ('MODEL TEST SCORE: {0:.5f}'.format(model_test_score))\n",
    "print(\"ACCURACY: {0:.2f}\".format(accuracy_score(Y_test, y_pred)))\n",
    "print(\"ROC-AUC: {0:.2f}\".format(roc_auc_score(Y_test, y_pred)))\n",
    "print(\"PRECISION: {0:.2f}\".format(precision_score(Y_test, y_pred)))\n",
    "print(\"RECALL: {0:.2f}\".format(recall_score(Y_test, y_pred)))\n",
    "print(\"Confusion Matrix:\\n\",conf_matrix)\n",
    "print ('\\nTrue Negatives: ', conf_matrix[0,0])\n",
    "print ('False Negatives: ', conf_matrix[1,0])\n",
    "print ('True Positives: ', conf_matrix[1,1])\n",
    "print ('False Positives: ', conf_matrix[0,1])"
   ]
  },
  {
   "cell_type": "markdown",
   "metadata": {},
   "source": [
    "When we see above scores, Accuracy is 94% as a first check we beat the baseline accuracy 91%. It's good sign. Now we need to look at Precision and Recall. In classification imbalance problems we should not depend on only accuracy, we need to take precision and recall into consideration. We see that our random forest model is very precise, meaning that all the ones it flags as positive (fraudulent) are likely to be actual fraudulent transactions(75%).\n",
    "\n",
    "Our recall, on the other hand, is not quite as good, just above 50%. This means the model will capture 55% of % of the total correct(positive) items correctly predicted by the model.\n",
    "\n",
    "Before plotting AUC-ROC for our random forest model, we can fit another ensemble algorithm XGboost."
   ]
  },
  {
   "cell_type": "markdown",
   "metadata": {},
   "source": [
    "### XGBoost classifier"
   ]
  },
  {
   "cell_type": "code",
   "execution_count": 64,
   "metadata": {},
   "outputs": [],
   "source": [
    "xgb = XGBClassifier()\n",
    "\n",
    "# Fitting the model\n",
    "xgb_model = xgb.fit(X_train, Y_train)\n",
    "\n",
    "# Predicting results\n",
    "y_pred = xgb_model.predict(X_test)"
   ]
  },
  {
   "cell_type": "code",
   "execution_count": 65,
   "metadata": {},
   "outputs": [
    {
     "name": "stdout",
     "output_type": "stream",
     "text": [
      "MODEL TEST SCORE: 0.95640\n",
      "MODEL TEST SCORE: 0.95592\n",
      "ACCURACY: 0.96\n",
      "ROC-AUC: 0.77\n",
      "PRECISION: 1.00\n",
      "RECALL: 0.53\n",
      "Confusion Matrix:\n",
      " [[21744     0]\n",
      " [ 1058  1198]]\n",
      "\n",
      "True Negatives:  21744\n",
      "False Negatives:  1058\n",
      "True Positives:  1198\n",
      "False Positives:  0\n"
     ]
    }
   ],
   "source": [
    "model_train_score = xgb_model.score(X_train,Y_train)\n",
    "model_test_score = xgb_model.score(X_test,Y_test)\n",
    "conf_matrix = confusion_matrix(Y_test, y_pred)\n",
    "print ('MODEL TEST SCORE: {0:.5f}'.format(model_train_score))\n",
    "print ('MODEL TEST SCORE: {0:.5f}'.format(model_test_score))\n",
    "print(\"ACCURACY: {0:.2f}\".format(accuracy_score(Y_test, y_pred)))\n",
    "print(\"ROC-AUC: {0:.2f}\".format(roc_auc_score(Y_test, y_pred)))\n",
    "print(\"PRECISION: {0:.2f}\".format(precision_score(Y_test, y_pred)))\n",
    "print(\"RECALL: {0:.2f}\".format(recall_score(Y_test, y_pred)))\n",
    "print(\"Confusion Matrix:\\n\",conf_matrix)\n",
    "print ('\\nTrue Negatives: ', conf_matrix[0,0])\n",
    "print ('False Negatives: ', conf_matrix[1,0])\n",
    "print ('True Positives: ', conf_matrix[1,1])\n",
    "print ('False Positives: ', conf_matrix[0,1])"
   ]
  },
  {
   "cell_type": "markdown",
   "metadata": {},
   "source": [
    "When we see above scores, Accuracy is 96% as a first check we beat the baseline accuracy 91%. Now we need to look at Precision and Recall. \n",
    "\n",
    "Precision - Precision goal is to minimize number of False positives. Here Precision is 1. It looks very good. It seems number of non-fraud transactions classified as fraud is zero. The False positives are zero is one of the very good sign when we consider about non-fraud classifying as fraud. In our case it is necessary as a cost incurred at 8$ if model flagged as fraud for non-fraud transactions.\n",
    "\n",
    "Recall - How often positive result be predicted correctly. Here recall is not quite as good, just above 50%(53%). It would be considered to minimize numnber of False Negatives. Here number of fraud transactions classified as non-fraud is high chance as we have very less recall. False negatives need to take care as we may see issue of marking fraud transactions are non-fraud."
   ]
  },
  {
   "cell_type": "markdown",
   "metadata": {},
   "source": [
    "XGboost giving good results compared with Random Forest. For now, i will choose this model and fine tune to see if i can improve performance of model any further."
   ]
  },
  {
   "cell_type": "markdown",
   "metadata": {},
   "source": [
    "#### Plotting AUC-ROC"
   ]
  },
  {
   "cell_type": "markdown",
   "metadata": {},
   "source": [
    "Here goal is to balance False positive and False Negatives. Lets draw ROC curve between TPR - True Positive Rate (Recall), FPR - False Positive Rate(1-Specifity)"
   ]
  },
  {
   "cell_type": "code",
   "execution_count": 66,
   "metadata": {},
   "outputs": [],
   "source": [
    "y_predd=xgb_model.predict_proba(X_test)"
   ]
  },
  {
   "cell_type": "code",
   "execution_count": 67,
   "metadata": {},
   "outputs": [],
   "source": [
    "def plot_validation_roc():\n",
    "    fpr,tpr,thresholds = roc_curve(Y_test,y_predd[:,1])\n",
    "    return pd.DataFrame({'FPR':fpr,'TPR':tpr,'Threshold':thresholds})"
   ]
  },
  {
   "cell_type": "code",
   "execution_count": 68,
   "metadata": {},
   "outputs": [],
   "source": [
    "p=plot_validation_roc()"
   ]
  },
  {
   "cell_type": "code",
   "execution_count": 69,
   "metadata": {},
   "outputs": [
    {
     "data": {
      "text/plain": [
       "<matplotlib.legend.Legend at 0x213084b1b70>"
      ]
     },
     "execution_count": 69,
     "metadata": {},
     "output_type": "execute_result"
    },
    {
     "data": {
      "image/png": "[encoded data removed]",
      "text/plain": [
       "<Figure size 720x360 with 1 Axes>"
      ]
     },
     "metadata": {
      "needs_background": "light"
     },
     "output_type": "display_data"
    }
   ],
   "source": [
    "roc_auc = roc_auc_score(Y_test, y_pred)\n",
    "plt.figure(figsize=(10,5))\n",
    "plt.plot(p.FPR,p.TPR, color='orange', label='ROC curve (area = %0.2f)'%roc_auc)\n",
    "plt.xlim([-0.02, 1])\n",
    "plt.ylim([0, 1.02])\n",
    "plt.xlabel(\"False Positive Rate\")\n",
    "plt.ylabel(\"True Positive Rate\")\n",
    "plt.plot([0, 1], [0, 1], color='skyblue', lw=2, linestyle='--',label='Random guess')\n",
    "plt.legend(loc=\"lower right\",frameon=False)"
   ]
  },
  {
   "cell_type": "code",
   "execution_count": 70,
   "metadata": {},
   "outputs": [
    {
     "name": "stdout",
     "output_type": "stream",
     "text": [
      "             precision    recall  f1-score   support\n",
      "\n",
      "          0       0.95      1.00      0.98     21744\n",
      "          1       1.00      0.53      0.69      2256\n",
      "\n",
      "avg / total       0.96      0.96      0.95     24000\n",
      "\n"
     ]
    }
   ],
   "source": [
    "print(classification_report(Y_test, y_pred))"
   ]
  },
  {
   "cell_type": "markdown",
   "metadata": {},
   "source": [
    "#### Impact False Positives and False Negatives\n",
    "\n",
    "in this case, because normally this \"Fraud Detection Model\" is often used in a pre-screening step.\n",
    "\n",
    "If 'Fraud' is classified as 'Not Fraud' is more cost than non fraud classifying as fraud.The company will lose money directly.\n",
    "so in this case, \"false negative\" cost much higher, so we should choose a relatively smaller threshold."
   ]
  },
  {
   "cell_type": "markdown",
   "metadata": {},
   "source": [
    "##### Precision Recall trade-off"
   ]
  },
  {
   "cell_type": "code",
   "execution_count": 73,
   "metadata": {},
   "outputs": [
    {
     "data": {
      "image/png": "[encoded data removed]",
      "text/plain": [
       "<Figure size 432x288 with 1 Axes>"
      ]
     },
     "metadata": {
      "needs_background": "light"
     },
     "output_type": "display_data"
    }
   ],
   "source": [
    "precision, recall, thresholds = precision_recall_curve(Y_test, y_pred)\n",
    "# create plot\n",
    "plt.plot(precision, recall, label='Precision-recall curve')\n",
    "_ = plt.xlabel('Precision')\n",
    "_ = plt.ylabel('Recall')\n",
    "_ = plt.title('Precision-recall curve')\n",
    "_ = plt.legend(loc=\"lower left\")"
   ]
  },
  {
   "cell_type": "markdown",
   "metadata": {},
   "source": [
    "Now we need to improve our model performance by reducing False Negatives. Generally ensemble algorithms more prone to overfitting, to reduce this we can add regularization term. For this we can apply hyper parameter tuning using crossvalidation techniques (K - fold cross validation)."
   ]
  },
  {
   "cell_type": "markdown",
   "metadata": {},
   "source": [
    "### Tuning Model\n",
    "\n",
    "Fine tuning a model especially ensemble model is very huge process and requires lot of time. For now i will try to explore little more to see if i can fine tune this model. Now in order to decide on boosting parameters, we need to set some initial values of other parameters. Lets take the following values:\n",
    "\n",
    "1. max_depth = 6 : This should be between 3-10. I’ve started with 5 but you can choose a different number as well. 4-6 can be good starting points.\n",
    "2. subsample, colsample_bytree = 0.8 : This is a commonly used used start value. Typical values range between 0.5-0.9.\n",
    "3. learning_rate = 0.05"
   ]
  },
  {
   "cell_type": "code",
   "execution_count": 74,
   "metadata": {},
   "outputs": [],
   "source": [
    "parameters = {'nthread':[4], #when use hyperthread, xgboost may become slower\n",
    "             'objective':['binary:logistic'],\n",
    "             'learning_rate': [0.05], #so called `eta` value\n",
    "             'max_depth': [6],\n",
    "             'subsample': [0.8],\n",
    "             'colsample_bytree': [0.7],\n",
    "             'n_estimators': [5], #number of trees, change it to 1000 for better results\n",
    "             'missing':[-999],\n",
    "             'seed': [1337]}"
   ]
  },
  {
   "cell_type": "code",
   "execution_count": 75,
   "metadata": {},
   "outputs": [],
   "source": [
    "clf = GridSearchCV(xgb_model, parameters, n_jobs=5, \n",
    "                   cv=3, \n",
    "                   scoring='roc_auc',\n",
    "                   verbose=2, refit=True)"
   ]
  },
  {
   "cell_type": "code",
   "execution_count": 76,
   "metadata": {},
   "outputs": [
    {
     "name": "stdout",
     "output_type": "stream",
     "text": [
      "Fitting 3 folds for each of 1 candidates, totalling 3 fits\n"
     ]
    },
    {
     "name": "stderr",
     "output_type": "stream",
     "text": [
      "[Parallel(n_jobs=5)]: Done   3 out of   3 | elapsed:   26.5s finished\n"
     ]
    },
    {
     "data": {
      "text/plain": [
       "GridSearchCV(cv=3, error_score='raise',\n",
       "       estimator=XGBClassifier(base_score=0.5, booster='gbtree', colsample_bylevel=1,\n",
       "       colsample_bytree=1, gamma=0, learning_rate=0.1, max_delta_step=0,\n",
       "       max_depth=3, min_child_weight=1, missing=None, n_estimators=100,\n",
       "       n_jobs=1, nthread=None, objective='binary:logistic', random_state=0,\n",
       "       reg_alpha=0, reg_lambda=1, scale_pos_weight=1, seed=None,\n",
       "       silent=True, subsample=1),\n",
       "       fit_params=None, iid=True, n_jobs=5,\n",
       "       param_grid={'nthread': [4], 'objective': ['binary:logistic'], 'learning_rate': [0.05], 'max_depth': [6], 'subsample': [0.8], 'colsample_bytree': [0.7], 'n_estimators': [5], 'missing': [-999], 'seed': [1337]},\n",
       "       pre_dispatch='2*n_jobs', refit=True, return_train_score='warn',\n",
       "       scoring='roc_auc', verbose=2)"
      ]
     },
     "execution_count": 76,
     "metadata": {},
     "output_type": "execute_result"
    }
   ],
   "source": [
    "clf.fit(X_train, Y_train)"
   ]
  },
  {
   "cell_type": "code",
   "execution_count": 77,
   "metadata": {},
   "outputs": [
    {
     "name": "stdout",
     "output_type": "stream",
     "text": [
      "Raw AUC score: 0.8303421469611075\n",
      "colsample_bytree: 0.7\n",
      "learning_rate: 0.05\n",
      "max_depth: 6\n",
      "missing: -999\n",
      "n_estimators: 5\n",
      "nthread: 4\n",
      "objective: 'binary:logistic'\n",
      "seed: 1337\n",
      "subsample: 0.8\n"
     ]
    }
   ],
   "source": [
    "best_parameters, score, _ = max(clf.grid_scores_, key=lambda x: x[1])\n",
    "print('Raw AUC score:', score)\n",
    "for param_name in sorted(best_parameters.keys()):\n",
    "    print(\"%s: %r\" % (param_name, best_parameters[param_name]))"
   ]
  },
  {
   "cell_type": "code",
   "execution_count": 78,
   "metadata": {},
   "outputs": [],
   "source": [
    "tune_pd=clf.predict(X_test)"
   ]
  },
  {
   "cell_type": "code",
   "execution_count": 79,
   "metadata": {},
   "outputs": [
    {
     "name": "stdout",
     "output_type": "stream",
     "text": [
      "MODEL TEST SCORE: 0.82764\n",
      "ACCURACY: 0.96\n",
      "ROC-AUC: 0.77\n",
      "PRECISION: 1.00\n",
      "RECALL: 0.53\n",
      "Confusion Matrix:\n",
      " [[21744     0]\n",
      " [ 1058  1198]]\n",
      "\n",
      "True Negatives:  21744\n",
      "False Negatives:  1058\n",
      "True Positives:  1198\n",
      "False Positives:  0\n"
     ]
    }
   ],
   "source": [
    "model_tune_test_score = clf.score(X_test,Y_test)\n",
    "conf_tune_matrix = confusion_matrix(Y_test, tune_pd)\n",
    "print ('MODEL TEST SCORE: {0:.5f}'.format(model_tune_test_score))\n",
    "print(\"ACCURACY: {0:.2f}\".format(accuracy_score(Y_test, tune_pd)))\n",
    "print(\"ROC-AUC: {0:.2f}\".format(roc_auc_score(Y_test, tune_pd)))\n",
    "print(\"PRECISION: {0:.2f}\".format(precision_score(Y_test, tune_pd)))\n",
    "print(\"RECALL: {0:.2f}\".format(recall_score(Y_test, tune_pd)))\n",
    "print(\"Confusion Matrix:\\n\",conf_tune_matrix)\n",
    "print ('\\nTrue Negatives: ', conf_tune_matrix[0,0])\n",
    "print ('False Negatives: ', conf_tune_matrix[1,0])\n",
    "print ('True Positives: ', conf_tune_matrix[1,1])\n",
    "print ('False Positives: ', conf_tune_matrix[0,1])"
   ]
  },
  {
   "cell_type": "markdown",
   "metadata": {},
   "source": [
    "With new parameters, still it giving almost same as generalized parameters of XGB model. Here we can apply K-fold cross validation using grid search CV to find best possible parameters. But it needs lots time to process. For now i am not going in detail."
   ]
  },
  {
   "cell_type": "code",
   "execution_count": 80,
   "metadata": {},
   "outputs": [
    {
     "data": {
      "image/png": "[encoded data removed]",
      "text/plain": [
       "<Figure size 432x288 with 1 Axes>"
      ]
     },
     "metadata": {
      "needs_background": "light"
     },
     "output_type": "display_data"
    }
   ],
   "source": [
    "# Also looking at original xgb model feature importances.\n",
    "plot_importance(xgb_model)\n",
    "plt.show()"
   ]
  },
  {
   "cell_type": "markdown",
   "metadata": {},
   "source": [
    "Above shows Features importance. I know images looks ugly, but i have around 190 features."
   ]
  },
  {
   "cell_type": "code",
   "execution_count": 82,
   "metadata": {},
   "outputs": [],
   "source": [
    "thresholds=np.sort(xgb_model.feature_importances_)"
   ]
  },
  {
   "cell_type": "markdown",
   "metadata": {},
   "source": [
    "Below one shows, feature standardization using SelectFromModel."
   ]
  },
  {
   "cell_type": "code",
   "execution_count": 83,
   "metadata": {},
   "outputs": [
    {
     "name": "stdout",
     "output_type": "stream",
     "text": [
      "Thresh=0.002, n=52, Accuracy: 95.59%, Precision: 100.00%, Recall: 53.10%, ROC_AUC_Score: 76.55%\n",
      "Thresh=0.002, n=52, Accuracy: 95.59%, Precision: 100.00%, Recall: 53.10%, ROC_AUC_Score: 76.55%\n",
      "Thresh=0.002, n=52, Accuracy: 95.59%, Precision: 100.00%, Recall: 53.10%, ROC_AUC_Score: 76.55%\n",
      "Thresh=0.002, n=52, Accuracy: 95.59%, Precision: 100.00%, Recall: 53.10%, ROC_AUC_Score: 76.55%\n",
      "Thresh=0.002, n=52, Accuracy: 95.59%, Precision: 100.00%, Recall: 53.10%, ROC_AUC_Score: 76.55%\n",
      "Thresh=0.002, n=52, Accuracy: 95.59%, Precision: 100.00%, Recall: 53.10%, ROC_AUC_Score: 76.55%\n",
      "Thresh=0.002, n=52, Accuracy: 95.59%, Precision: 100.00%, Recall: 53.10%, ROC_AUC_Score: 76.55%\n",
      "Thresh=0.002, n=52, Accuracy: 95.59%, Precision: 100.00%, Recall: 53.10%, ROC_AUC_Score: 76.55%\n",
      "Thresh=0.002, n=52, Accuracy: 95.59%, Precision: 100.00%, Recall: 53.10%, ROC_AUC_Score: 76.55%\n",
      "Thresh=0.002, n=52, Accuracy: 95.59%, Precision: 100.00%, Recall: 53.10%, ROC_AUC_Score: 76.55%\n",
      "Thresh=0.004, n=42, Accuracy: 95.59%, Precision: 100.00%, Recall: 53.10%, ROC_AUC_Score: 76.55%\n",
      "Thresh=0.004, n=42, Accuracy: 95.59%, Precision: 100.00%, Recall: 53.10%, ROC_AUC_Score: 76.55%\n",
      "Thresh=0.004, n=42, Accuracy: 95.59%, Precision: 100.00%, Recall: 53.10%, ROC_AUC_Score: 76.55%\n",
      "Thresh=0.004, n=42, Accuracy: 95.59%, Precision: 100.00%, Recall: 53.10%, ROC_AUC_Score: 76.55%\n",
      "Thresh=0.004, n=42, Accuracy: 95.59%, Precision: 100.00%, Recall: 53.10%, ROC_AUC_Score: 76.55%\n",
      "Thresh=0.004, n=42, Accuracy: 95.59%, Precision: 100.00%, Recall: 53.10%, ROC_AUC_Score: 76.55%\n",
      "Thresh=0.004, n=42, Accuracy: 95.59%, Precision: 100.00%, Recall: 53.10%, ROC_AUC_Score: 76.55%\n",
      "Thresh=0.004, n=42, Accuracy: 95.59%, Precision: 100.00%, Recall: 53.10%, ROC_AUC_Score: 76.55%\n",
      "Thresh=0.004, n=42, Accuracy: 95.59%, Precision: 100.00%, Recall: 53.10%, ROC_AUC_Score: 76.55%\n",
      "Thresh=0.004, n=42, Accuracy: 95.59%, Precision: 100.00%, Recall: 53.10%, ROC_AUC_Score: 76.55%\n",
      "Thresh=0.005, n=32, Accuracy: 95.59%, Precision: 100.00%, Recall: 53.10%, ROC_AUC_Score: 76.55%\n",
      "Thresh=0.005, n=32, Accuracy: 95.59%, Precision: 100.00%, Recall: 53.10%, ROC_AUC_Score: 76.55%\n",
      "Thresh=0.005, n=32, Accuracy: 95.59%, Precision: 100.00%, Recall: 53.10%, ROC_AUC_Score: 76.55%\n",
      "Thresh=0.005, n=32, Accuracy: 95.59%, Precision: 100.00%, Recall: 53.10%, ROC_AUC_Score: 76.55%\n",
      "Thresh=0.005, n=32, Accuracy: 95.59%, Precision: 100.00%, Recall: 53.10%, ROC_AUC_Score: 76.55%\n",
      "Thresh=0.007, n=27, Accuracy: 95.59%, Precision: 100.00%, Recall: 53.10%, ROC_AUC_Score: 76.55%\n",
      "Thresh=0.007, n=27, Accuracy: 95.59%, Precision: 100.00%, Recall: 53.10%, ROC_AUC_Score: 76.55%\n",
      "Thresh=0.007, n=27, Accuracy: 95.59%, Precision: 100.00%, Recall: 53.10%, ROC_AUC_Score: 76.55%\n",
      "Thresh=0.007, n=27, Accuracy: 95.59%, Precision: 100.00%, Recall: 53.10%, ROC_AUC_Score: 76.55%\n",
      "Thresh=0.007, n=27, Accuracy: 95.59%, Precision: 100.00%, Recall: 53.10%, ROC_AUC_Score: 76.55%\n",
      "Thresh=0.007, n=27, Accuracy: 95.59%, Precision: 100.00%, Recall: 53.10%, ROC_AUC_Score: 76.55%\n",
      "Thresh=0.009, n=21, Accuracy: 95.59%, Precision: 100.00%, Recall: 53.10%, ROC_AUC_Score: 76.55%\n",
      "Thresh=0.009, n=21, Accuracy: 95.59%, Precision: 100.00%, Recall: 53.10%, ROC_AUC_Score: 76.55%\n",
      "Thresh=0.009, n=21, Accuracy: 95.59%, Precision: 100.00%, Recall: 53.10%, ROC_AUC_Score: 76.55%\n",
      "Thresh=0.011, n=18, Accuracy: 95.59%, Precision: 100.00%, Recall: 53.10%, ROC_AUC_Score: 76.55%\n",
      "Thresh=0.011, n=18, Accuracy: 95.59%, Precision: 100.00%, Recall: 53.10%, ROC_AUC_Score: 76.55%\n",
      "Thresh=0.011, n=18, Accuracy: 95.59%, Precision: 100.00%, Recall: 53.10%, ROC_AUC_Score: 76.55%\n",
      "Thresh=0.012, n=15, Accuracy: 95.59%, Precision: 99.92%, Recall: 53.10%, ROC_AUC_Score: 76.55%\n",
      "Thresh=0.012, n=15, Accuracy: 95.59%, Precision: 99.92%, Recall: 53.10%, ROC_AUC_Score: 76.55%\n",
      "Thresh=0.012, n=15, Accuracy: 95.59%, Precision: 99.92%, Recall: 53.10%, ROC_AUC_Score: 76.55%\n",
      "Thresh=0.014, n=12, Accuracy: 95.59%, Precision: 100.00%, Recall: 53.10%, ROC_AUC_Score: 76.55%\n",
      "Thresh=0.014, n=12, Accuracy: 95.59%, Precision: 100.00%, Recall: 53.10%, ROC_AUC_Score: 76.55%\n",
      "Thresh=0.018, n=10, Accuracy: 95.59%, Precision: 100.00%, Recall: 53.10%, ROC_AUC_Score: 76.55%\n",
      "Thresh=0.019, n=9, Accuracy: 95.59%, Precision: 100.00%, Recall: 53.10%, ROC_AUC_Score: 76.55%\n",
      "Thresh=0.021, n=8, Accuracy: 95.59%, Precision: 99.92%, Recall: 53.10%, ROC_AUC_Score: 76.55%\n",
      "Thresh=0.025, n=7, Accuracy: 95.60%, Precision: 100.00%, Recall: 53.15%, ROC_AUC_Score: 76.57%\n",
      "Thresh=0.026, n=6, Accuracy: 95.59%, Precision: 99.92%, Recall: 53.10%, ROC_AUC_Score: 76.55%\n",
      "Thresh=0.032, n=5, Accuracy: 95.59%, Precision: 99.92%, Recall: 53.10%, ROC_AUC_Score: 76.55%\n",
      "Thresh=0.042, n=4, Accuracy: 95.59%, Precision: 99.92%, Recall: 53.10%, ROC_AUC_Score: 76.55%\n",
      "Thresh=0.046, n=3, Accuracy: 95.59%, Precision: 100.00%, Recall: 53.10%, ROC_AUC_Score: 76.55%\n",
      "Thresh=0.247, n=2, Accuracy: 95.59%, Precision: 100.00%, Recall: 53.10%, ROC_AUC_Score: 76.55%\n",
      "Thresh=0.282, n=1, Accuracy: 95.20%, Precision: 92.07%, Recall: 53.55%, ROC_AUC_Score: 76.53%\n"
     ]
    }
   ],
   "source": [
    "for thresh in thresholds[thresholds>0]:\n",
    "    # select features using threshold\n",
    "    selection = SelectFromModel(xgb_model, threshold=thresh, prefit=True)\n",
    "    select_X_train = selection.transform(X_train)\n",
    "    # train model\n",
    "    selection_model = XGBClassifier()\n",
    "    selection_model.fit(select_X_train, Y_train)\n",
    "    # eval model\n",
    "    select_X_test = selection.transform(X_test)\n",
    "    y_select_pred = selection_model.predict(select_X_test)\n",
    "    predictions = [round(value) for value in y_select_pred]\n",
    "    accuracy = accuracy_score(Y_test, predictions)\n",
    "    precision_s = precision_score(Y_test, predictions)\n",
    "    recall_s = recall_score(Y_test, predictions)\n",
    "    roc_auc_s = roc_auc_score(Y_test, predictions)\n",
    "    print(\"Thresh=%.3f, n=%d, Accuracy: %.2f%%, Precision: %.2f%%, Recall: %.2f%%, ROC_AUC_Score: %.2f%%\" % (thresh, select_X_train.shape[1], accuracy*100.0, precision_s*100.0, recall_s*100.0, roc_auc_s*100.0))"
   ]
  },
  {
   "cell_type": "markdown",
   "metadata": {},
   "source": [
    "If we could see above results, when n=7(number of features), and Threshold = 0.025, then Accuracy went to 95.60% and Recall, ROC_Auc score slightly higher than other values."
   ]
  },
  {
   "cell_type": "markdown",
   "metadata": {},
   "source": [
    "### Conclusion and Recommendations\n",
    "From the random forest and gradient boosting classifier models we can make the following inferences and conclusions from the data.\n",
    "\n",
    "1. There are 4 important features that determine whether or not a transaction is fradulent. They are in the order of coefficient weights, the following: 'time_diff' (shopping time), 'mean deviceid count', Age,Sex.\n",
    "\n",
    "2. shopping time turns out to the the single most important feature in predicting fraudulent transactions. In fact, many of the fraudulent transactions have shopping time of less, meaning used some automated software to made the purchase.\n",
    "\n",
    "3. Mean number of userids - device_id_count and ip_address_count also are important aspects of a fradulent transaction, as fraud attempting are likely to buy certain items in fraudulent transactions and use the same ip address.\n",
    "\n",
    "4. Age and Sex also effecting.\n",
    "\n",
    "5. Other features did not have significant enough correlation with fraudulent transactions. Country of origin did not matter, and other categorical features like browser, source, etc were not important.\n",
    "\n",
    "From these inferences from the data and the model, we can make the following business recommendations about fraudulent transactions and how to implement this model from a product perspective.\n",
    "\n",
    "\n",
    "Here the best part is False positives zero, it means identifying real transaction as fraud is very rare. So each transaction 8$ commision will be saved. We need to concentrate on false negatives. To do this, Have the company's e-commerce website continuously calculate the fraudulent transaction probability with the user's inputs when buying the product. And if the risk of fraudulent transaction is greater than some threshold value, the website can ask the user to verify additional information or hold the transaction and flag it for further review.\n",
    "For example, the transaction can be divided into 3 categories:\n",
    "\n",
    "1. If predicted fraud probability is small, then the normal transaction can take place with the user.\n",
    "2. If the predicted fraud probabilty is medium, then the website will ask the user for additional verification. This can be some code sent to the user via his email or phone, or similar check.\n",
    "3. Finally, if the predicted fraud probability is high, then the website will put the transaction on hold and notify the user that the purchase is under review. If found to be fraudulent, then the website will block the user and his IP address.\n"
   ]
  }
 ],
 "metadata": {
  "kernelspec": {
   "display_name": "Python 3",
   "language": "python",
   "name": "python3"
  },
  "language_info": {
   "codemirror_mode": {
    "name": "ipython",
    "version": 3
   },
   "file_extension": ".py",
   "mimetype": "text/x-python",
   "name": "python",
   "nbconvert_exporter": "python",
   "pygments_lexer": "ipython3",
   "version": "3.7.0"
  }
 },
 "nbformat": 4,
 "nbformat_minor": 2
}
