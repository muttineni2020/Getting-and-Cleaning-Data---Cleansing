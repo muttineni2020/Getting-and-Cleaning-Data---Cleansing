{
 "cells": [
  {
   "cell_type": "markdown",
   "metadata": {},
   "source": [
    "# How to Grid Search ARIMA Model Hyperparameters with Python\n",
    "The ARIMA model for time series analysis and forecasting can be tricky to configure.\n",
    "\n",
    "There are 3 parameters that require estimation by iterative trial and error from reviewing diagnostic plots and using 40-year-old heuristic rules.\n",
    "\n",
    "We can automate the process of evaluating a large number of hyperparameters for the ARIMA model by using a grid search procedure.\n",
    "\n",
    "In this tutorial, you will discover how to tune the ARIMA model using a grid search of hyperparameters in Python.\n",
    "\n",
    "After completing this tutorial, you will know:\n",
    "\n",
    "* A general procedure that you can use to tune the ARIMA hyperparameters for a rolling one-step forecast.\n",
    "* How to apply ARIMA hyperparameter optimization on a standard univariate time series dataset.\n",
    "* Ideas for extending the procedure for more elaborate and robust models.\n",
    "\n",
    "Let’s get started."
   ]
  },
  {
   "cell_type": "markdown",
   "metadata": {},
   "source": [
    "## Grid Searching Method\n",
    "Diagnostic plots of the time series can be used along with heuristic rules to determine the hyperparameters of the ARIMA model.\n",
    "\n",
    "These are good in most, but perhaps not all, situations.\n",
    "\n",
    "We can automate the process of training and evaluating ARIMA models on different combinations of model hyperparameters. In machine learning this is called a grid search or model tuning.\n",
    "\n",
    "In this tutorial, we will develop a method to grid search ARIMA hyperparameters for a one-step rolling forecast.\n",
    "\n",
    "The approach is broken down into two parts:\n",
    "\n",
    "1. Evaluate an ARIMA model.\n",
    "2. Evaluate sets of ARIMA parameters.\n",
    "\n",
    "The code in this tutorial makes use of the scikit-learn, Pandas, and the statsmodels Python libraries."
   ]
  },
  {
   "cell_type": "markdown",
   "metadata": {},
   "source": [
    "### 1. Evaluate ARIMA Model\n",
    "We can evaluate an ARIMA model by preparing it on a training dataset and evaluating predictions on a test dataset.\n",
    "\n",
    "This approach involves the following steps:\n",
    "\n",
    "1. Split the dataset into training and test sets.\n",
    "2. Walk the time steps in the test dataset: (1) Train an ARIMA model, (2) Make a one-step prediction, (3) Store prediction; get and store actual observation.\n",
    "3. Calculate error score for predictions compared to expected values.\n",
    "\n",
    "We can implement this in Python as a new standalone function called evaluate_arima_model() that takes a time series dataset as input as well as a tuple with the p, d, and q parameters for the model to be evaluated.\n",
    "\n",
    "The dataset is split in two: 66% for the initial training dataset and the remaining 34% for the test dataset.\n",
    "\n",
    "Each time step of the test set is iterated. Just one iteration provides a model that you could use to make predictions on new data. The iterative approach allows a new ARIMA model to be trained each time step.\n",
    "\n",
    "A prediction is made each iteration and stored in a list. This is so that at the end of the test set, all predictions can be compared to the list of expected values and an error score calculated. In this case, a mean squared error score is calculated and returned.\n",
    "\n",
    "The complete function is listed below."
   ]
  },
  {
   "cell_type": "code",
   "execution_count": null,
   "metadata": {
    "collapsed": true
   },
   "outputs": [],
   "source": [
    "# evaluate an ARIMA model for a given order (p,d,q)\n",
    "def evaluate_arima_model(X, arima_order):\n",
    "\t# prepare training dataset\n",
    "\ttrain_size = int(len(X) * 0.66)\n",
    "\ttrain, test = X[0:train_size], X[train_size:]\n",
    "\thistory = [x for x in train]\n",
    "\t# make predictions\n",
    "\tpredictions = list()\n",
    "\tfor t in range(len(test)):\n",
    "\t\tmodel = ARIMA(history, order=arima_order)\n",
    "\t\tmodel_fit = model.fit(disp=0)\n",
    "\t\tyhat = model_fit.forecast()[0]\n",
    "\t\tpredictions.append(yhat)\n",
    "\t\thistory.append(test[t])\n",
    "\t# calculate out of sample error\n",
    "\terror = mean_squared_error(test, predictions)\n",
    "\treturn error"
   ]
  },
  {
   "cell_type": "markdown",
   "metadata": {},
   "source": [
    "Now that we know how to evaluate one set of ARIMA hyperparameters, let’s see how we can call this function repeatedly for a grid of parameters to evaluate.\n",
    "\n",
    "### 2. Iterate ARIMA Parameters\n",
    "Evaluating a suite of parameters is relatively straightforward.\n",
    "\n",
    "The user must specify a grid of p, d, and q ARIMA parameters to iterate. A model is created for each parameter and its performance evaluated by calling the evaluate_arima_model() function described in the previous section.\n",
    "\n",
    "The function must keep track of the lowest error score observed and the configuration that caused it. This can be summarized at the end of the function with a print to standard out.\n",
    "\n",
    "We can implement this function called evaluate_models() as a series of four loops.\n",
    "\n",
    "There are two additional considerations. The first is to ensure the input data are floating point values (as opposed to integers or strings), as this can cause the ARIMA procedure to fail.\n",
    "\n",
    "Second, the statsmodels ARIMA procedure internally uses numerical optimization procedures to find a set of coefficients for the model. These procedures can fail, which in turn can throw an exception. We must catch these exceptions and skip those configurations that cause a problem. This happens more often then you would think.\n",
    "\n",
    "Additionally, it is recommended that warnings be ignored for this code to avoid a lot of noise from running the procedure. This can be done as follows:"
   ]
  },
  {
   "cell_type": "code",
   "execution_count": null,
   "metadata": {
    "collapsed": true
   },
   "outputs": [],
   "source": [
    "import warnings\n",
    "warnings.filterwarnings(\"ignore\")"
   ]
  },
  {
   "cell_type": "markdown",
   "metadata": {},
   "source": [
    "The complete procedure for evaluating a grid of ARIMA hyperparameters is listed below."
   ]
  },
  {
   "cell_type": "code",
   "execution_count": null,
   "metadata": {
    "collapsed": true
   },
   "outputs": [],
   "source": [
    "# evaluate combinations of p, d and q values for an ARIMA model\n",
    "def evaluate_models(dataset, p_values, d_values, q_values):\n",
    "\tdataset = dataset.astype('float32')\n",
    "\tbest_score, best_cfg = float(\"inf\"), None\n",
    "\tfor p in p_values:\n",
    "\t\tfor d in d_values:\n",
    "\t\t\tfor q in q_values:\n",
    "\t\t\t\torder = (p,d,q)\n",
    "\t\t\t\ttry:\n",
    "\t\t\t\t\tmse = evaluate_arima_model(dataset, order)\n",
    "\t\t\t\t\tif mse < best_score:\n",
    "\t\t\t\t\t\tbest_score, best_cfg = mse, order\n",
    "\t\t\t\t\tprint('ARIMA%s MSE=%.3f' % (order,mse))\n",
    "\t\t\t\texcept:\n",
    "\t\t\t\t\tcontinue\n",
    "\tprint('Best ARIMA%s MSE=%.3f' % (best_cfg, best_score))"
   ]
  },
  {
   "cell_type": "markdown",
   "metadata": {},
   "source": [
    "Now that we have a procedure to grid search ARIMA hyperparameters, let’s test the procedure on two univariate time series problems.\n",
    "\n",
    "We will start with the Shampoo Sales dataset.\n",
    "\n",
    "## Shampoo Sales Case Study\n",
    "The Shampoo Sales dataset describes the monthly number of sales of shampoo over a 3-year period.\n",
    "\n",
    "The units are a sales count and there are 36 observations. The original dataset is credited to Makridakis, Wheelwright, and Hyndman (1998).\n",
    "\n",
    "[Learn more about the dataset from here](https://datamarket.com/data/set/22r0/sales-of-shampoo-over-a-three-year-period).\n",
    "\n",
    "Download the dataset and place it into your current working directory with the filename “shampoo-sales.csv“.\n",
    "\n",
    "The timestamps in the time series do not contain an absolute year component. We can use a custom date-parsing function when loading the data and baseline the year from 1900, as follows:"
   ]
  },
  {
   "cell_type": "code",
   "execution_count": null,
   "metadata": {
    "collapsed": true
   },
   "outputs": [],
   "source": [
    "# load dataset\n",
    "def parser(x):\n",
    "\treturn datetime.strptime('190'+x, '%Y-%m')\n",
    "series = read_csv('shampoo-sales.csv', header=0, parse_dates=[0], index_col=0, squeeze=True, date_parser=parser)"
   ]
  },
  {
   "cell_type": "markdown",
   "metadata": {},
   "source": [
    "Once loaded, we can specify a site of p, d, and q values to search and pass them to the evaluate_models() function.\n",
    "\n",
    "We will try a suite of lag values (p) and just a few difference iterations (d) and residual error lag values (q)."
   ]
  },
  {
   "cell_type": "code",
   "execution_count": null,
   "metadata": {
    "collapsed": true
   },
   "outputs": [],
   "source": [
    "# evaluate parameters\n",
    "p_values = [0, 1, 2, 4, 6, 8, 10]\n",
    "d_values = range(0, 3)\n",
    "q_values = range(0, 3)\n",
    "warnings.filterwarnings(\"ignore\")\n",
    "evaluate_models(series.values, p_values, d_values, q_values)"
   ]
  },
  {
   "cell_type": "markdown",
   "metadata": {},
   "source": [
    "Putting this all together with the generic procedures defined in the previous section, we can grid search ARIMA hyperparameters in the Shampoo Sales dataset.\n",
    "\n",
    "The complete code example is listed below."
   ]
  },
  {
   "cell_type": "code",
   "execution_count": 1,
   "metadata": {},
   "outputs": [
    {
     "name": "stderr",
     "output_type": "stream",
     "text": [
      "/Users/khanhnamle/anaconda2/lib/python2.7/site-packages/statsmodels/compat/pandas.py:56: FutureWarning: The pandas.core.datetools module is deprecated and will be removed in a future version. Please use the pandas.tseries module instead.\n",
      "  from pandas.core import datetools\n"
     ]
    },
    {
     "name": "stdout",
     "output_type": "stream",
     "text": [
      "ARIMA(0, 0, 0) MSE=52425.268\n",
      "ARIMA(0, 0, 1) MSE=38145.259\n",
      "ARIMA(0, 0, 2) MSE=23989.598\n",
      "ARIMA(0, 1, 0) MSE=18003.173\n",
      "ARIMA(0, 1, 1) MSE=9558.166\n",
      "ARIMA(0, 2, 0) MSE=67339.808\n",
      "ARIMA(0, 2, 1) MSE=18321.891\n",
      "ARIMA(1, 0, 0) MSE=23112.826\n",
      "ARIMA(1, 1, 0) MSE=7121.367\n",
      "ARIMA(1, 1, 1) MSE=7003.683\n",
      "ARIMA(1, 2, 0) MSE=18608.016\n",
      "ARIMA(2, 1, 0) MSE=5689.931\n",
      "ARIMA(2, 1, 1) MSE=7759.704\n",
      "ARIMA(2, 2, 0) MSE=9860.940\n",
      "ARIMA(4, 1, 0) MSE=6649.594\n",
      "ARIMA(4, 1, 1) MSE=6796.295\n",
      "ARIMA(4, 2, 0) MSE=7596.329\n",
      "ARIMA(4, 2, 1) MSE=4694.872\n",
      "ARIMA(6, 1, 0) MSE=6810.082\n",
      "ARIMA(6, 2, 0) MSE=6261.123\n",
      "ARIMA(8, 1, 0) MSE=6579.580\n",
      "Best ARIMA(4, 2, 1) MSE=4694.872\n"
     ]
    }
   ],
   "source": [
    "import warnings\n",
    "from pandas import read_csv\n",
    "from pandas import datetime\n",
    "from statsmodels.tsa.arima_model import ARIMA\n",
    "from sklearn.metrics import mean_squared_error\n",
    " \n",
    "# evaluate an ARIMA model for a given order (p,d,q)\n",
    "def evaluate_arima_model(X, arima_order):\n",
    "\t# prepare training dataset\n",
    "\ttrain_size = int(len(X) * 0.66)\n",
    "\ttrain, test = X[0:train_size], X[train_size:]\n",
    "\thistory = [x for x in train]\n",
    "\t# make predictions\n",
    "\tpredictions = list()\n",
    "\tfor t in range(len(test)):\n",
    "\t\tmodel = ARIMA(history, order=arima_order)\n",
    "\t\tmodel_fit = model.fit(disp=0)\n",
    "\t\tyhat = model_fit.forecast()[0]\n",
    "\t\tpredictions.append(yhat)\n",
    "\t\thistory.append(test[t])\n",
    "\t# calculate out of sample error\n",
    "\terror = mean_squared_error(test, predictions)\n",
    "\treturn error\n",
    " \n",
    "# evaluate combinations of p, d and q values for an ARIMA model\n",
    "def evaluate_models(dataset, p_values, d_values, q_values):\n",
    "\tdataset = dataset.astype('float32')\n",
    "\tbest_score, best_cfg = float(\"inf\"), None\n",
    "\tfor p in p_values:\n",
    "\t\tfor d in d_values:\n",
    "\t\t\tfor q in q_values:\n",
    "\t\t\t\torder = (p,d,q)\n",
    "\t\t\t\ttry:\n",
    "\t\t\t\t\tmse = evaluate_arima_model(dataset, order)\n",
    "\t\t\t\t\tif mse < best_score:\n",
    "\t\t\t\t\t\tbest_score, best_cfg = mse, order\n",
    "\t\t\t\t\tprint('ARIMA%s MSE=%.3f' % (order,mse))\n",
    "\t\t\t\texcept:\n",
    "\t\t\t\t\tcontinue\n",
    "\tprint('Best ARIMA%s MSE=%.3f' % (best_cfg, best_score))\n",
    " \n",
    "# load dataset\n",
    "def parser(x):\n",
    "\treturn datetime.strptime('190'+x, '%Y-%m')\n",
    "series = read_csv('shampoo-sales.csv', header=0, parse_dates=[0], index_col=0, squeeze=True, date_parser=parser)\n",
    "# evaluate parameters\n",
    "p_values = [0, 1, 2, 4, 6, 8, 10]\n",
    "d_values = range(0, 3)\n",
    "q_values = range(0, 3)\n",
    "warnings.filterwarnings(\"ignore\")\n",
    "evaluate_models(series.values, p_values, d_values, q_values)"
   ]
  },
  {
   "cell_type": "markdown",
   "metadata": {},
   "source": [
    "Running the example prints the ARIMA parameters and MSE for each successful evaluation completed.\n",
    "\n",
    "The best parameters of ARIMA(4, 2, 1) are reported at the end of the run with a mean squared error of 4,694.872.\n",
    "\n",
    "## Daily Female Births Case Study\n",
    "The Daily Female Births dataset describes the number of daily female births in California in 1959.\n",
    "\n",
    "The units are a count and there are 365 observations. The source of the dataset is credited to Newton (1988).\n",
    "\n",
    "[Learn more about the dataset here](https://datamarket.com/data/set/235k/daily-total-female-births-in-california-1959).\n",
    "\n",
    "Download the dataset and place it in your current working directory with the filename “daily-total-female-births.csv“.\n",
    "\n",
    "This dataset can be easily loaded directly as a Pandas Series."
   ]
  },
  {
   "cell_type": "code",
   "execution_count": null,
   "metadata": {
    "collapsed": true
   },
   "outputs": [],
   "source": [
    "# load dataset\n",
    "series = Series.from_csv('daily-total-female-births.csv', header=0)"
   ]
  },
  {
   "cell_type": "markdown",
   "metadata": {},
   "source": [
    "To keep things simple, we will explore the same grid of ARIMA hyperparameters as in the previous section."
   ]
  },
  {
   "cell_type": "code",
   "execution_count": null,
   "metadata": {
    "collapsed": true
   },
   "outputs": [],
   "source": [
    "# evaluate parameters\n",
    "p_values = [0, 1, 2, 4, 6, 8, 10]\n",
    "d_values = range(0, 3)\n",
    "q_values = range(0, 3)\n",
    "warnings.filterwarnings(\"ignore\")\n",
    "evaluate_models(series.values, p_values, d_values, q_values)"
   ]
  },
  {
   "cell_type": "markdown",
   "metadata": {},
   "source": [
    "Putting this all together, we can grid search ARIMA parameters on the Daily Female Births dataset. The complete code listing is provided below."
   ]
  },
  {
   "cell_type": "code",
   "execution_count": 2,
   "metadata": {},
   "outputs": [
    {
     "name": "stdout",
     "output_type": "stream",
     "text": [
      "ARIMA(0, 0, 0) MSE=29465.873\n",
      "ARIMA(0, 0, 1) MSE=29429.139\n",
      "ARIMA(0, 0, 2) MSE=29389.478\n",
      "ARIMA(0, 1, 0) MSE=29236.383\n",
      "ARIMA(0, 1, 1) MSE=29390.539\n",
      "ARIMA(0, 1, 2) MSE=29369.859\n",
      "ARIMA(0, 2, 0) MSE=29553.241\n",
      "ARIMA(0, 2, 1) MSE=29236.311\n",
      "ARIMA(1, 0, 0) MSE=29406.124\n",
      "ARIMA(1, 1, 0) MSE=29146.822\n",
      "ARIMA(1, 1, 1) MSE=29360.948\n",
      "ARIMA(1, 1, 2) MSE=29305.506\n",
      "ARIMA(1, 2, 0) MSE=29209.386\n",
      "ARIMA(2, 0, 0) MSE=29364.905\n",
      "ARIMA(2, 0, 1) MSE=29387.126\n",
      "ARIMA(2, 1, 0) MSE=29180.810\n",
      "ARIMA(2, 1, 1) MSE=29338.109\n",
      "ARIMA(2, 2, 0) MSE=29218.841\n",
      "ARIMA(4, 0, 0) MSE=29348.169\n",
      "ARIMA(4, 1, 0) MSE=29248.385\n",
      "ARIMA(4, 1, 1) MSE=29334.996\n",
      "ARIMA(4, 2, 0) MSE=28982.474\n",
      "ARIMA(6, 0, 0) MSE=29376.006\n",
      "ARIMA(6, 1, 0) MSE=29303.694\n",
      "ARIMA(6, 1, 1) MSE=29316.419\n",
      "ARIMA(6, 2, 0) MSE=29059.176\n",
      "ARIMA(8, 0, 0) MSE=29375.396\n",
      "ARIMA(8, 0, 1) MSE=29374.699\n",
      "ARIMA(8, 0, 2) MSE=29371.094\n",
      "ARIMA(8, 1, 0) MSE=29338.507\n",
      "ARIMA(8, 1, 1) MSE=29322.437\n",
      "ARIMA(8, 1, 2) MSE=29322.655\n",
      "ARIMA(8, 2, 0) MSE=29119.588\n",
      "ARIMA(8, 2, 1) MSE=29336.761\n",
      "ARIMA(10, 0, 0) MSE=29371.797\n",
      "ARIMA(10, 1, 0) MSE=29327.303\n",
      "ARIMA(10, 1, 1) MSE=29310.002\n",
      "ARIMA(10, 2, 0) MSE=29223.023\n",
      "ARIMA(10, 2, 1) MSE=29329.979\n",
      "ARIMA(10, 2, 2) MSE=29333.235\n",
      "Best ARIMA(4, 2, 0) MSE=28982.474\n"
     ]
    }
   ],
   "source": [
    "import warnings\n",
    "from pandas import Series\n",
    "from statsmodels.tsa.arima_model import ARIMA\n",
    "from sklearn.metrics import mean_squared_error\n",
    " \n",
    "# evaluate an ARIMA model for a given order (p,d,q)\n",
    "def evaluate_arima_model(X, arima_order):\n",
    "\t# prepare training dataset\n",
    "\ttrain_size = int(len(X) * 0.66)\n",
    "\ttrain, test = X[0:train_size], X[train_size:]\n",
    "\thistory = [x for x in train]\n",
    "\t# make predictions\n",
    "\tpredictions = list()\n",
    "\tfor t in range(len(test)):\n",
    "\t\tmodel = ARIMA(history, order=arima_order)\n",
    "\t\tmodel_fit = model.fit(disp=0)\n",
    "\t\tyhat = model_fit.forecast()[0]\n",
    "\t\tpredictions.append(yhat)\n",
    "\t\thistory.append(test[t])\n",
    "\t# calculate out of sample error\n",
    "\terror = mean_squared_error(test, predictions)\n",
    "\treturn error\n",
    " \n",
    "# evaluate combinations of p, d and q values for an ARIMA model\n",
    "def evaluate_models(dataset, p_values, d_values, q_values):\n",
    "\tdataset = dataset.astype('float32')\n",
    "\tbest_score, best_cfg = float(\"inf\"), None\n",
    "\tfor p in p_values:\n",
    "\t\tfor d in d_values:\n",
    "\t\t\tfor q in q_values:\n",
    "\t\t\t\torder = (p,d,q)\n",
    "\t\t\t\ttry:\n",
    "\t\t\t\t\tmse = evaluate_arima_model(dataset, order)\n",
    "\t\t\t\t\tif mse < best_score:\n",
    "\t\t\t\t\t\tbest_score, best_cfg = mse, order\n",
    "\t\t\t\t\tprint('ARIMA%s MSE=%.3f' % (order,mse))\n",
    "\t\t\t\texcept:\n",
    "\t\t\t\t\tcontinue\n",
    "\tprint('Best ARIMA%s MSE=%.3f' % (best_cfg, best_score))\n",
    " \n",
    "# load dataset\n",
    "series = Series.from_csv('daily-total-female-births.csv', header=0)\n",
    "# evaluate parameters\n",
    "p_values = [0, 1, 2, 4, 6, 8, 10]\n",
    "d_values = range(0, 3)\n",
    "q_values = range(0, 3)\n",
    "warnings.filterwarnings(\"ignore\")\n",
    "evaluate_models(series.values, p_values, d_values, q_values)"
   ]
  },
  {
   "cell_type": "markdown",
   "metadata": {},
   "source": [
    "Running the example prints the ARIMA parameters and mean squared error for each configuration successfully evaluated.\n",
    "\n",
    "The best mean parameters are reported as ARIMA(4, 2, 0) with a mean squared error of 28982.474.\n",
    "\n",
    "## Extensions\n",
    "The grid search method used in this tutorial is simple and can easily be extended.\n",
    "\n",
    "This section lists some ideas to extend the approach you may wish to explore.\n",
    "\n",
    "* **Seed Grid**. The classical diagnostic tools of ACF and PACF plots can still be used with the results used to seed the grid of ARIMA parameters to search.\n",
    "* **Alternate Measures**. The search seeks to optimize the out-of-sample mean squared error. This could be changed to another out-of-sample statistic, an in-sample statistic, such as AIC or BIC, or some combination of the two. You can choose a metric that is most meaningful on your project.\n",
    "* **Residual Diagnostics**. Statistics can automatically be calculated on the residual forecast errors to provide an additional indication of the quality of the fit. Examples include statistical tests for whether the distribution of residuals is Gaussian and whether there is an autocorrelation in the residuals.\n",
    "* **Update Model**. The ARIMA model is created from scratch for each one-step forecast. With careful inspection of the API, it may be possible to update the internal data of the model with new observations rather than recreating it from scratch.\n",
    "* **Preconditions**. The ARIMA model can make assumptions about the time series dataset, such as normality and stationarity. These could be checked and a warning raised for a given of a dataset prior to a given model being trained.\n",
    "\n",
    "## Summary\n",
    "In this tutorial, you discovered how to grid search the hyperparameters for the ARIMA model in Python.\n",
    "\n",
    "Specifically, you learned:\n",
    "\n",
    "* A procedure that you can use to grid search ARIMA hyperparameters for a one-step rolling forecast.\n",
    "* How to apply ARIMA hyperparameters tuning on standard univariate time series datasets.\n",
    "* Ideas on how to further improve grid searching of ARIMA hyperparameters."
   ]
  }
 ],
 "metadata": {
  "kernelspec": {
   "display_name": "Python 2",
   "language": "python",
   "name": "python2"
  },
  "language_info": {
   "codemirror_mode": {
    "name": "ipython",
    "version": 2
   },
   "file_extension": ".py",
   "mimetype": "text/x-python",
   "name": "python",
   "nbconvert_exporter": "python",
   "pygments_lexer": "ipython2",
   "version": "2.7.14"
  }
 },
 "nbformat": 4,
 "nbformat_minor": 2
}
