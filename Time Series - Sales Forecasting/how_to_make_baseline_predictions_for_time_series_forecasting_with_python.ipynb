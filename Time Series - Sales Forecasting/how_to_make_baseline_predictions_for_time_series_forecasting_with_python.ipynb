{
 "cells": [
  {
   "cell_type": "markdown",
   "metadata": {},
   "source": [
    "# How to Make Baseline Predictions for Time Series Forecasting with Python\n",
    "Establishing a baseline is essential on any time series forecasting problem.\n",
    "\n",
    "A baseline in performance gives you an idea of how well all other models will actually perform on your problem.\n",
    "\n",
    "In this tutorial, you will discover how to develop a persistence forecast that you can use to calculate a baseline level of performance on a time series dataset with Python.\n",
    "\n",
    "After completing this tutorial, you will know:\n",
    "\n",
    "* The importance of calculating a baseline of performance on time series forecast problems.\n",
    "* How to develop a persistence model from scratch in Python.\n",
    "* How to evaluate the forecast from a persistence model and use it to establish a baseline in performance.\n",
    "\n",
    "Let’s get started."
   ]
  },
  {
   "cell_type": "markdown",
   "metadata": {},
   "source": [
    "## Forecast Performance Baseline\n",
    "A baseline in forecast performance provides a point of comparison.\n",
    "\n",
    "It is a point of reference for all other modeling techniques on your problem. If a model achieves performance at or below the baseline, the technique should be fixed or abandoned.\n",
    "\n",
    "The technique used to generate a forecast to calculate the baseline performance must be easy to implement and naive of problem-specific details.\n",
    "\n",
    "Before you can establish a performance baseline on your forecast problem, you must develop a test harness. This is comprised of:\n",
    "\n",
    "1. The **dataset** you intend to use to train and evaluate models.\n",
    "2. The **resampling** technique you intend to use to estimate the performance of the technique (e.g. train/test split).\n",
    "3. The **performance measure** you intend to use to evaluate forecasts (e.g. mean squared error).\n",
    "\n",
    "Once prepared, you then need to select a naive technique that you can use to make a forecast and calculate the baseline performance.\n",
    "\n",
    "The goal is to get a baseline performance on your time series forecast problem as quickly as possible so that you can get to work better understanding the dataset and developing more advanced models.\n",
    "\n",
    "Three properties of a good technique for making a baseline forecast are:\n",
    "\n",
    "* **Simple**: A method that requires little or no training or intelligence.\n",
    "* **Fast**: A method that is fast to implement and computationally trivial to make a prediction.\n",
    "* **Repeatable**: A method that is deterministic, meaning that it produces an expected output given the same input.\n",
    "\n",
    "A common algorithm used in establishing a baseline performance is the persistence algorithm."
   ]
  },
  {
   "cell_type": "markdown",
   "metadata": {},
   "source": [
    "## Persistence Algorithm (the “naive” forecast)\n",
    "The most common baseline method for supervised machine learning is the Zero Rule algorithm.\n",
    "\n",
    "This algorithm predicts the majority class in the case of classification, or the average outcome in the case of regression. This could be used for time series, but does not respect the serial correlation structure in time series datasets.\n",
    "\n",
    "The equivalent technique for use with time series dataset is the persistence algorithm.\n",
    "\n",
    "The persistence algorithm uses the value at the previous time step (t-1) to predict the expected outcome at the next time step (t+1).\n",
    "\n",
    "This satisfies the three above conditions for a baseline forecast.\n",
    "\n",
    "To make this concrete, we will look at how to develop a persistence model and use it to establish a baseline performance for a simple univariate time series problem. First, let’s review the Shampoo Sales dataset.\n",
    "\n",
    "## Shampoo Sales Dataset\n",
    "This dataset describes the monthly number of shampoo sales over a 3 year period.\n",
    "\n",
    "The units are a sales count and there are 36 observations. The original dataset is credited to Makridakis, Wheelwright, and Hyndman (1998).\n",
    "\n",
    "Below is a sample of the first 5 rows of data, including the header row."
   ]
  },
  {
   "cell_type": "code",
   "execution_count": null,
   "metadata": {
    "collapsed": true
   },
   "outputs": [],
   "source": [
    "\"Month\",\"Sales\"\n",
    "\"1-01\",266.0\n",
    "\"1-02\",145.9\n",
    "\"1-03\",183.1\n",
    "\"1-04\",119.3\n",
    "\"1-05\",180.3"
   ]
  },
  {
   "cell_type": "markdown",
   "metadata": {},
   "source": [
    "Below is a plot of the entire dataset taken from [Data Market](https://datamarket.com/data/set/22r0/sales-of-shampoo-over-a-three-year-period#!ds=22r0&display=line) where you can download the dataset and learn more about it.\n",
    "\n",
    "![shampoo-sales](Shampoo-Sales-Dataset.png)\n",
    "\n",
    "The dataset shows an increasing trend, and possibly some seasonal component.\n",
    "\n",
    "Download the dataset and place it in the current working directory with the filename “*shampoo-sales.csv*“.\n",
    "\n",
    "The following snippet of code will load the Shampoo Sales dataset and plot the time series."
   ]
  },
  {
   "cell_type": "code",
   "execution_count": 2,
   "metadata": {},
   "outputs": [
    {
     "data": {
      "image/png": "[encoded data removed]",
      "text/plain": [
       "<matplotlib.figure.Figure at 0x10c2ee950>"
      ]
     },
     "metadata": {},
     "output_type": "display_data"
    }
   ],
   "source": [
    "from pandas import read_csv\n",
    "from pandas import datetime\n",
    "from matplotlib import pyplot\n",
    " \n",
    "def parser(x):\n",
    "\treturn datetime.strptime('190'+x, '%Y-%m')\n",
    " \n",
    "series = read_csv('shampoo-sales.csv', header=0, parse_dates=[0], index_col=0, squeeze=True, date_parser=parser)\n",
    "series.plot()\n",
    "pyplot.show()"
   ]
  },
  {
   "cell_type": "markdown",
   "metadata": {},
   "source": [
    "## Persistence Algorithm\n",
    "A persistence model can be implemented easily in Python.\n",
    "\n",
    "We will break this section down into 4 steps:\n",
    "\n",
    "1. Transform the univariate dataset into a supervised learning problem.\n",
    "2. Establish the train and test datasets for the test harness.\n",
    "3. Define the persistence model.\n",
    "4. Make a forecast and establish a baseline performance.\n",
    "5. Review the complete example and plot the output.\n",
    "\n",
    "Let’s dive in.\n",
    "\n",
    "### Step 1: Define the Supervised Learning Problem\n",
    "The first step is to load the dataset and create a lagged representation. That is, given the observation at t-1, predict the observation at t+1."
   ]
  },
  {
   "cell_type": "code",
   "execution_count": 5,
   "metadata": {},
   "outputs": [
    {
     "name": "stdout",
     "output_type": "stream",
     "text": [
      "     t-1    t+1\n",
      "0    NaN  266.0\n",
      "1  266.0  145.9\n",
      "2  145.9  183.1\n",
      "3  183.1  119.3\n",
      "4  119.3  180.3\n"
     ]
    }
   ],
   "source": [
    "import pandas as pd\n",
    "# Create lagged dataset\n",
    "values = pd.DataFrame(series.values)\n",
    "dataframe = pd.concat([values.shift(1), values], axis=1)\n",
    "dataframe.columns = ['t-1', 't+1']\n",
    "print(dataframe.head(5))"
   ]
  },
  {
   "cell_type": "markdown",
   "metadata": {},
   "source": [
    "This snippet creates the dataset and prints the first 5 rows of the new dataset.\n",
    "\n",
    "We can see that the first row (index 0) will have to be discarded as there was no observation prior to the first observation to use to make the prediction.\n",
    "\n",
    "From a supervised learning perspective, the t-1 column is the input variable, or X, and the t+1 column is the output variable, or y.\n",
    "\n",
    "### Step 2: Train and Test Sets\n",
    "The next step is to separate the dataset into train and test sets.\n",
    "\n",
    "We will keep the first 66% of the observations for “training” and the remaining 34% for evaluation. During the split, we are careful to exclude the first row of data with the NaN value.\n",
    "\n",
    "No training is required in this case; it’s just habit. Each of the train and test sets are then split into the input and output variables."
   ]
  },
  {
   "cell_type": "code",
   "execution_count": 6,
   "metadata": {
    "collapsed": true
   },
   "outputs": [],
   "source": [
    "# split into train and test sets\n",
    "X = dataframe.values\n",
    "train_size = int(len(X) * 0.66)\n",
    "train, test = X[1:train_size], X[train_size:]\n",
    "train_X, train_y = train[:,0], train[:,1]\n",
    "test_X, test_y = test[:,0], test[:,1]"
   ]
  },
  {
   "cell_type": "markdown",
   "metadata": {},
   "source": [
    "### Step 3: Persistence Algorithm\n",
    "We can define our persistence model as a function that returns the value provided as input.\n",
    "\n",
    "For example, if the t-1 value of 266.0 was provided, then this is returned as the prediction, whereas the actual real or expected value happens to be 145.9 (taken from the first usable row in our lagged dataset)."
   ]
  },
  {
   "cell_type": "code",
   "execution_count": 7,
   "metadata": {
    "collapsed": true
   },
   "outputs": [],
   "source": [
    "# persistence model\n",
    "def model_persistence(x):\n",
    "\treturn x"
   ]
  },
  {
   "cell_type": "markdown",
   "metadata": {},
   "source": [
    "### Step 4: Make and Evaluate Forecast\n",
    "Now we can evaluate this model on the test dataset.\n",
    "\n",
    "We do this using the walk-forward validation method.\n",
    "\n",
    "No model training or retraining is required, so in essence, we step through the test dataset time step by time step and get predictions.\n",
    "\n",
    "Once predictions are made for each time step in the training dataset, they are compared to the expected values and a Mean Squared Error (MSE) score is calculated."
   ]
  },
  {
   "cell_type": "code",
   "execution_count": 11,
   "metadata": {},
   "outputs": [
    {
     "name": "stdout",
     "output_type": "stream",
     "text": [
      "Test MSE: 17730.518\n"
     ]
    }
   ],
   "source": [
    "from sklearn.metrics import mean_squared_error\n",
    "# walk-forward validation\n",
    "predictions = list()\n",
    "for x in test_X:\n",
    "\tyhat = model_persistence(x)\n",
    "\tpredictions.append(yhat)\n",
    "test_score = mean_squared_error(test_y, predictions)\n",
    "print('Test MSE: %.3f' % test_score)"
   ]
  },
  {
   "cell_type": "markdown",
   "metadata": {},
   "source": [
    "In this case, the error is more than 17,730 over the test dataset.\n",
    "\n",
    "### Step 5: Complete Example\n",
    "Finally, a plot is made to show the training dataset and the diverging predictions from the expected values from the test dataset.\n",
    "\n",
    "From the plot of the persistence model predictions, it is clear that the model is 1-step behind reality. There is a rising trend and month-to-month noise in the sales figures, which highlights the limitations of the persistence technique.\n",
    "\n",
    "The complete example is listed below."
   ]
  },
  {
   "cell_type": "code",
   "execution_count": 12,
   "metadata": {},
   "outputs": [
    {
     "name": "stdout",
     "output_type": "stream",
     "text": [
      "     t-1    t+1\n",
      "0    NaN  266.0\n",
      "1  266.0  145.9\n",
      "2  145.9  183.1\n",
      "3  183.1  119.3\n",
      "4  119.3  180.3\n",
      "Test MSE: 17730.518\n"
     ]
    },
    {
     "data": {
      "image/png": "[encoded data removed]",
      "text/plain": [
       "<matplotlib.figure.Figure at 0x10c4e6650>"
      ]
     },
     "metadata": {},
     "output_type": "display_data"
    }
   ],
   "source": [
    "from pandas import read_csv\n",
    "from pandas import datetime\n",
    "from pandas import DataFrame\n",
    "from pandas import concat\n",
    "from matplotlib import pyplot\n",
    "from sklearn.metrics import mean_squared_error\n",
    " \n",
    "def parser(x):\n",
    "\treturn datetime.strptime('190'+x, '%Y-%m')\n",
    " \n",
    "series = read_csv('shampoo-sales.csv', header=0, parse_dates=[0], index_col=0, squeeze=True, date_parser=parser)\n",
    "# Create lagged dataset\n",
    "values = DataFrame(series.values)\n",
    "dataframe = concat([values.shift(1), values], axis=1)\n",
    "dataframe.columns = ['t-1', 't+1']\n",
    "print(dataframe.head(5))\n",
    " \n",
    "# split into train and test sets\n",
    "X = dataframe.values\n",
    "train_size = int(len(X) * 0.66)\n",
    "train, test = X[1:train_size], X[train_size:]\n",
    "train_X, train_y = train[:,0], train[:,1]\n",
    "test_X, test_y = test[:,0], test[:,1]\n",
    " \n",
    "# persistence model\n",
    "def model_persistence(x):\n",
    "\treturn x\n",
    " \n",
    "# walk-forward validation\n",
    "predictions = list()\n",
    "for x in test_X:\n",
    "\tyhat = model_persistence(x)\n",
    "\tpredictions.append(yhat)\n",
    "test_score = mean_squared_error(test_y, predictions)\n",
    "print('Test MSE: %.3f' % test_score)\n",
    " \n",
    "# plot predictions and expected results\n",
    "pyplot.plot(train_y)\n",
    "pyplot.plot([None for i in train_y] + [x for x in test_y])\n",
    "pyplot.plot([None for i in train_y] + [x for x in predictions])\n",
    "pyplot.show()"
   ]
  },
  {
   "cell_type": "markdown",
   "metadata": {},
   "source": [
    "We have seen an example of the persistence model developed from scratch for the Shampoo Sales problem.\n",
    "\n",
    "The persistence algorithm is naive. It is often called the naive forecast.\n",
    "\n",
    "It assumes nothing about the specifics of the time series problem to which it is applied. This is what makes it so easy to understand and so quick to implement and evaluate.\n",
    "\n",
    "As a machine learning practitioner, it can also spark a large number of improvements.\n",
    "\n",
    "Write them down.\n",
    "\n",
    "This is useful because these ideas can become input features in a feature engineering effort or simple models that may be combined in an ensembling effort later.\n",
    "\n",
    "## Summary\n",
    "In this tutorial, you discovered how to establish a baseline performance on time series forecast problems with Python.\n",
    "\n",
    "Specifically, you learned:\n",
    "\n",
    "* The importance of establishing a baseline and the persistence algorithm that you can use.\n",
    "* How to implement the persistence algorithm in Python from scratch.\n",
    "* How to evaluate the forecasts of the persistence algorithm and use them as a baseline."
   ]
  }
 ],
 "metadata": {
  "kernelspec": {
   "display_name": "Python 2",
   "language": "python",
   "name": "python2"
  },
  "language_info": {
   "codemirror_mode": {
    "name": "ipython",
    "version": 2
   },
   "file_extension": ".py",
   "mimetype": "text/x-python",
   "name": "python",
   "nbconvert_exporter": "python",
   "pygments_lexer": "ipython2",
   "version": "2.7.14"
  }
 },
 "nbformat": 4,
 "nbformat_minor": 2
}
