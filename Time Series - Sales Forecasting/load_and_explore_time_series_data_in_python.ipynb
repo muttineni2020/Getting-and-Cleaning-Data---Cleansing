{
 "cells": [
  {
   "cell_type": "markdown",
   "metadata": {},
   "source": [
    "# How to Load and Explore Time Series Data in Python\n",
    "The Pandas library in Python provides excellent, built-in support for time series data.\n",
    "\n",
    "Once loaded, Pandas also provides tools to explore and better understand your dataset.\n",
    "\n",
    "In this post, you will discover how to load and explore your time series dataset.\n",
    "\n",
    "After completing this tutorial, you will know:\n",
    "\n",
    "* How to load your time series dataset from a CSV file using Pandas.\n",
    "* How to peek at the loaded data and calculate summary statistics.\n",
    "* How to plot and review your time series data.\n",
    "\n",
    "Let’s get started.\n",
    "\n",
    "## Daily Female Births Dataset\n",
    "In this post, we will use the Daily Female Births Dataset as an example.\n",
    "\n",
    "This univariate time series dataset describes the number of daily female births in California in 1959.\n",
    "\n",
    "The units are a count and there are 365 observations. The source of the dataset is credited to Newton (1988).\n",
    "\n",
    "Below is a sample of the first 5 rows of data, including the header row."
   ]
  },
  {
   "cell_type": "code",
   "execution_count": null,
   "metadata": {
    "collapsed": true
   },
   "outputs": [],
   "source": [
    "\"Date\",\"Daily total female births in California, 1959\"\n",
    "\"1959-01-01\",35\n",
    "\"1959-01-02\",32\n",
    "\"1959-01-03\",30\n",
    "\"1959-01-04\",31\n",
    "\"1959-01-05\",44"
   ]
  },
  {
   "cell_type": "markdown",
   "metadata": {},
   "source": [
    "Below is a plot of the entire dataset taken from Data Market.\n",
    "\n",
    "![daily-female-births](Daily-Female-Births-Dataset.png)\n",
    "\n",
    "You can [download the dataset from this website](https://datamarket.com/data/set/235k/daily-total-female-births-in-california-1959#!ds=235k&display=line).\n",
    "\n",
    "Download the dataset and place it in your current working directory with the file name **“daily-total-female-births-in-cal.csv“.**\n",
    "\n",
    "## Load Time Series Data\n",
    "Pandas represented time series datasets as a Series.\n",
    "\n",
    "A Series is a one-dimensional array with a time label for each row.\n",
    "\n",
    "We can load the Daily Female Births dataset directly using the Series class as follows:"
   ]
  },
  {
   "cell_type": "code",
   "execution_count": 1,
   "metadata": {},
   "outputs": [
    {
     "name": "stdout",
     "output_type": "stream",
     "text": [
      "Date\n",
      "1959-01-01    35\n",
      "1959-01-02    32\n",
      "1959-01-03    30\n",
      "1959-01-04    31\n",
      "1959-01-05    44\n",
      "Name: Daily total female births in California, 1959, dtype: int64\n"
     ]
    }
   ],
   "source": [
    "# Load birth data\n",
    "from pandas import Series\n",
    "series = Series.from_csv('daily-total-female-births-in-cal.csv', header=0)\n",
    "print(series.head())"
   ]
  },
  {
   "cell_type": "markdown",
   "metadata": {},
   "source": [
    "The series has a name, which is the column name of the data column.\n",
    "\n",
    "You can see that each row has an associated date. This is in fact not a column, but instead a time index for value. As an index, there can be multiple values for one time, and values may be spaced evenly or unevenly across times.\n",
    "\n",
    "The main function for loading CSV data in Pandas is the read_csv() function. We can use this to load the time series as a Series object, instead of a DataFrame, as follows:"
   ]
  },
  {
   "cell_type": "code",
   "execution_count": 2,
   "metadata": {},
   "outputs": [
    {
     "name": "stdout",
     "output_type": "stream",
     "text": [
      "<class 'pandas.core.series.Series'>\n",
      "Date\n",
      "1959-01-01    35\n",
      "1959-01-02    32\n",
      "1959-01-03    30\n",
      "1959-01-04    31\n",
      "1959-01-05    44\n",
      "Name: Daily total female births in California, 1959, dtype: int64\n"
     ]
    }
   ],
   "source": [
    "# Load birth data using read_csv\n",
    "from pandas import read_csv\n",
    "series = read_csv('daily-total-female-births-in-cal.csv', header=0, parse_dates=[0], index_col=0, squeeze=True)\n",
    "print(type(series))\n",
    "print(series.head())"
   ]
  },
  {
   "cell_type": "markdown",
   "metadata": {},
   "source": [
    "Note the arguments to the **read_csv()** function.\n",
    "\n",
    "We provide it a number of hints to ensure the data is loaded as a Series.\n",
    "\n",
    "* **header=0**: We must specify the header information at row 0.\n",
    "* **parse_dates=[0]**: We give the function a hint that data in the first column contains dates that need to be parsed. This argument takes a list, so we provide it a list of one element, which is the index of the first column.\n",
    "* **index_col=0**: We hint that the first column contains the index information for the time series.\n",
    "* **squeeze=True**: We hint that we only have one data column and that we are interested in a Series and not a DataFrame.\n",
    "\n",
    "One more argument you may need to use for your own data is **date_parser** to specify the function to parse date-time values. In this example, the date format has been inferred, and this works in most cases. In those few cases where it does not, specify your own date parsing function and use the **date_parser** argument."
   ]
  },
  {
   "cell_type": "markdown",
   "metadata": {},
   "source": [
    "## Exploring Time Series Data\n",
    "Pandas also provides tools to explore and summarize your time series data.\n",
    "\n",
    "In this section, we’ll take a look at a few, common operations to explore and summarize your loaded time series data.\n",
    "\n",
    "### Peek at the Data\n",
    "It is a good idea to take a peek at your loaded data to confirm that the types, dates, and data loaded as you intended.\n",
    "\n",
    "You can use the **head()** function to peek at the first 5 records or specify the first n number of records to review.\n",
    "\n",
    "For example, you can print the first 10 rows of data as follows."
   ]
  },
  {
   "cell_type": "code",
   "execution_count": 4,
   "metadata": {},
   "outputs": [
    {
     "name": "stdout",
     "output_type": "stream",
     "text": [
      "Date\n",
      "1959-01-01    35\n",
      "1959-01-02    32\n",
      "1959-01-03    30\n",
      "1959-01-04    31\n",
      "1959-01-05    44\n",
      "1959-01-06    29\n",
      "1959-01-07    45\n",
      "1959-01-08    43\n",
      "1959-01-09    38\n",
      "1959-01-10    27\n",
      "Name: Daily total female births in California, 1959, dtype: int64\n"
     ]
    }
   ],
   "source": [
    "from pandas import Series\n",
    "series = Series.from_csv('daily-total-female-births-in-cal.csv', header=0)\n",
    "print(series.head(10))"
   ]
  },
  {
   "cell_type": "markdown",
   "metadata": {},
   "source": [
    "You can also use the **tail()** function to get the last **n** records of the dataset.\n",
    "\n",
    "### Number of Observations\n",
    "Another quick check to perform on your data is the number of loaded observations.\n",
    "\n",
    "This can help flush out issues with column headers not being handled as intended, and to get an idea on how to effectively divide up data later for use with supervised learning algorithms.\n",
    "\n",
    "You can get the dimensionality of your Series using the **size** parameter."
   ]
  },
  {
   "cell_type": "code",
   "execution_count": 5,
   "metadata": {},
   "outputs": [
    {
     "name": "stdout",
     "output_type": "stream",
     "text": [
      "366\n"
     ]
    }
   ],
   "source": [
    "from pandas import Series\n",
    "series = Series.from_csv('daily-total-female-births-in-cal.csv', header=0)\n",
    "print(series.size)"
   ]
  },
  {
   "cell_type": "markdown",
   "metadata": {},
   "source": [
    "Running this example we can see that as we would expect, there are 366 observations, one for each day of the year in 1959.\n",
    "\n",
    "### Descriptive Statistics\n",
    "Calculating descriptive statistics on your time series can help get an idea of the distribution and spread of values.\n",
    "\n",
    "This may help with ideas of data scaling and even data cleaning that you can perform later as part of preparing your dataset for modeling.\n",
    "\n",
    "The **describe()** function creates a 7 number summary of the loaded time series including mean, standard deviation, median, minimum, and maximum of the observations."
   ]
  },
  {
   "cell_type": "code",
   "execution_count": 8,
   "metadata": {},
   "outputs": [
    {
     "name": "stdout",
     "output_type": "stream",
     "text": [
      "count     366.000000\n",
      "mean       47.218579\n",
      "std       100.472534\n",
      "min        23.000000\n",
      "25%        37.000000\n",
      "50%        42.000000\n",
      "75%        46.000000\n",
      "max      1959.000000\n",
      "Name: Daily total female births in California, 1959, dtype: float64\n"
     ]
    }
   ],
   "source": [
    "from pandas import Series\n",
    "series = Series.from_csv('daily-total-female-births-in-cal.csv', header=0)\n",
    "print(series.describe())"
   ]
  },
  {
   "cell_type": "markdown",
   "metadata": {},
   "source": [
    "Running this example prints a summary of the birth rate dataset.\n",
    "\n",
    "### Plotting Time Series\n",
    "Plotting time series data, especially univariate time series, is an important part of exploring your data.\n",
    "\n",
    "This functionality is provided on the loaded Series by calling the **plot()** function.\n",
    "\n",
    "Below is an example of plotting the entire loaded time series dataset."
   ]
  },
  {
   "cell_type": "code",
   "execution_count": 9,
   "metadata": {},
   "outputs": [
    {
     "data": {
      "image/png": "[encoded data removed]",
      "text/plain": [
       "<matplotlib.figure.Figure at 0x1103aa950>"
      ]
     },
     "metadata": {},
     "output_type": "display_data"
    }
   ],
   "source": [
    "from pandas import Series\n",
    "from matplotlib import pyplot\n",
    "series = Series.from_csv('daily-total-female-births-in-cal.csv', header=0)\n",
    "pyplot.plot(series)\n",
    "pyplot.show()"
   ]
  },
  {
   "cell_type": "markdown",
   "metadata": {},
   "source": [
    "Running the example creates a time series plot with the number of daily births on the y-axis and time in days along the x-axis.\n",
    "\n",
    "## Further Reading\n",
    "If you’re interested in learning more about Pandas’ functionality working with time series data, see some of the links below.\n",
    "\n",
    "* [Pandas Time Series / Date functionality](http://pandas.pydata.org/pandas-docs/stable/timeseries.html)\n",
    "* [Pandas Time Series Basics](https://chrisalbon.com/python/data_wrangling/pandas_time_series_basics/)\n",
    "* [Time series analysis with pandas](http://earthpy.org/pandas-basics.html)\n",
    "\n",
    "## Summary\n",
    "In this post, you discovered how to load and handle time series data using the Pandas Python library.\n",
    "\n",
    "Specifically, you learned:\n",
    "\n",
    "* How to load your time series data as a Pandas Series.\n",
    "* How to peek at and calculate summary statistics of your time series data.\n",
    "* How to plot your time series data."
   ]
  }
 ],
 "metadata": {
  "kernelspec": {
   "display_name": "Python 2",
   "language": "python",
   "name": "python2"
  },
  "language_info": {
   "codemirror_mode": {
    "name": "ipython",
    "version": 2
   },
   "file_extension": ".py",
   "mimetype": "text/x-python",
   "name": "python",
   "nbconvert_exporter": "python",
   "pygments_lexer": "ipython2",
   "version": "2.7.14"
  }
 },
 "nbformat": 4,
 "nbformat_minor": 2
}
