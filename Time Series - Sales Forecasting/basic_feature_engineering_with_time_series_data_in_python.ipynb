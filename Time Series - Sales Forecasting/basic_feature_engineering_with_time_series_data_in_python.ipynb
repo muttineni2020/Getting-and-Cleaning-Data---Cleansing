{
 "cells": [
  {
   "cell_type": "markdown",
   "metadata": {},
   "source": [
    "# Basic Feature Engineering With Time Series Data in Python\n",
    "Time Series data must be re-framed as a supervised learning dataset before we can start using machine learning algorithms.\n",
    "\n",
    "There is no concept of input and output features in time series. Instead, we must choose the variable to be predicted and use feature engineering to construct all of the inputs that will be used to make predictions for future time steps.\n",
    "\n",
    "In this tutorial, you will discover how to perform feature engineering on time series data with Python to model your time series problem with machine learning algorithms.\n",
    "\n",
    "After completing this tutorial, you will know:\n",
    "\n",
    "* The rationale and goals of feature engineering time series data.\n",
    "* How to develop basic date-time based input features.\n",
    "* How to develop more sophisticated lag and sliding window summary statistics features.\n",
    "\n",
    "Let’s dive in."
   ]
  },
  {
   "cell_type": "markdown",
   "metadata": {},
   "source": [
    "## Feature Engineering for Time Series\n",
    "A time series dataset must be transformed to be modeled as a supervised learning problem.\n",
    "\n",
    "That is something that looks like:"
   ]
  },
  {
   "cell_type": "code",
   "execution_count": null,
   "metadata": {
    "collapsed": true
   },
   "outputs": [],
   "source": [
    "time 1, value 1\n",
    "time 2, value 2\n",
    "time 3, value 3"
   ]
  },
  {
   "cell_type": "markdown",
   "metadata": {},
   "source": [
    "To something that looks like:"
   ]
  },
  {
   "cell_type": "code",
   "execution_count": null,
   "metadata": {
    "collapsed": true
   },
   "outputs": [],
   "source": [
    "input 1, output 1\n",
    "input 2, output 2\n",
    "input 3, output 3"
   ]
  },
  {
   "cell_type": "markdown",
   "metadata": {},
   "source": [
    "So that we can train a supervised learning algorithm.\n",
    "\n",
    "Input variables are also called features in the field of machine learning, and the task before us is to create or invent new input features from our time series dataset. Ideally, we only want input features that best help the learning methods model the relationship between the inputs (**X**) and the outputs (**y**) that we would like to predict.\n",
    "\n",
    "In this tutorial, we will look at three classes of features that we can create from our time series dataset:\n",
    "\n",
    "1. **Date Time Features**: these are components of the time step itself for each observation.\n",
    "2. **Lag Features**: these are values at prior time steps.\n",
    "3. **Window Features**: these are a summary of values over a fixed window of prior time steps.\n",
    "\n",
    "Before we dive into methods for creating input features from our time series data, let’s first review the goal of feature engineering."
   ]
  },
  {
   "cell_type": "markdown",
   "metadata": {},
   "source": [
    "## Goal of Feature Engineering\n",
    "The goal of feature engineering is to provide strong and ideally simple relationships between new input features and the output feature for the supervised learning algorithm to model.\n",
    "\n",
    "In effect, we are are moving complexity.\n",
    "\n",
    "Complexity exists in the relationships between the input and output data. In the case of time series, there is no concept of input and output variables; we must invent these too and frame the supervised learning problem from scratch.\n",
    "\n",
    "We may lean on the capability of sophisticated models to decipher the complexity of the problem. We can make the job for these models easier (and even use simpler models) if we can better expose the inherent relationship between inputs and outputs in the data.\n",
    "\n",
    "The difficulty is that we do not know the underlying inherent functional relationship between inputs and outputs that we’re trying to expose. If we did know, we probably would not need machine learning.\n",
    "\n",
    "Instead, the only feedback we have is the performance of models developed on the supervised learning datasets or “views” of the problem we create. In effect, the best default strategy is to use all the knowledge available to create many good datasets from your time series dataset and use model performance (and other project requirements) to help determine what good features and good views of your problem happen to be.\n",
    "\n",
    "For clarity, we will focus on a univariate (one variable) time series dataset in the examples, but these methods are just as applicable to multivariate time series problems. Next, let’s take a look at the dataset we will use in this tutorial.\n",
    "\n",
    "## Minimum Daily Temperatures Dataset\n",
    "In this post, we will use the Minimum Daily Temperatures dataset.\n",
    "\n",
    "This dataset describes the minimum daily temperatures over 10 years (1981-1990) in Melbourne, Australia.\n",
    "\n",
    "The units are in degrees Celsius and there are 3,650 observations. The source of the data is credited as the Australian Bureau of Meteorology.\n",
    "\n",
    "Below is a sample of the first 5 rows of data, including the header row."
   ]
  },
  {
   "cell_type": "code",
   "execution_count": null,
   "metadata": {
    "collapsed": true
   },
   "outputs": [],
   "source": [
    "\"Date\",\"Temperature\"\n",
    "\"1981-01-01\",20.7\n",
    "\"1981-01-02\",17.9\n",
    "\"1981-01-03\",18.8\n",
    "\"1981-01-04\",14.6\n",
    "\"1981-01-05\",15.8"
   ]
  },
  {
   "cell_type": "markdown",
   "metadata": {},
   "source": [
    "Below is a plot of the entire dataset taken from Data Market.\n",
    "\n",
    "![min-daily-temp](Minimum-Daily-Temperatures.png)\n",
    "\n",
    "The dataset shows an increasing trend and possibly some seasonal components.\n",
    "\n",
    "[Download and learn more about the dataset here](https://datamarket.com/data/set/2324/daily-minimum-temperatures-in-melbourne-australia-1981-1990#!ds=2324&display=line).\n",
    "\n",
    "## Date Time Features\n",
    "Let’s start with some of the simplest features that we can use.\n",
    "\n",
    "These are features from the date/time of each observation. In fact, these can start off simply and head off into quite complex domain-specific areas.\n",
    "\n",
    "Two features that we can start with are the integer month and day for each observation. We can imagine that supervised learning algorithms may be able to use these inputs to help tease out time-of-year or time-of-month type seasonality information.\n",
    "\n",
    "The supervised learning problem we are proposing is to predict the daily minimum temperature given the month and day, as follows:"
   ]
  },
  {
   "cell_type": "code",
   "execution_count": null,
   "metadata": {
    "collapsed": true
   },
   "outputs": [],
   "source": [
    "Month, Day, Temperature\n",
    "Month, Day, Temperature\n",
    "Month, Day, Temperature"
   ]
  },
  {
   "cell_type": "markdown",
   "metadata": {},
   "source": [
    "We can do this using Pandas. First, the time series is loaded as a Pandas Series. We then create a new Pandas DataFrame for the transformed dataset.\n",
    "\n",
    "Next, each column is added one at a time where month and day information is extracted from the time-stamp information for each observation in the series.\n",
    "\n",
    "Below is the Python code to do this."
   ]
  },
  {
   "cell_type": "code",
   "execution_count": 2,
   "metadata": {},
   "outputs": [
    {
     "name": "stdout",
     "output_type": "stream",
     "text": [
      "   month  day  temperature\n",
      "0      1    1         20.7\n",
      "1      1    2         17.9\n",
      "2      1    3         18.8\n",
      "3      1    4         14.6\n",
      "4      1    5         15.8\n"
     ]
    }
   ],
   "source": [
    "from pandas import Series\n",
    "from pandas import DataFrame\n",
    "series = Series.from_csv('daily-minimum-temperatures-in-me.csv', header=0)\n",
    "dataframe = DataFrame()\n",
    "dataframe['month'] = [series.index[i].month for i in range(len(series))]\n",
    "dataframe['day'] = [series.index[i].day for i in range(len(series))]\n",
    "dataframe['temperature'] = [series[i] for i in range(len(series))]\n",
    "print(dataframe.head(5))"
   ]
  },
  {
   "cell_type": "markdown",
   "metadata": {},
   "source": [
    "Running this example prints the first 5 rows of the transformed dataset.\n",
    "\n",
    "Using just the month and day information alone to predict temperature is not sophisticated and will likely result in a poor model. Nevertheless, this information coupled with additional engineered features may ultimately result in a better model.\n",
    "\n",
    "You may enumerate all the properties of a time-stamp and consider what might be useful for your problem, such as:\n",
    "\n",
    "* Minutes elapsed for the day.\n",
    "* Hour of day.\n",
    "* Business hours or not.\n",
    "* Weekend or not.\n",
    "* Season of the year.\n",
    "* Business quarter of the year.\n",
    "* Daylight savings or not.\n",
    "* Public holiday or not.\n",
    "* Leap year or not.\n",
    "\n",
    "From these examples, you can see that you’re not restricted to the raw integer values. You can use binary flag features as well, like whether or not the observation was recorded on a public holiday.\n",
    "\n",
    "In the case of the minimum temperature dataset, maybe the season would be more relevant. It is creating domain-specific features like this that are more likely to add value to your model.\n",
    "\n",
    "Date-time based features are a good start, but it is often a lot more useful to include the values at previous time steps. These are called lagged values and we will look at adding these features in the next section.\n",
    "\n",
    "## Lag Features\n",
    "Lag features are the classical way that time series forecasting problems are transformed into supervised learning problems.\n",
    "\n",
    "The simplest approach is to predict the value at the next time (t+1) given the value at the previous time (t-1). The supervised learning problem with shifted values looks as follows:"
   ]
  },
  {
   "cell_type": "code",
   "execution_count": null,
   "metadata": {
    "collapsed": true
   },
   "outputs": [],
   "source": [
    "Value(t-1), Value(t+1)\n",
    "Value(t-1), Value(t+1)\n",
    "Value(t-1), Value(t+1)"
   ]
  },
  {
   "cell_type": "markdown",
   "metadata": {},
   "source": [
    "The Pandas library provides the [shift()](http://pandas.pydata.org/pandas-docs/stable/generated/pandas.DataFrame.shift.html) function to help create these shifted or lag features from a time series dataset. Shifting the dataset by 1 creates the t-1 column, adding a NaN (unknown) value for the first row. The time series dataset without a shift represents the t+1.\n",
    "\n",
    "Let’s make this concrete with an example. The first 3 values of the temperature dataset are 20.7, 17.9, and 18.8. The shifted and unshifted lists of temperatures for the first 3 observations are therefore:"
   ]
  },
  {
   "cell_type": "code",
   "execution_count": null,
   "metadata": {
    "collapsed": true
   },
   "outputs": [],
   "source": [
    "Shifted, Original\n",
    "NaN, 20.7\n",
    "20.7, 17.9\n",
    "17.9, 18.8"
   ]
  },
  {
   "cell_type": "markdown",
   "metadata": {},
   "source": [
    "We can concatenate the shifted columns together into a new DataFrame using the [concat()](http://pandas.pydata.org/pandas-docs/stable/generated/pandas.concat.html) function along the column axis (*axis=1*).\n",
    "\n",
    "Putting this all together, below is an example of creating a lag feature for our daily temperature dataset. The values are extracted from the loaded series and a shifted and unshifted list of these values is created. Each column is also named in the *DataFrame* for clarity."
   ]
  },
  {
   "cell_type": "code",
   "execution_count": 3,
   "metadata": {},
   "outputs": [
    {
     "name": "stdout",
     "output_type": "stream",
     "text": [
      "    t-1   t+1\n",
      "0   NaN  20.7\n",
      "1  20.7  17.9\n",
      "2  17.9  18.8\n",
      "3  18.8  14.6\n",
      "4  14.6  15.8\n"
     ]
    }
   ],
   "source": [
    "from pandas import Series\n",
    "from pandas import DataFrame\n",
    "from pandas import concat\n",
    "series = Series.from_csv('daily-minimum-temperatures-in-me.csv', header=0)\n",
    "temps = DataFrame(series.values)\n",
    "dataframe = concat([temps.shift(1), temps], axis=1)\n",
    "dataframe.columns = ['t-1', 't+1']\n",
    "print(dataframe.head(5))"
   ]
  },
  {
   "cell_type": "markdown",
   "metadata": {},
   "source": [
    "Running the example prints the first 5 rows of the new dataset with the lagged feature.\n",
    "\n",
    "You can see that we would have to discard the first row to use the dataset to train a supervised learning model, as it does not contain enough data to work with.\n",
    "\n",
    "The addition of lag features is called the sliding window method, in this case with a window width of 1. It is as though we are sliding our focus along the time series for each observation with an interest in only what is within the window width.\n",
    "\n",
    "We can expand the window width and include more lagged features. For example, below is the above case modified to include the last 3 observed values to predict the value at the next time step."
   ]
  },
  {
   "cell_type": "code",
   "execution_count": 4,
   "metadata": {},
   "outputs": [
    {
     "name": "stdout",
     "output_type": "stream",
     "text": [
      "    t-3   t-2   t-1   t+1\n",
      "0   NaN   NaN   NaN  20.7\n",
      "1   NaN   NaN  20.7  17.9\n",
      "2   NaN  20.7  17.9  18.8\n",
      "3  20.7  17.9  18.8  14.6\n",
      "4  17.9  18.8  14.6  15.8\n"
     ]
    }
   ],
   "source": [
    "from pandas import Series\n",
    "from pandas import DataFrame\n",
    "from pandas import concat\n",
    "series = Series.from_csv('daily-minimum-temperatures-in-me.csv', header=0)\n",
    "temps = DataFrame(series.values)\n",
    "dataframe = concat([temps.shift(3), temps.shift(2), temps.shift(1), temps], axis=1)\n",
    "dataframe.columns = ['t-3', 't-2', 't-1', 't+1']\n",
    "print(dataframe.head(5))"
   ]
  },
  {
   "cell_type": "markdown",
   "metadata": {},
   "source": [
    "Running this example prints the first 5 rows of the new lagged dataset.\n",
    "\n",
    "Again, you can see that we must discard the first few rows that do not have enough data to train a supervised model.\n",
    "\n",
    "A difficulty with the sliding window approach is how large to make the window for your problem.\n",
    "\n",
    "Perhaps a good starting point is to perform a sensitivity analysis and try a suite of different window widths to in turn create a suite of different “views” of your dataset and see which results in better performing models. There will be a point of diminishing returns.\n",
    "\n",
    "Additionally, why stop with a linear window? Perhaps you need a lag value from last week, last month, and last year. Again, this comes down to the specific domain.\n",
    "\n",
    "In the case of the temperature dataset, a lag value from the same day in the previous year or previous few years may be useful.\n",
    "\n",
    "We can do more with a window than include the raw values. In the next section, we’ll look at including features that summarize statistics across the window.\n",
    "\n",
    "## Rolling Window Statistics\n",
    "A step beyond adding raw lagged values is to add a summary of the values at previous time steps.\n",
    "\n",
    "We can calculate summary statistics across the values in the sliding window and include these as features in our dataset. Perhaps the most useful is the mean of the previous few values, also called the rolling mean.\n",
    "\n",
    "For example, we can calculate the mean of the previous two values and use that to predict the next value. For the temperature data, we would have to wait 3 time steps before we had 2 values to take the average of before we could use that value to predict a 3rd value.\n",
    "\n",
    "For example:"
   ]
  },
  {
   "cell_type": "code",
   "execution_count": null,
   "metadata": {
    "collapsed": true
   },
   "outputs": [],
   "source": [
    "mean(t-2, t-1), t+1\n",
    "mean(20.7, 17.9), 18.8\n",
    "19.3, 18.8"
   ]
  },
  {
   "cell_type": "markdown",
   "metadata": {},
   "source": [
    "Pandas provides a [rolling()](http://pandas.pydata.org/pandas-docs/stable/generated/pandas.DataFrame.rolling.html) function that creates a new data structure with the window of values at each time step. We can then perform statistical functions on the window of values collected for each time step, such as calculating the mean.\n",
    "\n",
    "First, the series must be shifted. Then the rolling dataset can be created and the mean values calculated on each window of two values.\n",
    "\n",
    "Here are the values in the first three rolling windows:"
   ]
  },
  {
   "cell_type": "code",
   "execution_count": null,
   "metadata": {
    "collapsed": true
   },
   "outputs": [],
   "source": [
    "#, Window Values\n",
    "1, NaN\n",
    "2, NaN, 20.7\n",
    "3, 20.7, 17.9"
   ]
  },
  {
   "cell_type": "markdown",
   "metadata": {},
   "source": [
    "This suggests that we will not have usable data until the 3rd row.\n",
    "\n",
    "Finally, as in the previous section, we can use the *concat()* function to construct a new dataset with just our new columns.\n",
    "\n",
    "The example below demonstrates how to do this with Pandas with a window size of 2."
   ]
  },
  {
   "cell_type": "code",
   "execution_count": 5,
   "metadata": {},
   "outputs": [
    {
     "name": "stdout",
     "output_type": "stream",
     "text": [
      "   mean(t-2,t-1)   t+1\n",
      "0            NaN  20.7\n",
      "1            NaN  17.9\n",
      "2          19.30  18.8\n",
      "3          18.35  14.6\n",
      "4          16.70  15.8\n"
     ]
    }
   ],
   "source": [
    "from pandas import Series\n",
    "from pandas import DataFrame\n",
    "from pandas import concat\n",
    "series = Series.from_csv('daily-minimum-temperatures-in-me.csv', header=0)\n",
    "temps = DataFrame(series.values)\n",
    "shifted = temps.shift(1)\n",
    "window = shifted.rolling(window=2)\n",
    "means = window.mean()\n",
    "dataframe = concat([means, temps], axis=1)\n",
    "dataframe.columns = ['mean(t-2,t-1)', 't+1']\n",
    "print(dataframe.head(5))"
   ]
  },
  {
   "cell_type": "markdown",
   "metadata": {},
   "source": [
    "Running the example prints the first 5 rows of the new dataset. We can see that the first two rows are not useful.\n",
    "\n",
    "* The first NaN was created by the shift of the series.\n",
    "* The second because NaN cannot be used to calculate a mean value.\n",
    "* Finally, the third row shows the expected value of 19.30 (the mean of 20.7 and 17.9) used to predict the 3rd value in the series of 18.8.\n",
    "\n",
    "There are more statistics we can calculate and even different mathematical ways of calculating the definition of the “window.”\n",
    "\n",
    "Below is another example that shows a window width of 3 and a dataset comprised of more summary statistics, specifically the minimum, mean, and maximum value in the window.\n",
    "\n",
    "You can see in the code that we are explicitly specifying the sliding window width as a named variable. This lets us use it both in calculating the correct shift of the series and in specifying the width of the window to the rolling() function.\n",
    "\n",
    "In this case, the window width of 3 means we must shift the series forward by 2 time steps. This makes the first two rows NaN. Next, we need to calculate the window statistics with 3 values per window. It takes 3 rows before we even have enough data from the series in the window to start calculating statistics. The values in the first 5 windows are as follows:"
   ]
  },
  {
   "cell_type": "code",
   "execution_count": null,
   "metadata": {
    "collapsed": true
   },
   "outputs": [],
   "source": [
    "#, Window Values\n",
    "1, NaN\n",
    "2, NaN, NaN\n",
    "3, NaN, NaN, 20.7\n",
    "4, NaN, 20.7, 17.9\n",
    "5, 20.7, 17.9, 18.8"
   ]
  },
  {
   "cell_type": "markdown",
   "metadata": {},
   "source": [
    "This suggests that we would not expect usable data until at least the 5th row (array index 4)"
   ]
  },
  {
   "cell_type": "code",
   "execution_count": 6,
   "metadata": {},
   "outputs": [
    {
     "name": "stdout",
     "output_type": "stream",
     "text": [
      "    min       mean   max   t+1\n",
      "0   NaN        NaN   NaN  20.7\n",
      "1   NaN        NaN   NaN  17.9\n",
      "2   NaN        NaN   NaN  18.8\n",
      "3   NaN        NaN   NaN  14.6\n",
      "4  17.9  19.133333  20.7  15.8\n"
     ]
    }
   ],
   "source": [
    "from pandas import Series\n",
    "from pandas import DataFrame\n",
    "from pandas import concat\n",
    "series = Series.from_csv('daily-minimum-temperatures-in-me.csv', header=0)\n",
    "temps = DataFrame(series.values)\n",
    "width = 3\n",
    "shifted = temps.shift(width - 1)\n",
    "window = shifted.rolling(window=width)\n",
    "dataframe = concat([window.min(), window.mean(), window.max(), temps], axis=1)\n",
    "dataframe.columns = ['min', 'mean', 'max', 't+1']\n",
    "print(dataframe.head(5))"
   ]
  },
  {
   "cell_type": "markdown",
   "metadata": {},
   "source": [
    "Running the code prints the first 5 rows of the new dataset.\n",
    "\n",
    "We can spot check the correctness of the values on the 5th row (array index 4). We can see that indeed 17.9 is the minimum and 20.7 is the maximum of values in the window of [20.7, 17.9, 18.8]."
   ]
  },
  {
   "cell_type": "code",
   "execution_count": null,
   "metadata": {
    "collapsed": true
   },
   "outputs": [],
   "source": [
    "min mean max t+1\n",
    "0 NaN NaN NaN 20.7\n",
    "1 NaN NaN NaN 17.9\n",
    "2 NaN NaN NaN 18.8\n",
    "3 NaN NaN NaN 14.6\n",
    "4 17.9 19.133333 20.7 15.8"
   ]
  },
  {
   "cell_type": "markdown",
   "metadata": {},
   "source": [
    "## Expanding Window Statistics\n",
    "Another type of window that may be useful includes all previous data in the series.\n",
    "\n",
    "This is called an expanding window and can help with keeping track of the bounds of observable data. Like the rolling() function on DataFrame, Pandas provides an [expanding()](http://pandas.pydata.org/pandas-docs/stable/generated/pandas.DataFrame.expanding.html) function that collects sets of all prior values for each time step.\n",
    "\n",
    "These lists of prior numbers can be summarized and included as new features. For example, below are the lists of numbers in the expanding window for the first 5 time steps of the series:"
   ]
  },
  {
   "cell_type": "code",
   "execution_count": null,
   "metadata": {
    "collapsed": true
   },
   "outputs": [],
   "source": [
    "#, Window Values\n",
    "1, 20.7\n",
    "2, 20.7, 17.9,\n",
    "3, 20.7, 17.9, 18.8\n",
    "4, 20.7, 17.9, 18.8, 14.6\n",
    "5, 20.7, 17.9, 18.8, 14.6, 15.8"
   ]
  },
  {
   "cell_type": "markdown",
   "metadata": {},
   "source": [
    "Again, you can see that we must shift the series one-time step to ensure that the output value we wish to predict is excluded from these window values. Therefore the input windows look as follows:"
   ]
  },
  {
   "cell_type": "code",
   "execution_count": null,
   "metadata": {
    "collapsed": true
   },
   "outputs": [],
   "source": [
    "#, Window Values\n",
    "1, NaN\n",
    "2, NaN, 20.7\n",
    "3, NaN, 20.7, 17.9,\n",
    "4, NaN, 20.7, 17.9, 18.8\n",
    "5, NaN, 20.7, 17.9, 18.8, 14.6"
   ]
  },
  {
   "cell_type": "markdown",
   "metadata": {},
   "source": [
    "Thankfully, the statistical calculations exclude the NaN values in the expanding window, meaning no further modification is required.\n",
    "\n",
    "Below is an example of calculating the minimum, mean, and maximum values of the expanding window on the daily temperature dataset."
   ]
  },
  {
   "cell_type": "code",
   "execution_count": 9,
   "metadata": {},
   "outputs": [
    {
     "name": "stdout",
     "output_type": "stream",
     "text": [
      "    min       mean   max   t+1\n",
      "0  20.7  20.700000  20.7  17.9\n",
      "1  17.9  19.300000  20.7  18.8\n",
      "2  17.9  19.133333  20.7  14.6\n",
      "3  14.6  18.000000  20.7  15.8\n",
      "4  14.6  17.560000  20.7  15.8\n"
     ]
    }
   ],
   "source": [
    "# create expanding window features\n",
    "from pandas import Series\n",
    "from pandas import DataFrame\n",
    "from pandas import concat\n",
    "series = Series.from_csv('daily-minimum-temperatures-in-me.csv', header=0)\n",
    "temps = DataFrame(series.values)\n",
    "window = temps.expanding()\n",
    "dataframe = concat([window.min(), window.mean(), window.max(), temps.shift(-1)], axis=1)\n",
    "dataframe.columns = ['min', 'mean', 'max', 't+1']\n",
    "print(dataframe.head(5))"
   ]
  },
  {
   "cell_type": "markdown",
   "metadata": {},
   "source": [
    "Running the example prints the first 5 rows of the dataset.\n",
    "\n",
    "Spot checking the expanding minimum, mean, and maximum values shows the example having the intended effect.\n",
    "\n",
    "## Summary\n",
    "In this tutorial, you discovered how to use feature engineering to transform a time series dataset into a supervised learning dataset for machine learning.\n",
    "\n",
    "Specifically, you learned:\n",
    "\n",
    "* The importance and goals of feature engineering time series data.\n",
    "* How to develop date-time and lag-based features.\n",
    "* How to develop sliding and expanding window summary statistic features."
   ]
  }
 ],
 "metadata": {
  "kernelspec": {
   "display_name": "Python 2",
   "language": "python",
   "name": "python2"
  },
  "language_info": {
   "codemirror_mode": {
    "name": "ipython",
    "version": 2
   },
   "file_extension": ".py",
   "mimetype": "text/x-python",
   "name": "python",
   "nbconvert_exporter": "python",
   "pygments_lexer": "ipython2",
   "version": "2.7.14"
  }
 },
 "nbformat": 4,
 "nbformat_minor": 2
}
