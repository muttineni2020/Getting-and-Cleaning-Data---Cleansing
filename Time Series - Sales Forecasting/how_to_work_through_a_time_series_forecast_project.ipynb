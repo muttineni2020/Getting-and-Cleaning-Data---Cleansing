{
 "cells": [
  {
   "cell_type": "markdown",
   "metadata": {},
   "source": [
    "# How to Work Through a Time Series Forecast Project\n",
    "A time series forecast process is a set of steps or a recipe that leads you from defining your problem through to the outcome of having a time series forecast model or set of predictions.\n",
    "\n",
    "In this post, you will discover time series forecast processes that you can use to guide you through your forecast project.\n",
    "\n",
    "After reading this post, you will know:\n",
    "\n",
    "* The 5-Step forecasting task by Hyndman and Athana­sopou­los to guide you from problem definition to using and evaluating your forecast model.\n",
    "* The iterative forecast development process by Shmueli and Lichtendahl to guide you from defining your goal to implementing forecasts.\n",
    "* Suggestions and tips for working through your own time series forecasting project.\n",
    "\n",
    "Let’s get started."
   ]
  },
  {
   "cell_type": "markdown",
   "metadata": {},
   "source": [
    "## 5-Step Forecasting Task\n",
    "The 5 basic steps in a forecasting task are summarized by Hyndman and Athanasopoulos in their book [Forecasting: principles and practice](https://www.amazon.com/dp/0987507109?tag=inspiredalgor-20). These steps are:\n",
    "\n",
    "1. **Problem Definition**. The careful consideration of who requires the forecast and how the forecast will be used. This is described as the most difficult part of the process, most likely because it is entirely problem specific and subjective.\n",
    "2. **Gathering Information**. The collection of historical data to analyze and model. This also includes getting access to domain experts and gathering information that can help to best interpret the historical information, and ultimately the forecasts that will be made.\n",
    "3. **Preliminary Exploratory Analysis**. The use of simple tools, like graphing and summary statistics, to better understand the data. Review plots and summarize and note obvious temporal structures, like trends seasonality, anomalies like missing data, corruption, and outliers, and any other structures that may impact forecasting.\n",
    "4. **Choosing and Fitting Models**. Evaluate two, three, or a suite of models of varying types on the problem. Models may be chosen for evaluation based on the assumptions they make and whether the dataset conforms. Models are configured and fit to the historical data.\n",
    "5. **Using and Evaluating a Forecasting Model**. The model is used to make forecasts and the performance of those forecasts is evaluated and skill of the models estimated. This may involve back-testing with historical data or waiting for new observations to become available for comparison.\n",
    "\n",
    "This 5-step process provides a strong overview from starting off with an idea or problem statement and leading through to a model that can be used to make predictions.\n",
    "\n",
    "The focus of the process is on understanding the problem and fitting a good model."
   ]
  },
  {
   "cell_type": "markdown",
   "metadata": {},
   "source": [
    "## Iterative Forecast Development Process\n",
    "The authors Shmueli and Lichtendahl in their book [Practical Time Series Forecasting with R: A Hands-On Guide](https://www.amazon.com/dp/0997847913?tag=inspiredalgor-20) suggest an 8-step process.\n",
    "\n",
    "This process extends beyond the development of a model and making forecasts and involves iterative loops.\n",
    "\n",
    "Their process can be summarized as follows:\n",
    "\n",
    "1. Define Goal.\n",
    "2. Get Data.\n",
    "3. Explore and Visualize Series.\n",
    "4. Pre-Process Data.\n",
    "5. Partition Series.\n",
    "6. Apply Forecasting Method/s.\n",
    "7. Evaluate and Compare Performance.\n",
    "8. Implement Forecasts/Systems.\n",
    "\n",
    "Below are the iterative loops within the process:\n",
    "\n",
    "* **Explore and Visualize Series => Get Data**. Data exploration can lead to questions that require access to new data.\n",
    "* **Evaluate and Compare Performance => Apply Forecasting Method/s**. The evaluation of models may raise questions or ideas for new methods or new method configurations to try.\n",
    "\n",
    "The process is more focused on the ongoing development and refinement of one or more models on the problem until an acceptable level of performance is achieved.\n",
    "\n",
    "This process can continue where models are revised and updated as new data and new insights are made available."
   ]
  },
  {
   "cell_type": "markdown",
   "metadata": {},
   "source": [
    "## Suggestions and Tips\n",
    "This section lists 10 suggestions and tips to consider when working through your time series forecasting project.\n",
    "\n",
    "The thrust of these suggestions is centered on the premise that you cannot know what will work, let alone which methods will work well on your problem beforehand. And that the best source of knowledge on a forecasting project comes from the results of trial and error with real historical data.\n",
    "\n",
    "* Select or devise a time series forecast process that is tailored to your project, tools, team, and level of expertise.\n",
    "* Write down all assumptions and questions you have during analysis and forecasting work, then revisit them later and seek to answer them with small experiments on historical data.\n",
    "* Review a large number of plots of your data at different time scales, zooms, and transforms of observations in an effort to help make exploitable structures present in the data obvious to you.\n",
    "* Develop a robust test harness for evaluating models using a meaningful performance measure and a reliable test strategy, such as walk-forward validation (rolling forecast).\n",
    "* Start with simple naive forecast models to provide a baseline of performance for more sophisticated methods to improve upon.\n",
    "* Create a large number of perspectives or views on your time series data, including a suite of automated transforms, and evaluate each with one or a suite of models in order to help automatically discover non-intuitive representations and model combinations that result in good predictions for your problem.\n",
    "* Try a suite of models of differing types on your problem, from simple to more advanced approaches.\n",
    "* Try a suite of configurations for a given problem, including configurations that have worked well on other problems.\n",
    "* Try automated hyperparameter optimization methods for models to flush out a suite of well-performing models as well as non-intuitive model configurations that you would not have tried manually.\n",
    "* Devise automated tests of performance and skill for ongoing predictions to help to automatically determine if and when a model has become stale and requires review or retraining.\n",
    "\n",
    "## Summary\n",
    "In this post, you discovered processes that you can use to work through time series forecasting problems.\n",
    "\n",
    "Specifically, you learned:\n",
    "\n",
    "* The 5 steps of working through a time series forecast task by Hyndman and Athanasopoulos.\n",
    "* The 8 step iterative process of defining a goal and implementing a forecast system by Shmueli and Lichtendahl.\n",
    "* The 10 suggestions and practical tips to consider when working through your time series forecasting project."
   ]
  }
 ],
 "metadata": {
  "kernelspec": {
   "display_name": "Python 2",
   "language": "python",
   "name": "python2"
  },
  "language_info": {
   "codemirror_mode": {
    "name": "ipython",
    "version": 2
   },
   "file_extension": ".py",
   "mimetype": "text/x-python",
   "name": "python",
   "nbconvert_exporter": "python",
   "pygments_lexer": "ipython2",
   "version": "2.7.14"
  }
 },
 "nbformat": 4,
 "nbformat_minor": 2
}
