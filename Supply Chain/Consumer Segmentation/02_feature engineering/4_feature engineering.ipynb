{
 "cells": [
  {
   "cell_type": "markdown",
   "metadata": {},
   "source": [
    "# 4 Feature Engineering\n",
    "**Prerequisites:** Preprocessing is finalised. Proc file has been created.\n",
    "\n",
    "**Objective:** Build the model features LRFMP.\n",
    "\n",
    "\n",
    "## Library Imports"
   ]
  },
  {
   "cell_type": "code",
   "execution_count": 1,
   "metadata": {},
   "outputs": [],
   "source": [
    "import pandas as pd\n",
    "import numpy as np\n",
    "import datetime as dt\n",
    "import pandas_profiling\n",
    "from functools import reduce"
   ]
  },
  {
   "cell_type": "markdown",
   "metadata": {},
   "source": [
    "## 4.1 Import Data\n",
    "\n",
    "masterdata of the customers & processed transaction data"
   ]
  },
  {
   "cell_type": "code",
   "execution_count": 2,
   "metadata": {},
   "outputs": [],
   "source": [
    "df_master = pd.read_csv(\"../01_data preprocessing/data new/masterdata.csv\",encoding=\"utf-8\",sep=\",\",\n",
    "                        parse_dates=[\"ValidityDate\"],usecols=[0,1,11],dtype={\"CardID\":object})\n",
    "df_master1 = df_master.sort_values([\"CustID\",\"ValidityDate\"]).loc[~df_master.duplicated(subset=[\"CustID\"],keep=\"first\")]\n",
    "df_master1 = df_master1.loc[:,[\"CustID\",\"ValidityDate\"]]"
   ]
  },
  {
   "cell_type": "code",
   "execution_count": 3,
   "metadata": {},
   "outputs": [],
   "source": [
    "df_proc = pd.read_csv(\"../01_data preprocessing/data new/procdata.csv\",encoding=\"utf-8\",sep=\",\",\n",
    "                      parse_dates=[\"BookingDate\"],dtype={\"CustID\":\"int64\"})\n",
    "df_proc[\"Counter\"] = df_proc.groupby(\"CustID\").cumcount(ascending=False) + 1\n",
    "df_proc1 = df_proc.loc[:,[\"CustID\",\"CardID\",\"Store\",\"BookingDate\",\"Counter\"]]"
   ]
  },
  {
   "cell_type": "markdown",
   "metadata": {},
   "source": [
    "Inserting a customer sample to analyse the following steps."
   ]
  },
  {
   "cell_type": "code",
   "execution_count": 4,
   "metadata": {},
   "outputs": [],
   "source": [
    "#define a observation customer\n",
    "customer = 1604011635399"
   ]
  },
  {
   "cell_type": "code",
   "execution_count": 5,
   "metadata": {},
   "outputs": [
    {
     "data": {
      "text/html": [
       "<div>\n",
       "<style scoped>\n",
       "    .dataframe tbody tr th:only-of-type {\n",
       "        vertical-align: middle;\n",
       "    }\n",
       "\n",
       "    .dataframe tbody tr th {\n",
       "        vertical-align: top;\n",
       "    }\n",
       "\n",
       "    .dataframe thead th {\n",
       "        text-align: right;\n",
       "    }\n",
       "</style>\n",
       "<table border=\"1\" class=\"dataframe\">\n",
       "  <thead>\n",
       "    <tr style=\"text-align: right;\">\n",
       "      <th></th>\n",
       "      <th>CustID</th>\n",
       "      <th>CardID</th>\n",
       "      <th>BookingDate</th>\n",
       "      <th>Store</th>\n",
       "      <th>TransactionType</th>\n",
       "      <th>Revenue</th>\n",
       "      <th>RevenueInc.</th>\n",
       "      <th>Qty</th>\n",
       "      <th>Price/Article</th>\n",
       "      <th>Counter</th>\n",
       "    </tr>\n",
       "  </thead>\n",
       "  <tbody>\n",
       "    <tr>\n",
       "      <th>29</th>\n",
       "      <td>1604011635399</td>\n",
       "      <td>55827754899</td>\n",
       "      <td>2017-05-28</td>\n",
       "      <td>9</td>\n",
       "      <td>3</td>\n",
       "      <td>28.54</td>\n",
       "      <td>28.54</td>\n",
       "      <td>1.0</td>\n",
       "      <td>28.54</td>\n",
       "      <td>8</td>\n",
       "    </tr>\n",
       "    <tr>\n",
       "      <th>30</th>\n",
       "      <td>1604011635399</td>\n",
       "      <td>55827754899</td>\n",
       "      <td>2017-08-24</td>\n",
       "      <td>1</td>\n",
       "      <td>1</td>\n",
       "      <td>39.42</td>\n",
       "      <td>39.42</td>\n",
       "      <td>1.0</td>\n",
       "      <td>39.42</td>\n",
       "      <td>7</td>\n",
       "    </tr>\n",
       "    <tr>\n",
       "      <th>31</th>\n",
       "      <td>1604011635399</td>\n",
       "      <td>55827754899</td>\n",
       "      <td>2017-08-25</td>\n",
       "      <td>8</td>\n",
       "      <td>1</td>\n",
       "      <td>41.88</td>\n",
       "      <td>41.88</td>\n",
       "      <td>1.0</td>\n",
       "      <td>41.88</td>\n",
       "      <td>6</td>\n",
       "    </tr>\n",
       "    <tr>\n",
       "      <th>32</th>\n",
       "      <td>1604011635399</td>\n",
       "      <td>55827754899</td>\n",
       "      <td>2017-10-10</td>\n",
       "      <td>1</td>\n",
       "      <td>1</td>\n",
       "      <td>127.85</td>\n",
       "      <td>127.85</td>\n",
       "      <td>7.0</td>\n",
       "      <td>18.26</td>\n",
       "      <td>5</td>\n",
       "    </tr>\n",
       "    <tr>\n",
       "      <th>33</th>\n",
       "      <td>1604011635399</td>\n",
       "      <td>55827754899</td>\n",
       "      <td>2017-11-30</td>\n",
       "      <td>6</td>\n",
       "      <td>1</td>\n",
       "      <td>46.50</td>\n",
       "      <td>45.50</td>\n",
       "      <td>1.0</td>\n",
       "      <td>46.50</td>\n",
       "      <td>4</td>\n",
       "    </tr>\n",
       "    <tr>\n",
       "      <th>34</th>\n",
       "      <td>1604011635399</td>\n",
       "      <td>55827754899</td>\n",
       "      <td>2018-03-10</td>\n",
       "      <td>10</td>\n",
       "      <td>1</td>\n",
       "      <td>25.91</td>\n",
       "      <td>25.91</td>\n",
       "      <td>1.0</td>\n",
       "      <td>25.91</td>\n",
       "      <td>3</td>\n",
       "    </tr>\n",
       "    <tr>\n",
       "      <th>35</th>\n",
       "      <td>1604011635399</td>\n",
       "      <td>55827754899</td>\n",
       "      <td>2018-04-16</td>\n",
       "      <td>5</td>\n",
       "      <td>1</td>\n",
       "      <td>25.91</td>\n",
       "      <td>25.91</td>\n",
       "      <td>1.0</td>\n",
       "      <td>25.91</td>\n",
       "      <td>2</td>\n",
       "    </tr>\n",
       "    <tr>\n",
       "      <th>36</th>\n",
       "      <td>1604011635399</td>\n",
       "      <td>55827754899</td>\n",
       "      <td>2018-07-18</td>\n",
       "      <td>2</td>\n",
       "      <td>1</td>\n",
       "      <td>24.16</td>\n",
       "      <td>24.16</td>\n",
       "      <td>1.0</td>\n",
       "      <td>24.16</td>\n",
       "      <td>1</td>\n",
       "    </tr>\n",
       "  </tbody>\n",
       "</table>\n",
       "</div>"
      ],
      "text/plain": [
       "           CustID       CardID BookingDate  Store  TransactionType  Revenue  \\\n",
       "29  1604011635399  55827754899  2017-05-28      9                3    28.54   \n",
       "30  1604011635399  55827754899  2017-08-24      1                1    39.42   \n",
       "31  1604011635399  55827754899  2017-08-25      8                1    41.88   \n",
       "32  1604011635399  55827754899  2017-10-10      1                1   127.85   \n",
       "33  1604011635399  55827754899  2017-11-30      6                1    46.50   \n",
       "34  1604011635399  55827754899  2018-03-10     10                1    25.91   \n",
       "35  1604011635399  55827754899  2018-04-16      5                1    25.91   \n",
       "36  1604011635399  55827754899  2018-07-18      2                1    24.16   \n",
       "\n",
       "    RevenueInc.  Qty  Price/Article  Counter  \n",
       "29        28.54  1.0          28.54        8  \n",
       "30        39.42  1.0          39.42        7  \n",
       "31        41.88  1.0          41.88        6  \n",
       "32       127.85  7.0          18.26        5  \n",
       "33        45.50  1.0          46.50        4  \n",
       "34        25.91  1.0          25.91        3  \n",
       "35        25.91  1.0          25.91        2  \n",
       "36        24.16  1.0          24.16        1  "
      ]
     },
     "execution_count": 5,
     "metadata": {},
     "output_type": "execute_result"
    }
   ],
   "source": [
    "df_proc.loc[df_proc[\"CustID\"].isin([customer])]"
   ]
  },
  {
   "cell_type": "markdown",
   "metadata": {},
   "source": [
    "## 4.2 Feature Engineering\n",
    "\n",
    "### 4.2.1 Length feature\n",
    "**1. Version:** last purchase - first purchase    \n",
    "**2. Version:** last purchase - validity date\n",
    "\n",
    "**Method:** Firstly, the processed transaction data has to be enriched by the validity date. Secondly, building of first & last purchase per customer by using a copy of booking date and a groupby by customer (first = min, last = max).\n",
    "\n",
    "**Problem:** *Customers with multiple cards!* In this case the validity date of the oldest card will be used.\n",
    "\n",
    "**Selected for clustering:**   last purchase - validity date"
   ]
  },
  {
   "cell_type": "code",
   "execution_count": 6,
   "metadata": {},
   "outputs": [],
   "source": [
    "df_l = pd.merge(df_proc,df_master1,how=\"left\",on=\"CustID\",indicator=True)\n",
    "df_l[\"BD_copy\"] = df_l[\"BookingDate\"]\n",
    "df_l1 = df_l.loc[:,[\"CustID\",\"Store\",\"BookingDate\",\"BD_copy\",\"ValidityDate\"]]\n",
    "df_l1.rename(columns={\"BookingDate\": \"LastPurchase\",\"BD_copy\": \"FirstPurchase\"},inplace=True)"
   ]
  },
  {
   "cell_type": "code",
   "execution_count": 7,
   "metadata": {},
   "outputs": [],
   "source": [
    "df_l2 = df_l1.groupby([\"CustID\"], as_index=False).agg({\"LastPurchase\": np.max,\n",
    "                                                       \"FirstPurchase\": np.min,\n",
    "                                                       \"ValidityDate\": np.min})\n",
    "    \n",
    "df_l2[\"Length (Validity)\"] = (df_l2[\"LastPurchase\"] - df_l2[\"ValidityDate\"]).dt.days\n",
    "df_l2[\"Length (First/Last)\"] = (df_l2[\"LastPurchase\"] - df_l2[\"FirstPurchase\"]).dt.days"
   ]
  },
  {
   "cell_type": "code",
   "execution_count": 8,
   "metadata": {},
   "outputs": [
    {
     "data": {
      "text/html": [
       "<div>\n",
       "<style scoped>\n",
       "    .dataframe tbody tr th:only-of-type {\n",
       "        vertical-align: middle;\n",
       "    }\n",
       "\n",
       "    .dataframe tbody tr th {\n",
       "        vertical-align: top;\n",
       "    }\n",
       "\n",
       "    .dataframe thead th {\n",
       "        text-align: right;\n",
       "    }\n",
       "</style>\n",
       "<table border=\"1\" class=\"dataframe\">\n",
       "  <thead>\n",
       "    <tr style=\"text-align: right;\">\n",
       "      <th></th>\n",
       "      <th>CustID</th>\n",
       "      <th>LastPurchase</th>\n",
       "      <th>FirstPurchase</th>\n",
       "      <th>ValidityDate</th>\n",
       "      <th>Length (Validity)</th>\n",
       "      <th>Length (First/Last)</th>\n",
       "    </tr>\n",
       "  </thead>\n",
       "  <tbody>\n",
       "    <tr>\n",
       "      <th>1</th>\n",
       "      <td>1604011635399</td>\n",
       "      <td>2018-07-18</td>\n",
       "      <td>2017-05-28</td>\n",
       "      <td>2016-02-12</td>\n",
       "      <td>887</td>\n",
       "      <td>416</td>\n",
       "    </tr>\n",
       "  </tbody>\n",
       "</table>\n",
       "</div>"
      ],
      "text/plain": [
       "          CustID LastPurchase FirstPurchase ValidityDate  Length (Validity)  \\\n",
       "1  1604011635399   2018-07-18    2017-05-28   2016-02-12                887   \n",
       "\n",
       "   Length (First/Last)  \n",
       "1                  416  "
      ]
     },
     "execution_count": 8,
     "metadata": {},
     "output_type": "execute_result"
    }
   ],
   "source": [
    "#Check via customer sample\n",
    "df_l2.loc[df_l2[\"CustID\"].isin([customer])]"
   ]
  },
  {
   "cell_type": "markdown",
   "metadata": {},
   "source": [
    "### 4.2.2 Recency feature\n",
    "\n",
    "**1. Version:** Recency(1) as the days since the last purchase    \n",
    "**2. Version:** Recency(3) as the average days between the last 3 purchases\n",
    "\n",
    "\n",
    "**Method:** Indexing of the columns and creating of a counter variable for the purchases, selecting the customers first three purchases, calculating the timedifference, inserting r(1) and r(2), grouping and calculating the features.\n",
    "\n",
    "\n",
    "**Selected for clustering:** Recency(3) as the average days between the last 3 purchases"
   ]
  },
  {
   "cell_type": "code",
   "execution_count": 9,
   "metadata": {},
   "outputs": [],
   "source": [
    "customer_purchases_1to3 = df_proc1[\"Counter\"].isin([\"1\",\"2\",\"3\"])\n",
    "df_r = df_proc1.loc[customer_purchases_1to3,:].copy()"
   ]
  },
  {
   "cell_type": "code",
   "execution_count": 10,
   "metadata": {},
   "outputs": [],
   "source": [
    "#define observation period\n",
    "end_of_period = pd.Timestamp(\"2018-07-30\")\n",
    "\n",
    "datediff = lambda x: (end_of_period - x)\n",
    "\n",
    "df_r[\"Recency (1)\"] = (df_r.groupby(\"CustID\")[\"BookingDate\"].transform(datediff)).dt.days\n",
    "df_r[\"Recency (3)\"] = df_r[\"Recency (1)\"]"
   ]
  },
  {
   "cell_type": "code",
   "execution_count": 11,
   "metadata": {},
   "outputs": [],
   "source": [
    "df_r1 = df_r.groupby([\"CustID\"], as_index=False).agg({\"Recency (1)\": np.min, \n",
    "                                                      \"Recency (3)\": np.mean,\n",
    "                                                      \"Counter\":np.max})\n",
    "\n",
    "df_r1[\"Recency (3)\"] = np.round(df_r1[\"Recency (3)\"], decimals = 2)"
   ]
  },
  {
   "cell_type": "code",
   "execution_count": 12,
   "metadata": {},
   "outputs": [
    {
     "name": "stdout",
     "output_type": "stream",
     "text": [
      "Customers with less than 3 purchases: 0\n"
     ]
    }
   ],
   "source": [
    "df_r1.loc[~df_r1[\"Counter\"].isin([\"3\"])].to_csv(\"data excluded/excluded 7_customers without less than 3 purchases.csv\",\n",
    "                                       encoding=\"utf-8\", sep=\",\")\n",
    "\n",
    "print(\"Customers with less than 3 purchases: \" + str(len(df_r1.loc[~df_r1[\"Counter\"].isin([\"3\"])])))"
   ]
  },
  {
   "cell_type": "code",
   "execution_count": 13,
   "metadata": {},
   "outputs": [],
   "source": [
    "customer_with_purchases_3ormore = df_r1[\"Counter\"].isin([\"3\"])\n",
    "df_r2 = df_r1.loc[customer_with_purchases_3ormore,:]"
   ]
  },
  {
   "cell_type": "code",
   "execution_count": 14,
   "metadata": {},
   "outputs": [
    {
     "data": {
      "text/html": [
       "<div>\n",
       "<style scoped>\n",
       "    .dataframe tbody tr th:only-of-type {\n",
       "        vertical-align: middle;\n",
       "    }\n",
       "\n",
       "    .dataframe tbody tr th {\n",
       "        vertical-align: top;\n",
       "    }\n",
       "\n",
       "    .dataframe thead th {\n",
       "        text-align: right;\n",
       "    }\n",
       "</style>\n",
       "<table border=\"1\" class=\"dataframe\">\n",
       "  <thead>\n",
       "    <tr style=\"text-align: right;\">\n",
       "      <th></th>\n",
       "      <th>CustID</th>\n",
       "      <th>Recency (1)</th>\n",
       "      <th>Recency (3)</th>\n",
       "      <th>Counter</th>\n",
       "    </tr>\n",
       "  </thead>\n",
       "  <tbody>\n",
       "    <tr>\n",
       "      <th>1</th>\n",
       "      <td>1604011635399</td>\n",
       "      <td>12</td>\n",
       "      <td>86.33</td>\n",
       "      <td>3</td>\n",
       "    </tr>\n",
       "  </tbody>\n",
       "</table>\n",
       "</div>"
      ],
      "text/plain": [
       "          CustID  Recency (1)  Recency (3)  Counter\n",
       "1  1604011635399           12        86.33        3"
      ]
     },
     "execution_count": 14,
     "metadata": {},
     "output_type": "execute_result"
    }
   ],
   "source": [
    "#Check via customer sample\n",
    "df_r2.loc[df_r2[\"CustID\"].isin([customer])]"
   ]
  },
  {
   "cell_type": "markdown",
   "metadata": {},
   "source": [
    "### 4.2.3 Frequency feature\n",
    "**1. Version:** Frequency as the number of purchases in the observation period    \n",
    "**2. Version:** Frequency as the average number of purchases per month since the customers first purchase\n",
    "\n",
    "\n",
    "**Method:** Creating a copy of the booking date, indexing the columns and inserting a counter variable, group the dataframe and calculate the column values, adding a column for month in order to calculate the factual program memberhsip, offsetting last purchase to receive the right result, calculate the features and rename the columns.\n",
    "\n",
    "**Selected for Clustering:** Frequency as the average number of purchases per month since the customers first purchase"
   ]
  },
  {
   "cell_type": "code",
   "execution_count": 15,
   "metadata": {},
   "outputs": [],
   "source": [
    "df_f = pd.merge(df_proc1, df_master1, how=\"left\", on=\"CustID\", indicator=True)\n",
    "df_f[\"BD_copy\"] = df_f[\"BookingDate\"]\n",
    "df_f1 = df_f.loc[:,[\"CustID\",\"Store\",\"BookingDate\",\"BD_copy\"]]\n",
    "df_f1[\"Counter\"] = df_f1.groupby(\"CustID\").cumcount(ascending=False) + 1\n",
    "\n",
    "df_f1.rename(columns={\"BookingDate\": \"LastPurchase\", \"BD_copy\": \"FirstPurchase\"}, inplace=True)"
   ]
  },
  {
   "cell_type": "code",
   "execution_count": 16,
   "metadata": {},
   "outputs": [],
   "source": [
    "df_f2= df_f1.groupby([\"CustID\"], as_index=False).agg({\"LastPurchase\": np.max,\n",
    "                                                      \"FirstPurchase\": np.min,\n",
    "                                                      \"Counter\": np.max})\n",
    "\n",
    "df_f2[\"LastPurchase(M)\"] = df_f2[\"LastPurchase\"].dt.to_period(\"M\").dt.to_timestamp()\n",
    "df_f2[\"FirstPurchase(M)\"] = df_f2[\"FirstPurchase\"].dt.to_period(\"M\").dt.to_timestamp()\n",
    "\n",
    "now = max(df_f2[\"LastPurchase(M)\"])+ pd.offsets.MonthBegin(2)\n",
    "df_f2[\"Offset(M)\"] = now\n",
    "\n",
    "df_f2[\"Validity(M)\"] = (df_f2[\"Offset(M)\"] - df_f2[\"FirstPurchase(M)\"]).astype(\"timedelta64[M]\")\n",
    "\n",
    "df_f2[\"Frequency (Monthly)\"] = np.round(df_f2[\"Counter\"].divide(df_f2[\"Validity(M)\"]), decimals=2)\n",
    "\n",
    "df_f2.rename(columns={\"Counter\": \"Frequency\"}, inplace=True)"
   ]
  },
  {
   "cell_type": "code",
   "execution_count": 17,
   "metadata": {},
   "outputs": [
    {
     "data": {
      "text/html": [
       "<div>\n",
       "<style scoped>\n",
       "    .dataframe tbody tr th:only-of-type {\n",
       "        vertical-align: middle;\n",
       "    }\n",
       "\n",
       "    .dataframe tbody tr th {\n",
       "        vertical-align: top;\n",
       "    }\n",
       "\n",
       "    .dataframe thead th {\n",
       "        text-align: right;\n",
       "    }\n",
       "</style>\n",
       "<table border=\"1\" class=\"dataframe\">\n",
       "  <thead>\n",
       "    <tr style=\"text-align: right;\">\n",
       "      <th></th>\n",
       "      <th>CustID</th>\n",
       "      <th>LastPurchase</th>\n",
       "      <th>FirstPurchase</th>\n",
       "      <th>Frequency</th>\n",
       "      <th>LastPurchase(M)</th>\n",
       "      <th>FirstPurchase(M)</th>\n",
       "      <th>Offset(M)</th>\n",
       "      <th>Validity(M)</th>\n",
       "      <th>Frequency (Monthly)</th>\n",
       "    </tr>\n",
       "  </thead>\n",
       "  <tbody>\n",
       "    <tr>\n",
       "      <th>1</th>\n",
       "      <td>1604011635399</td>\n",
       "      <td>2018-07-18</td>\n",
       "      <td>2017-05-28</td>\n",
       "      <td>8</td>\n",
       "      <td>2018-07-01</td>\n",
       "      <td>2017-05-01</td>\n",
       "      <td>2018-09-01</td>\n",
       "      <td>16.0</td>\n",
       "      <td>0.5</td>\n",
       "    </tr>\n",
       "  </tbody>\n",
       "</table>\n",
       "</div>"
      ],
      "text/plain": [
       "          CustID LastPurchase FirstPurchase  Frequency LastPurchase(M)  \\\n",
       "1  1604011635399   2018-07-18    2017-05-28          8      2018-07-01   \n",
       "\n",
       "  FirstPurchase(M)  Offset(M)  Validity(M)  Frequency (Monthly)  \n",
       "1       2017-05-01 2018-09-01         16.0                  0.5  "
      ]
     },
     "execution_count": 17,
     "metadata": {},
     "output_type": "execute_result"
    }
   ],
   "source": [
    "#Check via customer sample\n",
    "df_f2.loc[df_f2[\"CustID\"].isin([customer])]"
   ]
  },
  {
   "cell_type": "markdown",
   "metadata": {},
   "source": [
    "### 4.2.4 Monetary features\n",
    "\n",
    "**1. Version:** Revenue (total)    \n",
    "**2. Version:** Revenue/Purchase    \n",
    "**3. Version:** Price/Article    \n",
    "**4. Version:** Qty/Purchase\n",
    "\n",
    "**Selected for Clustering:** Revenue (total) and Revenue/Purchase"
   ]
  },
  {
   "cell_type": "code",
   "execution_count": 18,
   "metadata": {},
   "outputs": [],
   "source": [
    "df_m = df_proc.groupby([\"CustID\"], as_index=False).agg({\"Revenue\": np.sum,\n",
    "                                                        \"Qty\": np.sum,\n",
    "                                                        \"Counter\": np.max})\n",
    "                                                            \n",
    "df_m[\"Revenue/Purchase\"] = np.round(df_m[\"Revenue\"].divide(df_m[\"Counter\"]), decimals=2)\n",
    "df_m[\"Price/Article\"] = np.round(df_m[\"Revenue\"].divide(df_m[\"Qty\"]), decimals=2)\n",
    "df_m[\"Revenue\"] = np.round(df_m[\"Revenue\"], decimals=2)\n",
    "df_m[\"Qty/Purchase\"] = np.round(df_m[\"Qty\"].divide(df_m[\"Counter\"]), decimals=2)\n",
    "\n",
    "df_m.rename(columns={\"Revenue\": \"Monetary (Revenue)\", \n",
    "                     \"Revenue/Purchase\": \"Monetary (Revenue/Purchase)\",\n",
    "                     \"Counter\": \"PurchasesTotal\"},inplace=True)"
   ]
  },
  {
   "cell_type": "code",
   "execution_count": 19,
   "metadata": {},
   "outputs": [
    {
     "data": {
      "text/html": [
       "<div>\n",
       "<style scoped>\n",
       "    .dataframe tbody tr th:only-of-type {\n",
       "        vertical-align: middle;\n",
       "    }\n",
       "\n",
       "    .dataframe tbody tr th {\n",
       "        vertical-align: top;\n",
       "    }\n",
       "\n",
       "    .dataframe thead th {\n",
       "        text-align: right;\n",
       "    }\n",
       "</style>\n",
       "<table border=\"1\" class=\"dataframe\">\n",
       "  <thead>\n",
       "    <tr style=\"text-align: right;\">\n",
       "      <th></th>\n",
       "      <th>CustID</th>\n",
       "      <th>Monetary (Revenue)</th>\n",
       "      <th>Qty</th>\n",
       "      <th>PurchasesTotal</th>\n",
       "      <th>Monetary (Revenue/Purchase)</th>\n",
       "      <th>Price/Article</th>\n",
       "      <th>Qty/Purchase</th>\n",
       "    </tr>\n",
       "  </thead>\n",
       "  <tbody>\n",
       "    <tr>\n",
       "      <th>1</th>\n",
       "      <td>1604011635399</td>\n",
       "      <td>360.17</td>\n",
       "      <td>14.0</td>\n",
       "      <td>8</td>\n",
       "      <td>45.02</td>\n",
       "      <td>25.73</td>\n",
       "      <td>1.75</td>\n",
       "    </tr>\n",
       "  </tbody>\n",
       "</table>\n",
       "</div>"
      ],
      "text/plain": [
       "          CustID  Monetary (Revenue)   Qty  PurchasesTotal  \\\n",
       "1  1604011635399              360.17  14.0               8   \n",
       "\n",
       "   Monetary (Revenue/Purchase)  Price/Article  Qty/Purchase  \n",
       "1                        45.02          25.73          1.75  "
      ]
     },
     "execution_count": 19,
     "metadata": {},
     "output_type": "execute_result"
    }
   ],
   "source": [
    "#Check via customer sample\n",
    "df_m.loc[df_m[\"CustID\"].isin([customer])]"
   ]
  },
  {
   "cell_type": "markdown",
   "metadata": {},
   "source": [
    "### 4.2.5 Periodicity features\n",
    "\n",
    "**1. Version:** Periodicity as the standard deviation of the intervall between two purchases\n",
    "\n",
    "\n",
    "**Method:** Selecting the columns and adding of a count variable, define the engineering method (IVT = time between 2 puchases), adding periodicity columns via IVT, grouping of the dataframe and feature engineering"
   ]
  },
  {
   "cell_type": "code",
   "execution_count": 20,
   "metadata": {},
   "outputs": [],
   "source": [
    "df_p = df_proc1.groupby([\"CustID\",\"BookingDate\",\"Store\",\"Counter\"],as_index=False).agg(np.sum)\n",
    "df_p1 = df_p.loc[:,[\"CustID\",\"BookingDate\",\"Store\",\"Counter\"]]\n",
    "\n",
    "ivtdiff = lambda x: abs(x.shift(1) - x)\n",
    "\n",
    "df_p1[\"IVT\"] = (df_p1.groupby(\"CustID\")[\"BookingDate\"].transform(ivtdiff)).dt.days\n",
    "df_p1[\"Periodicity\"] = df_p1[\"IVT\"]"
   ]
  },
  {
   "cell_type": "code",
   "execution_count": 21,
   "metadata": {},
   "outputs": [],
   "source": [
    "df_p2 = df_p1.groupby([\"CustID\"], as_index=False).agg({\"IVT\": [np.max,np.min],\n",
    "                                                       \"Counter\": [np.max],\n",
    "                                                       \"Periodicity\": [np.mean,np.std]})\n",
    "\n",
    "df_p2.columns = [\" \".join(col).strip() for col in df_p2.columns.values]\n",
    "\n",
    "df_p2[\"Periodicity (Mean)\"] = np.round(df_p2[\"Periodicity mean\"], decimals = 2)\n",
    "df_p2[\"Periodicity (Std)\"] = np.round(df_p2[\"Periodicity std\"], decimals = 2)"
   ]
  },
  {
   "cell_type": "code",
   "execution_count": 22,
   "metadata": {},
   "outputs": [],
   "source": [
    "customer_with_purchases_3ormore = df_p2[\"Counter amax\"] >= 3\n",
    "df_p3 = df_p2.loc[customer_with_purchases_3ormore]"
   ]
  },
  {
   "cell_type": "code",
   "execution_count": 23,
   "metadata": {},
   "outputs": [
    {
     "data": {
      "text/html": [
       "<div>\n",
       "<style scoped>\n",
       "    .dataframe tbody tr th:only-of-type {\n",
       "        vertical-align: middle;\n",
       "    }\n",
       "\n",
       "    .dataframe tbody tr th {\n",
       "        vertical-align: top;\n",
       "    }\n",
       "\n",
       "    .dataframe thead th {\n",
       "        text-align: right;\n",
       "    }\n",
       "</style>\n",
       "<table border=\"1\" class=\"dataframe\">\n",
       "  <thead>\n",
       "    <tr style=\"text-align: right;\">\n",
       "      <th></th>\n",
       "      <th>CustID</th>\n",
       "      <th>IVT amax</th>\n",
       "      <th>IVT amin</th>\n",
       "      <th>Counter amax</th>\n",
       "      <th>Periodicity mean</th>\n",
       "      <th>Periodicity std</th>\n",
       "      <th>Periodicity (Mean)</th>\n",
       "      <th>Periodicity (Std)</th>\n",
       "    </tr>\n",
       "  </thead>\n",
       "  <tbody>\n",
       "    <tr>\n",
       "      <th>1</th>\n",
       "      <td>1604011635399</td>\n",
       "      <td>100.0</td>\n",
       "      <td>1.0</td>\n",
       "      <td>8</td>\n",
       "      <td>59.428571</td>\n",
       "      <td>35.957647</td>\n",
       "      <td>59.43</td>\n",
       "      <td>35.96</td>\n",
       "    </tr>\n",
       "  </tbody>\n",
       "</table>\n",
       "</div>"
      ],
      "text/plain": [
       "          CustID  IVT amax  IVT amin  Counter amax  Periodicity mean  \\\n",
       "1  1604011635399     100.0       1.0             8         59.428571   \n",
       "\n",
       "   Periodicity std  Periodicity (Mean)  Periodicity (Std)  \n",
       "1        35.957647               59.43              35.96  "
      ]
     },
     "execution_count": 23,
     "metadata": {},
     "output_type": "execute_result"
    }
   ],
   "source": [
    "#Check via customer sample\n",
    "df_p3.loc[df_p3[\"CustID\"].isin([customer])]"
   ]
  },
  {
   "cell_type": "markdown",
   "metadata": {},
   "source": [
    "## 4.3 Merging Features\n",
    "### 4.3.1 Preselection for clustering\n",
    "\n",
    "#### Not used in clustering, because of redundancy or high correlation\n",
    "\n",
    "- **Length:** LastPurchase, FirstPurchase, ValidityDate, Length (Validity)\n",
    "- **Recency:** Recency(1), Counter\n",
    "- **Frequency:** Frequency as the total number of purchases, LastPurchase(M), FirstPurchase, ValidityDate, Offset(M)\n",
    "- **Monetary:** Purchases, Price/Articel, Qty/Purchase, Qty\n",
    "- **Periodicity:** IVT max, IVT min, Counter amax, Periodicity (Mean)\n",
    "\n",
    "\n",
    "#### Used in Clustering:\n",
    "\n",
    "- **Length:** last purchase - validity date\n",
    "- **Recency:** Recency(3) as the average days between the last 3 purchases\n",
    "- **Frequency:** Frequency as the average number of purchases per month since the customers first purchase\n",
    "- **Monetary:** Revenue (total) and Revenue/Purchase\n",
    "- **Periodicity:** Periodicity as the standard deviation of the intervall between two purchases"
   ]
  },
  {
   "cell_type": "code",
   "execution_count": 24,
   "metadata": {},
   "outputs": [],
   "source": [
    "df_cust = df_r2.loc[:,[\"CustID\"]]\n",
    "\n",
    "df_f2 = df_f2.loc[:,df_f2.columns != \"LastPurchase\"]\n",
    "df_f2 = df_f2.loc[:,df_f2.columns != \"FirstPurchase\"]"
   ]
  },
  {
   "cell_type": "code",
   "execution_count": 25,
   "metadata": {},
   "outputs": [],
   "source": [
    "dfs = [df_cust, df_l2, df_r2, df_f2, df_m, df_p3]\n",
    "df_features = reduce(lambda left,right: pd.merge(left,right,how=\"left\",on=\"CustID\"), dfs)"
   ]
  },
  {
   "cell_type": "code",
   "execution_count": 26,
   "metadata": {},
   "outputs": [],
   "source": [
    "#Export all features in a file to check correlations\n",
    "df_features_checkcorr = df_features\n",
    "df_features_checkcorr.to_csv(\"data new/features.csv\", encoding=\"utf-8\", sep=\",\", index=False)"
   ]
  },
  {
   "cell_type": "code",
   "execution_count": 27,
   "metadata": {},
   "outputs": [],
   "source": [
    "df_features2= df_features.loc[:,[\"CustID\",\"Length (First/Last)\",\"Recency (3)\",\"Frequency (Monthly)\",\n",
    "                                 \"Monetary (Revenue)\",\"Monetary (Revenue/Purchase)\",\"Periodicity (Std)\"]]"
   ]
  },
  {
   "cell_type": "code",
   "execution_count": 28,
   "metadata": {},
   "outputs": [],
   "source": [
    "#Saving features in csv\n",
    "df_features2.to_csv(\"data new/featureslrfmp.csv\", encoding=\"utf-8\", sep=\",\", index=False)"
   ]
  },
  {
   "cell_type": "code",
   "execution_count": 29,
   "metadata": {},
   "outputs": [
    {
     "data": {
      "text/html": [
       "<div>\n",
       "<style scoped>\n",
       "    .dataframe tbody tr th:only-of-type {\n",
       "        vertical-align: middle;\n",
       "    }\n",
       "\n",
       "    .dataframe tbody tr th {\n",
       "        vertical-align: top;\n",
       "    }\n",
       "\n",
       "    .dataframe thead th {\n",
       "        text-align: right;\n",
       "    }\n",
       "</style>\n",
       "<table border=\"1\" class=\"dataframe\">\n",
       "  <thead>\n",
       "    <tr style=\"text-align: right;\">\n",
       "      <th></th>\n",
       "      <th>CustID</th>\n",
       "      <th>Length (First/Last)</th>\n",
       "      <th>Recency (3)</th>\n",
       "      <th>Frequency (Monthly)</th>\n",
       "      <th>Monetary (Revenue)</th>\n",
       "      <th>Monetary (Revenue/Purchase)</th>\n",
       "      <th>Periodicity (Std)</th>\n",
       "    </tr>\n",
       "  </thead>\n",
       "  <tbody>\n",
       "    <tr>\n",
       "      <th>1</th>\n",
       "      <td>1604011635399</td>\n",
       "      <td>416</td>\n",
       "      <td>86.33</td>\n",
       "      <td>0.5</td>\n",
       "      <td>360.17</td>\n",
       "      <td>45.02</td>\n",
       "      <td>35.96</td>\n",
       "    </tr>\n",
       "  </tbody>\n",
       "</table>\n",
       "</div>"
      ],
      "text/plain": [
       "          CustID  Length (First/Last)  Recency (3)  Frequency (Monthly)  \\\n",
       "1  1604011635399                  416        86.33                  0.5   \n",
       "\n",
       "   Monetary (Revenue)  Monetary (Revenue/Purchase)  Periodicity (Std)  \n",
       "1              360.17                        45.02              35.96  "
      ]
     },
     "execution_count": 29,
     "metadata": {},
     "output_type": "execute_result"
    }
   ],
   "source": [
    "#Check via customer sample\n",
    "df_features2.loc[df_features2[\"CustID\"].isin([customer])]"
   ]
  },
  {
   "cell_type": "markdown",
   "metadata": {},
   "source": [
    "### 4.3.2 Adding unutilized columns to variables"
   ]
  },
  {
   "cell_type": "code",
   "execution_count": 30,
   "metadata": {},
   "outputs": [],
   "source": [
    "df_variables = pd.read_csv(\"../01_data preprocessing/data new/variables.csv\",encoding=\"utf-8\",sep=\",\")"
   ]
  },
  {
   "cell_type": "code",
   "execution_count": 31,
   "metadata": {},
   "outputs": [],
   "source": [
    "df_variables = pd.merge(df_variables,df_features,how=\"left\",on=\"CustID\",indicator=True)"
   ]
  },
  {
   "cell_type": "code",
   "execution_count": 32,
   "metadata": {},
   "outputs": [
    {
     "name": "stdout",
     "output_type": "stream",
     "text": [
      "Data entries variables: 70\n"
     ]
    }
   ],
   "source": [
    "df_variables = df_variables.loc[~(df_variables[\"_merge\"] == \"left_only\")]\n",
    "df_variables = df_variables.loc[:,df_variables.columns != \"_merge\"]\n",
    "\n",
    "print(\"Data entries variables: \" + str(len(df_variables.index)))"
   ]
  },
  {
   "cell_type": "code",
   "execution_count": 33,
   "metadata": {},
   "outputs": [],
   "source": [
    "#Saving variables\n",
    "df_variables.to_csv(\"../01_data preprocessing/data new/variables.csv\", encoding=\"utf-8\", sep=\",\", index=False)"
   ]
  },
  {
   "cell_type": "code",
   "execution_count": 34,
   "metadata": {},
   "outputs": [
    {
     "data": {
      "text/html": [
       "<div>\n",
       "<style scoped>\n",
       "    .dataframe tbody tr th:only-of-type {\n",
       "        vertical-align: middle;\n",
       "    }\n",
       "\n",
       "    .dataframe tbody tr th {\n",
       "        vertical-align: top;\n",
       "    }\n",
       "\n",
       "    .dataframe thead th {\n",
       "        text-align: right;\n",
       "    }\n",
       "</style>\n",
       "<table border=\"1\" class=\"dataframe\">\n",
       "  <thead>\n",
       "    <tr style=\"text-align: right;\">\n",
       "      <th></th>\n",
       "      <th>CustID</th>\n",
       "      <th>Revenue</th>\n",
       "      <th>OnlineRevenue</th>\n",
       "      <th>OfflineRevenue</th>\n",
       "      <th>ChannelShopper</th>\n",
       "      <th>ChannelShopperDetail</th>\n",
       "      <th>ChristmasRevenue</th>\n",
       "      <th>LastPurchase</th>\n",
       "      <th>FirstPurchase</th>\n",
       "      <th>ValidityDate</th>\n",
       "      <th>...</th>\n",
       "      <th>Monetary (Revenue/Purchase)</th>\n",
       "      <th>Price/Article</th>\n",
       "      <th>Qty/Purchase</th>\n",
       "      <th>IVT amax</th>\n",
       "      <th>IVT amin</th>\n",
       "      <th>Counter amax</th>\n",
       "      <th>Periodicity mean</th>\n",
       "      <th>Periodicity std</th>\n",
       "      <th>Periodicity (Mean)</th>\n",
       "      <th>Periodicity (Std)</th>\n",
       "    </tr>\n",
       "  </thead>\n",
       "  <tbody>\n",
       "    <tr>\n",
       "      <th>1</th>\n",
       "      <td>1604011635399</td>\n",
       "      <td>360.17</td>\n",
       "      <td>167.27</td>\n",
       "      <td>192.9</td>\n",
       "      <td>Hybrid</td>\n",
       "      <td>HybridOn(&gt;0.5)</td>\n",
       "      <td>0.0</td>\n",
       "      <td>2018-07-18</td>\n",
       "      <td>2017-05-28</td>\n",
       "      <td>2016-02-12</td>\n",
       "      <td>...</td>\n",
       "      <td>45.02</td>\n",
       "      <td>25.73</td>\n",
       "      <td>1.75</td>\n",
       "      <td>100.0</td>\n",
       "      <td>1.0</td>\n",
       "      <td>8</td>\n",
       "      <td>59.428571</td>\n",
       "      <td>35.957647</td>\n",
       "      <td>59.43</td>\n",
       "      <td>35.96</td>\n",
       "    </tr>\n",
       "  </tbody>\n",
       "</table>\n",
       "<p>1 rows × 34 columns</p>\n",
       "</div>"
      ],
      "text/plain": [
       "          CustID  Revenue  OnlineRevenue  OfflineRevenue ChannelShopper  \\\n",
       "1  1604011635399   360.17         167.27           192.9         Hybrid   \n",
       "\n",
       "  ChannelShopperDetail  ChristmasRevenue LastPurchase FirstPurchase  \\\n",
       "1       HybridOn(>0.5)               0.0   2018-07-18    2017-05-28   \n",
       "\n",
       "  ValidityDate        ...          Monetary (Revenue/Purchase)  Price/Article  \\\n",
       "1   2016-02-12        ...                                45.02          25.73   \n",
       "\n",
       "   Qty/Purchase  IVT amax  IVT amin  Counter amax Periodicity mean  \\\n",
       "1          1.75     100.0       1.0             8        59.428571   \n",
       "\n",
       "  Periodicity std Periodicity (Mean)  Periodicity (Std)  \n",
       "1       35.957647              59.43              35.96  \n",
       "\n",
       "[1 rows x 34 columns]"
      ]
     },
     "execution_count": 34,
     "metadata": {},
     "output_type": "execute_result"
    }
   ],
   "source": [
    "#Check via customer sample\n",
    "df_variables.loc[df_variables[\"CustID\"].isin([customer])]"
   ]
  },
  {
   "cell_type": "code",
   "execution_count": null,
   "metadata": {},
   "outputs": [],
   "source": []
  }
 ],
 "metadata": {
  "kernelspec": {
   "display_name": "Python 3",
   "language": "python",
   "name": "python3"
  },
  "language_info": {
   "codemirror_mode": {
    "name": "ipython",
    "version": 3
   },
   "file_extension": ".py",
   "mimetype": "text/x-python",
   "name": "python",
   "nbconvert_exporter": "python",
   "pygments_lexer": "ipython3",
   "version": "3.6.5"
  }
 },
 "nbformat": 4,
 "nbformat_minor": 2
}
