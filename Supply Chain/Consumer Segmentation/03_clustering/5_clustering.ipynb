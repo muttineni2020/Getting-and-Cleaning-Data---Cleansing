{
 "cells": [
  {
   "cell_type": "markdown",
   "metadata": {},
   "source": [
    "# 5 Clustering\n",
    "\n",
    "**Prerequisites:** Features has been calculated.\n",
    "\n",
    "**Objective:** Allocate each customer to a cluster.\n",
    "\n",
    "http://scikit-learn.org/stable/modules/clustering.html\n",
    "\n",
    "\n",
    "### Used clustering scores:\n",
    "from http://scikit-learn.org/    \n",
    "        \n",
    "**Silhoutte score**  \n",
    "http://scikit-learn.org/stable/modules/generated/sklearn.metrics.silhouette_score.html    \n",
    "http://scikit-learn.org/stable/modules/clustering.html#silhouette-coefficient  \n",
    "    \n",
    "**Calinski-Harabaz score**    \n",
    "http://scikit-learn.org/stable/modules/generated/sklearn.metrics.calinski_harabaz_score.html     \n",
    "http://scikit-learn.org/stable/modules/clustering.html#calinski-harabaz-index\n",
    "\n",
    "## Library Imports"
   ]
  },
  {
   "cell_type": "code",
   "execution_count": 1,
   "metadata": {},
   "outputs": [],
   "source": [
    "import math\n",
    "import matplotlib.pyplot as plt\n",
    "import seaborn as sns\n",
    "import pandas as pd\n",
    "import numpy as np\n",
    "from sklearn.cluster import KMeans\n",
    "from sklearn import metrics\n",
    "from sklearn.linear_model import LogisticRegression\n",
    "from sklearn.model_selection import cross_val_score\n",
    "from sklearn.preprocessing import StandardScaler\n",
    "from sklearn.preprocessing import RobustScaler\n",
    "\n",
    "%matplotlib inline"
   ]
  },
  {
   "cell_type": "code",
   "execution_count": 2,
   "metadata": {},
   "outputs": [],
   "source": [
    "lrfmp_df = pd.read_csv(\"../02_feature engineering/data new/featureslrfmp.csv\", encoding=\"utf-8\", sep=\",\", index_col=\"CustID\")"
   ]
  },
  {
   "cell_type": "code",
   "execution_count": 3,
   "metadata": {},
   "outputs": [
    {
     "data": {
      "text/html": [
       "<div>\n",
       "<style scoped>\n",
       "    .dataframe tbody tr th:only-of-type {\n",
       "        vertical-align: middle;\n",
       "    }\n",
       "\n",
       "    .dataframe tbody tr th {\n",
       "        vertical-align: top;\n",
       "    }\n",
       "\n",
       "    .dataframe thead th {\n",
       "        text-align: right;\n",
       "    }\n",
       "</style>\n",
       "<table border=\"1\" class=\"dataframe\">\n",
       "  <thead>\n",
       "    <tr style=\"text-align: right;\">\n",
       "      <th></th>\n",
       "      <th>Length (First/Last)</th>\n",
       "      <th>Recency (3)</th>\n",
       "      <th>Frequency (Monthly)</th>\n",
       "      <th>Monetary (Revenue)</th>\n",
       "      <th>Monetary (Revenue/Purchase)</th>\n",
       "      <th>Periodicity (Std)</th>\n",
       "    </tr>\n",
       "  </thead>\n",
       "  <tbody>\n",
       "    <tr>\n",
       "      <th>count</th>\n",
       "      <td>70.000000</td>\n",
       "      <td>70.000000</td>\n",
       "      <td>70.000000</td>\n",
       "      <td>70.000000</td>\n",
       "      <td>70.000000</td>\n",
       "      <td>70.000000</td>\n",
       "    </tr>\n",
       "    <tr>\n",
       "      <th>mean</th>\n",
       "      <td>378.985714</td>\n",
       "      <td>76.747429</td>\n",
       "      <td>0.883571</td>\n",
       "      <td>806.478429</td>\n",
       "      <td>60.493143</td>\n",
       "      <td>34.282000</td>\n",
       "    </tr>\n",
       "    <tr>\n",
       "      <th>std</th>\n",
       "      <td>52.698347</td>\n",
       "      <td>51.677815</td>\n",
       "      <td>0.348745</td>\n",
       "      <td>382.502970</td>\n",
       "      <td>16.454843</td>\n",
       "      <td>18.378739</td>\n",
       "    </tr>\n",
       "    <tr>\n",
       "      <th>min</th>\n",
       "      <td>253.000000</td>\n",
       "      <td>8.000000</td>\n",
       "      <td>0.250000</td>\n",
       "      <td>232.500000</td>\n",
       "      <td>26.820000</td>\n",
       "      <td>11.350000</td>\n",
       "    </tr>\n",
       "    <tr>\n",
       "      <th>25%</th>\n",
       "      <td>339.500000</td>\n",
       "      <td>37.665000</td>\n",
       "      <td>0.620000</td>\n",
       "      <td>543.937500</td>\n",
       "      <td>47.557500</td>\n",
       "      <td>21.525000</td>\n",
       "    </tr>\n",
       "    <tr>\n",
       "      <th>50%</th>\n",
       "      <td>396.000000</td>\n",
       "      <td>61.670000</td>\n",
       "      <td>0.810000</td>\n",
       "      <td>743.815000</td>\n",
       "      <td>56.325000</td>\n",
       "      <td>31.075000</td>\n",
       "    </tr>\n",
       "    <tr>\n",
       "      <th>75%</th>\n",
       "      <td>421.500000</td>\n",
       "      <td>112.750000</td>\n",
       "      <td>1.067500</td>\n",
       "      <td>986.272500</td>\n",
       "      <td>69.517500</td>\n",
       "      <td>39.822500</td>\n",
       "    </tr>\n",
       "    <tr>\n",
       "      <th>max</th>\n",
       "      <td>451.000000</td>\n",
       "      <td>273.330000</td>\n",
       "      <td>1.940000</td>\n",
       "      <td>2134.950000</td>\n",
       "      <td>102.200000</td>\n",
       "      <td>123.040000</td>\n",
       "    </tr>\n",
       "  </tbody>\n",
       "</table>\n",
       "</div>"
      ],
      "text/plain": [
       "       Length (First/Last)  Recency (3)  Frequency (Monthly)  \\\n",
       "count            70.000000    70.000000            70.000000   \n",
       "mean            378.985714    76.747429             0.883571   \n",
       "std              52.698347    51.677815             0.348745   \n",
       "min             253.000000     8.000000             0.250000   \n",
       "25%             339.500000    37.665000             0.620000   \n",
       "50%             396.000000    61.670000             0.810000   \n",
       "75%             421.500000   112.750000             1.067500   \n",
       "max             451.000000   273.330000             1.940000   \n",
       "\n",
       "       Monetary (Revenue)  Monetary (Revenue/Purchase)  Periodicity (Std)  \n",
       "count           70.000000                    70.000000          70.000000  \n",
       "mean           806.478429                    60.493143          34.282000  \n",
       "std            382.502970                    16.454843          18.378739  \n",
       "min            232.500000                    26.820000          11.350000  \n",
       "25%            543.937500                    47.557500          21.525000  \n",
       "50%            743.815000                    56.325000          31.075000  \n",
       "75%            986.272500                    69.517500          39.822500  \n",
       "max           2134.950000                   102.200000         123.040000  "
      ]
     },
     "execution_count": 3,
     "metadata": {},
     "output_type": "execute_result"
    }
   ],
   "source": [
    "lrfmp_df.describe()"
   ]
  },
  {
   "cell_type": "markdown",
   "metadata": {},
   "source": [
    "## 5.1 Data preprocessing\n",
    "### 5.1.1 Scaling the data\n",
    "    \n",
    "http://scikit-learn.org/stable/modules/generated/sklearn.preprocessing.RobustScaler.html#sklearn.preprocessing.RobustScaler"
   ]
  },
  {
   "cell_type": "code",
   "execution_count": 4,
   "metadata": {},
   "outputs": [],
   "source": [
    "robustscaler = RobustScaler()\n",
    "X = robustscaler.fit_transform(lrfmp_df)"
   ]
  },
  {
   "cell_type": "markdown",
   "metadata": {},
   "source": [
    "## 5.2 Clustering\n",
    "### 5.2.1 Evaluate clustering scores\n",
    "Train k-means model for k from 2 to 10 and computation of the clustering scores.   "
   ]
  },
  {
   "cell_type": "code",
   "execution_count": 5,
   "metadata": {},
   "outputs": [],
   "source": [
    "max_num_of_clusters = 10"
   ]
  },
  {
   "cell_type": "code",
   "execution_count": 6,
   "metadata": {},
   "outputs": [],
   "source": [
    "var = X\n",
    "possible_k = range(2, max_num_of_clusters + 1)\n",
    "\n",
    "kmeans_list = [KMeans(n_clusters=k) for k in possible_k]\n",
    "\n",
    "sum_of_squared_scores = []\n",
    "silhouette_scores = []\n",
    "calinski_harabaz_scores = []\n",
    "\n",
    "for kmeans in kmeans_list:\n",
    "    kmeans.fit(var)\n",
    "    \n",
    "    sum_of_squared_scores.append(kmeans.score(var))\n",
    "    labels = kmeans.labels_\n",
    "    \n",
    "    silhouette_scores.append(metrics.silhouette_score(var, labels, sample_size=1000,\n",
    "                                                      metric=\"euclidean\"))\n",
    "    calinski_harabaz_scores.append(metrics.calinski_harabaz_score(var, labels))"
   ]
  },
  {
   "cell_type": "markdown",
   "metadata": {},
   "source": [
    "Create a scoring dataframe."
   ]
  },
  {
   "cell_type": "code",
   "execution_count": 7,
   "metadata": {},
   "outputs": [
    {
     "data": {
      "text/html": [
       "<div>\n",
       "<style scoped>\n",
       "    .dataframe tbody tr th:only-of-type {\n",
       "        vertical-align: middle;\n",
       "    }\n",
       "\n",
       "    .dataframe tbody tr th {\n",
       "        vertical-align: top;\n",
       "    }\n",
       "\n",
       "    .dataframe thead th {\n",
       "        text-align: right;\n",
       "    }\n",
       "</style>\n",
       "<table border=\"1\" class=\"dataframe\">\n",
       "  <thead>\n",
       "    <tr style=\"text-align: right;\">\n",
       "      <th></th>\n",
       "      <th>Number of clusters</th>\n",
       "      <th>Sum of squared score</th>\n",
       "      <th>Silhouette score</th>\n",
       "      <th>Calinski-Harabaz score</th>\n",
       "    </tr>\n",
       "  </thead>\n",
       "  <tbody>\n",
       "    <tr>\n",
       "      <th>0</th>\n",
       "      <td>2</td>\n",
       "      <td>-174.733025</td>\n",
       "      <td>0.299901</td>\n",
       "      <td>34.366293</td>\n",
       "    </tr>\n",
       "    <tr>\n",
       "      <th>1</th>\n",
       "      <td>3</td>\n",
       "      <td>-136.577442</td>\n",
       "      <td>0.261884</td>\n",
       "      <td>31.019188</td>\n",
       "    </tr>\n",
       "    <tr>\n",
       "      <th>2</th>\n",
       "      <td>4</td>\n",
       "      <td>-111.576617</td>\n",
       "      <td>0.278825</td>\n",
       "      <td>29.864781</td>\n",
       "    </tr>\n",
       "    <tr>\n",
       "      <th>3</th>\n",
       "      <td>5</td>\n",
       "      <td>-89.580536</td>\n",
       "      <td>0.287439</td>\n",
       "      <td>31.465861</td>\n",
       "    </tr>\n",
       "    <tr>\n",
       "      <th>4</th>\n",
       "      <td>6</td>\n",
       "      <td>-80.228167</td>\n",
       "      <td>0.266981</td>\n",
       "      <td>29.166829</td>\n",
       "    </tr>\n",
       "    <tr>\n",
       "      <th>5</th>\n",
       "      <td>7</td>\n",
       "      <td>-72.354928</td>\n",
       "      <td>0.217185</td>\n",
       "      <td>27.671941</td>\n",
       "    </tr>\n",
       "    <tr>\n",
       "      <th>6</th>\n",
       "      <td>8</td>\n",
       "      <td>-65.665699</td>\n",
       "      <td>0.228600</td>\n",
       "      <td>26.622410</td>\n",
       "    </tr>\n",
       "    <tr>\n",
       "      <th>7</th>\n",
       "      <td>9</td>\n",
       "      <td>-60.376412</td>\n",
       "      <td>0.235134</td>\n",
       "      <td>25.594692</td>\n",
       "    </tr>\n",
       "    <tr>\n",
       "      <th>8</th>\n",
       "      <td>10</td>\n",
       "      <td>-53.407609</td>\n",
       "      <td>0.254704</td>\n",
       "      <td>26.167702</td>\n",
       "    </tr>\n",
       "  </tbody>\n",
       "</table>\n",
       "</div>"
      ],
      "text/plain": [
       "   Number of clusters  Sum of squared score  Silhouette score  \\\n",
       "0                   2           -174.733025          0.299901   \n",
       "1                   3           -136.577442          0.261884   \n",
       "2                   4           -111.576617          0.278825   \n",
       "3                   5            -89.580536          0.287439   \n",
       "4                   6            -80.228167          0.266981   \n",
       "5                   7            -72.354928          0.217185   \n",
       "6                   8            -65.665699          0.228600   \n",
       "7                   9            -60.376412          0.235134   \n",
       "8                  10            -53.407609          0.254704   \n",
       "\n",
       "   Calinski-Harabaz score  \n",
       "0               34.366293  \n",
       "1               31.019188  \n",
       "2               29.864781  \n",
       "3               31.465861  \n",
       "4               29.166829  \n",
       "5               27.671941  \n",
       "6               26.622410  \n",
       "7               25.594692  \n",
       "8               26.167702  "
      ]
     },
     "execution_count": 7,
     "metadata": {},
     "output_type": "execute_result"
    }
   ],
   "source": [
    "result_df = pd.DataFrame({\"Number of clusters\":possible_k, \n",
    "                          \"Sum of squared score\":sum_of_squared_scores,\n",
    "                          \"Silhouette score\":silhouette_scores, \n",
    "                          \"Calinski-Harabaz score\":calinski_harabaz_scores})\n",
    "\n",
    "#Saving clustering scores\n",
    "result_df.to_csv(\"data new/overview clustering scores.csv\", encoding=\"utf-8\", sep=\",\")\n",
    "\n",
    "result_df"
   ]
  },
  {
   "cell_type": "code",
   "execution_count": 8,
   "metadata": {},
   "outputs": [],
   "source": [
    "def plot_scores(cluster_col, score_col, output_path=None):\n",
    "\n",
    "    def plot(cluster_col,score_col):\n",
    "        g = sns.regplot(x=cluster_col, y=score_col, data=result_df,\n",
    "                        fit_reg=False, color=\"Grey\")\n",
    "        g.set_title(score_col+\"\\n\", fontsize=20, x=0.45)\n",
    "        g.set_ylabel(\"Score\")\n",
    "        sns.despine()\n",
    "        return plt.gcf(), g\n",
    "\n",
    "    def set_style():\n",
    "        rc = {\"axes.labelsize\": 13, \"xtick.labelsize\": 11, \"ytick.labelsize\": 11, \"lines.markersize\": 8.0}\n",
    "        sns.set(font=\"Arial\",rc=rc)\n",
    "        sns.set_style(\"ticks\")\n",
    "\n",
    "    def set_size(g):\n",
    "        g.set_size_inches(8,5)\n",
    "        plt.tight_layout()\n",
    "\n",
    "    set_style()\n",
    "    fig, g = plot(cluster_col, score_col)\n",
    "    set_size(fig)\n",
    "    \n",
    "    if output_path is not None:\n",
    "        fig.savefig(output_path,dpi=350)"
   ]
  },
  {
   "cell_type": "markdown",
   "metadata": {},
   "source": [
    "**Sum of squared score**"
   ]
  },
  {
   "cell_type": "code",
   "execution_count": 9,
   "metadata": {},
   "outputs": [
    {
     "data": {
      "image/png": "[encoded data removed]",
      "text/plain": [
       "<Figure size 576x360 with 1 Axes>"
      ]
     },
     "metadata": {},
     "output_type": "display_data"
    }
   ],
   "source": [
    "plot_scores(\"Number of clusters\", \"Sum of squared score\", \"visualizations/sum of squared score\")"
   ]
  },
  {
   "cell_type": "markdown",
   "metadata": {},
   "source": [
    "**Silhoutte score**"
   ]
  },
  {
   "cell_type": "code",
   "execution_count": 10,
   "metadata": {
    "scrolled": false
   },
   "outputs": [
    {
     "data": {
      "image/png": "[encoded data removed]",
      "text/plain": [
       "<Figure size 576x360 with 1 Axes>"
      ]
     },
     "metadata": {},
     "output_type": "display_data"
    }
   ],
   "source": [
    "plot_scores(\"Number of clusters\", \"Silhouette score\",\"visualizations/silhouette score\")"
   ]
  },
  {
   "cell_type": "markdown",
   "metadata": {},
   "source": [
    "**Calinski-Harabaz score**"
   ]
  },
  {
   "cell_type": "code",
   "execution_count": 11,
   "metadata": {},
   "outputs": [
    {
     "data": {
      "image/png": "[encoded data removed]",
      "text/plain": [
       "<Figure size 576x360 with 1 Axes>"
      ]
     },
     "metadata": {},
     "output_type": "display_data"
    }
   ],
   "source": [
    "plot_scores(\"Number of clusters\", \"Calinski-Harabaz score\",\"visualizations/calinski-harabaz score\")"
   ]
  },
  {
   "cell_type": "markdown",
   "metadata": {},
   "source": [
    "### 5.2.2 Process clustering\n",
    "\n",
    "Selected number of clusters:    **k = 5**"
   ]
  },
  {
   "cell_type": "code",
   "execution_count": 12,
   "metadata": {},
   "outputs": [],
   "source": [
    "final_kmeans = KMeans(n_clusters=5)"
   ]
  },
  {
   "cell_type": "code",
   "execution_count": 13,
   "metadata": {},
   "outputs": [
    {
     "data": {
      "text/plain": [
       "KMeans(algorithm='auto', copy_x=True, init='k-means++', max_iter=300,\n",
       "    n_clusters=5, n_init=10, n_jobs=1, precompute_distances='auto',\n",
       "    random_state=None, tol=0.0001, verbose=0)"
      ]
     },
     "execution_count": 13,
     "metadata": {},
     "output_type": "execute_result"
    }
   ],
   "source": [
    "final_kmeans.fit(X)"
   ]
  },
  {
   "cell_type": "code",
   "execution_count": 14,
   "metadata": {},
   "outputs": [
    {
     "data": {
      "text/plain": [
       "array([0, 2, 2, 4, 4, 3, 2, 1, 3, 0, 0, 3, 1, 0, 4, 3, 2, 2, 2, 0, 4, 3,\n",
       "       4, 0, 2, 0, 3, 3, 2, 2, 2, 0, 2, 2, 3, 3, 2, 2, 3, 4, 0, 3, 4, 2,\n",
       "       4, 2, 2, 3, 4, 2, 2, 0, 2, 3, 4, 3, 0, 0, 4, 4, 4, 2, 3, 2, 3, 2,\n",
       "       4, 1, 2, 4], dtype=int32)"
      ]
     },
     "execution_count": 14,
     "metadata": {},
     "output_type": "execute_result"
    }
   ],
   "source": [
    "final_kmeans.labels_"
   ]
  },
  {
   "cell_type": "code",
   "execution_count": 15,
   "metadata": {},
   "outputs": [],
   "source": [
    "lrfmp_df[\"Cluster\"] = final_kmeans.labels_"
   ]
  },
  {
   "cell_type": "code",
   "execution_count": 16,
   "metadata": {},
   "outputs": [],
   "source": [
    "#Saving clustering\n",
    "lrfmp_df.to_csv(\"data new/clustered.csv\", encoding=\"utf-8\", sep=\",\")"
   ]
  },
  {
   "cell_type": "code",
   "execution_count": 17,
   "metadata": {},
   "outputs": [
    {
     "data": {
      "text/html": [
       "<div>\n",
       "<style scoped>\n",
       "    .dataframe tbody tr th:only-of-type {\n",
       "        vertical-align: middle;\n",
       "    }\n",
       "\n",
       "    .dataframe tbody tr th {\n",
       "        vertical-align: top;\n",
       "    }\n",
       "\n",
       "    .dataframe thead th {\n",
       "        text-align: right;\n",
       "    }\n",
       "</style>\n",
       "<table border=\"1\" class=\"dataframe\">\n",
       "  <thead>\n",
       "    <tr style=\"text-align: right;\">\n",
       "      <th></th>\n",
       "      <th>Length (First/Last)</th>\n",
       "      <th>Recency (3)</th>\n",
       "      <th>Frequency (Monthly)</th>\n",
       "      <th>Monetary (Revenue)</th>\n",
       "      <th>Monetary (Revenue/Purchase)</th>\n",
       "      <th>Periodicity (Std)</th>\n",
       "      <th>Cluster</th>\n",
       "    </tr>\n",
       "    <tr>\n",
       "      <th>CustID</th>\n",
       "      <th></th>\n",
       "      <th></th>\n",
       "      <th></th>\n",
       "      <th></th>\n",
       "      <th></th>\n",
       "      <th></th>\n",
       "      <th></th>\n",
       "    </tr>\n",
       "  </thead>\n",
       "  <tbody>\n",
       "    <tr>\n",
       "      <th>1601060367199</th>\n",
       "      <td>442</td>\n",
       "      <td>8.00</td>\n",
       "      <td>1.81</td>\n",
       "      <td>1514.71</td>\n",
       "      <td>52.23</td>\n",
       "      <td>12.18</td>\n",
       "      <td>0</td>\n",
       "    </tr>\n",
       "    <tr>\n",
       "      <th>1604011635399</th>\n",
       "      <td>416</td>\n",
       "      <td>86.33</td>\n",
       "      <td>0.50</td>\n",
       "      <td>360.17</td>\n",
       "      <td>45.02</td>\n",
       "      <td>35.96</td>\n",
       "      <td>2</td>\n",
       "    </tr>\n",
       "    <tr>\n",
       "      <th>1604121617999</th>\n",
       "      <td>389</td>\n",
       "      <td>23.33</td>\n",
       "      <td>0.80</td>\n",
       "      <td>684.38</td>\n",
       "      <td>57.03</td>\n",
       "      <td>37.40</td>\n",
       "      <td>2</td>\n",
       "    </tr>\n",
       "    <tr>\n",
       "      <th>1605041917999</th>\n",
       "      <td>411</td>\n",
       "      <td>115.00</td>\n",
       "      <td>0.50</td>\n",
       "      <td>307.72</td>\n",
       "      <td>38.47</td>\n",
       "      <td>49.21</td>\n",
       "      <td>4</td>\n",
       "    </tr>\n",
       "    <tr>\n",
       "      <th>1610010812799</th>\n",
       "      <td>319</td>\n",
       "      <td>150.67</td>\n",
       "      <td>0.50</td>\n",
       "      <td>550.89</td>\n",
       "      <td>68.86</td>\n",
       "      <td>57.35</td>\n",
       "      <td>4</td>\n",
       "    </tr>\n",
       "  </tbody>\n",
       "</table>\n",
       "</div>"
      ],
      "text/plain": [
       "               Length (First/Last)  Recency (3)  Frequency (Monthly)  \\\n",
       "CustID                                                                 \n",
       "1601060367199                  442         8.00                 1.81   \n",
       "1604011635399                  416        86.33                 0.50   \n",
       "1604121617999                  389        23.33                 0.80   \n",
       "1605041917999                  411       115.00                 0.50   \n",
       "1610010812799                  319       150.67                 0.50   \n",
       "\n",
       "               Monetary (Revenue)  Monetary (Revenue/Purchase)  \\\n",
       "CustID                                                           \n",
       "1601060367199             1514.71                        52.23   \n",
       "1604011635399              360.17                        45.02   \n",
       "1604121617999              684.38                        57.03   \n",
       "1605041917999              307.72                        38.47   \n",
       "1610010812799              550.89                        68.86   \n",
       "\n",
       "               Periodicity (Std)  Cluster  \n",
       "CustID                                     \n",
       "1601060367199              12.18        0  \n",
       "1604011635399              35.96        2  \n",
       "1604121617999              37.40        2  \n",
       "1605041917999              49.21        4  \n",
       "1610010812799              57.35        4  "
      ]
     },
     "execution_count": 17,
     "metadata": {},
     "output_type": "execute_result"
    }
   ],
   "source": [
    "lrfmp_df.head()"
   ]
  },
  {
   "cell_type": "code",
   "execution_count": null,
   "metadata": {},
   "outputs": [],
   "source": []
  }
 ],
 "metadata": {
  "kernelspec": {
   "display_name": "Python 3",
   "language": "python",
   "name": "python3"
  },
  "language_info": {
   "codemirror_mode": {
    "name": "ipython",
    "version": 3
   },
   "file_extension": ".py",
   "mimetype": "text/x-python",
   "name": "python",
   "nbconvert_exporter": "python",
   "pygments_lexer": "ipython3",
   "version": "3.6.5"
  }
 },
 "nbformat": 4,
 "nbformat_minor": 2
}
