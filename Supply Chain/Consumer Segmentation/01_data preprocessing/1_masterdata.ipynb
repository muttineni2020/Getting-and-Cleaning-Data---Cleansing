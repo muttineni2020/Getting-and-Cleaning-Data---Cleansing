{
 "cells": [
  {
   "cell_type": "markdown",
   "metadata": {},
   "source": [
    "# 1 Master Data\n",
    "## Library Imports"
   ]
  },
  {
   "cell_type": "code",
   "execution_count": 1,
   "metadata": {},
   "outputs": [],
   "source": [
    "import pandas as pd\n",
    "import numpy as np\n",
    "import matplotlib.pyplot as plt\n",
    "import seaborn as sns\n",
    "import os\n",
    "import glob"
   ]
  },
  {
   "cell_type": "markdown",
   "metadata": {},
   "source": [
    "## 1.1 Converting txt to csv"
   ]
  },
  {
   "cell_type": "code",
   "execution_count": 2,
   "metadata": {},
   "outputs": [],
   "source": [
    "#define variables\n",
    "inpath = \"../00_data/masterdata/raw data/\"\n",
    "intype = \".txt\"\n",
    "incode = \"utf-8\"\n",
    "outpath = \"../00_data/masterdata/csv/\"\n",
    "outtype = \".csv\"\n",
    "outcode = \"utf-8\"\n",
    "\n",
    "#define dataselection\n",
    "years = [\"2016\"]\n",
    "\n",
    "for y in years:\n",
    "    with open (outpath + \"masterdata_\" + y + outtype,\"w\",encoding=outcode) as outfile:\n",
    "        infile = inpath + \"masterdata_\" + y + intype \n",
    "        with open (infile, encoding=incode) as infile:\n",
    "            for line in infile:\n",
    "                outfile.write(line)"
   ]
  },
  {
   "cell_type": "markdown",
   "metadata": {},
   "source": [
    "## 1.2 Editing csv-files via pandas\n",
    "\n",
    "http://pandas.pydata.org/\n",
    "- Eliminating old header\n",
    "- Insert new header\n",
    "- Save new csv-file"
   ]
  },
  {
   "cell_type": "code",
   "execution_count": 3,
   "metadata": {},
   "outputs": [],
   "source": [
    "header = [\"CardID\",\"CustID\",\"CustID old\",\"Title\",\"Country\",\"Address\", \n",
    "          \"PostalCode\",\"City\",\"Mail\",\"BirthDate\",\"noAd\",\"ValidityDate\"]\n",
    "columns = [0,1,2,3,4,5,6,7,8,9,10,11,12]"
   ]
  },
  {
   "cell_type": "code",
   "execution_count": 4,
   "metadata": {},
   "outputs": [],
   "source": [
    "def new_csv_after_pd (var, year):\n",
    "    df = pd.read_csv(var, delimiter=\";\", encoding=\"utf-8\", names=header, usecols=columns, \n",
    "                     skiprows=8, skipfooter=1, na_filter=False, skip_blank_lines=False, \n",
    "                     error_bad_lines=False, warn_bad_lines=True,engine=\"python\")\n",
    "    \n",
    "    df[\"PostalCode\"]= df[\"PostalCode\"].astype(\"object\")\n",
    "    \n",
    "    df.to_csv(\"../00_data/masterdata/csv pd/masterdata_\" + year + \".csv\",\n",
    "              encoding=\"utf-8\", sep=\",\", index=False)\n",
    "\n",
    "all_files = glob.glob(os.path.join(outpath, \"*.csv\"))\n",
    "\n",
    "for f in all_files:\n",
    "    year = f.replace(os.path.join(outpath, \"masterdata_\"),\"\").replace(\".csv\",\"\")\n",
    "    new_csv_after_pd(f,year)"
   ]
  },
  {
   "cell_type": "markdown",
   "metadata": {},
   "source": [
    "## 1.3 Merge csv-files via pandas\n",
    "http://pandas.pydata.org/pandas-docs/stable/generated/pandas.concat.html    \n",
    "(Attention: only works with identical column names)\n",
    "- Save new csv-file"
   ]
  },
  {
   "cell_type": "code",
   "execution_count": 5,
   "metadata": {},
   "outputs": [],
   "source": [
    "#define which path to choose\n",
    "outpath2 = \"../00_data/masterdata/csv pd/\" \n",
    "\n",
    "all_files = glob.glob(os.path.join(outpath2, \"*.csv\")) \n",
    "\n",
    "df_from_each_file = (pd.read_csv(f, low_memory=False) for f in all_files)\n",
    "concat_df = pd.concat(df_from_each_file, ignore_index = True)"
   ]
  },
  {
   "cell_type": "code",
   "execution_count": 6,
   "metadata": {},
   "outputs": [
    {
     "data": {
      "text/html": [
       "<div>\n",
       "<style scoped>\n",
       "    .dataframe tbody tr th:only-of-type {\n",
       "        vertical-align: middle;\n",
       "    }\n",
       "\n",
       "    .dataframe tbody tr th {\n",
       "        vertical-align: top;\n",
       "    }\n",
       "\n",
       "    .dataframe thead th {\n",
       "        text-align: right;\n",
       "    }\n",
       "</style>\n",
       "<table border=\"1\" class=\"dataframe\">\n",
       "  <thead>\n",
       "    <tr style=\"text-align: right;\">\n",
       "      <th></th>\n",
       "      <th>CardID</th>\n",
       "      <th>CustID</th>\n",
       "      <th>CustID old</th>\n",
       "      <th>Title</th>\n",
       "      <th>Country</th>\n",
       "      <th>Address</th>\n",
       "      <th>PostalCode</th>\n",
       "      <th>City</th>\n",
       "      <th>Mail</th>\n",
       "      <th>BirthDate</th>\n",
       "      <th>noAd</th>\n",
       "      <th>ValidityDate</th>\n",
       "    </tr>\n",
       "  </thead>\n",
       "  <tbody>\n",
       "    <tr>\n",
       "      <th>0</th>\n",
       "      <td>71548768099</td>\n",
       "      <td>1681110262999</td>\n",
       "      <td>1634091255199</td>\n",
       "      <td>Male</td>\n",
       "      <td>Germany</td>\n",
       "      <td>8269 Turpis  Straße</td>\n",
       "      <td>81834</td>\n",
       "      <td>Ravensburg</td>\n",
       "      <td>In.ornare.sagittis@per.co.uk</td>\n",
       "      <td>15.01.1955</td>\n",
       "      <td>NaN</td>\n",
       "      <td>05.07.2013</td>\n",
       "    </tr>\n",
       "  </tbody>\n",
       "</table>\n",
       "</div>"
      ],
      "text/plain": [
       "        CardID         CustID     CustID old Title  Country  \\\n",
       "0  71548768099  1681110262999  1634091255199  Male  Germany   \n",
       "\n",
       "               Address PostalCode        City                          Mail  \\\n",
       "0  8269 Turpis  Straße      81834  Ravensburg  In.ornare.sagittis@per.co.uk   \n",
       "\n",
       "    BirthDate noAd ValidityDate  \n",
       "0  15.01.1955  NaN   05.07.2013  "
      ]
     },
     "execution_count": 6,
     "metadata": {},
     "output_type": "execute_result"
    }
   ],
   "source": [
    "concat_df.head(1)"
   ]
  },
  {
   "cell_type": "code",
   "execution_count": 7,
   "metadata": {},
   "outputs": [
    {
     "name": "stdout",
     "output_type": "stream",
     "text": [
      "Cards: 75\n"
     ]
    }
   ],
   "source": [
    "concat_df[\"BirthDate\"] = pd.to_datetime(concat_df[\"BirthDate\"],format=\"%d.%m.%Y\",errors=\"coerce\")\n",
    "concat_df[\"ValidityDate\"] = pd.to_datetime(concat_df[\"ValidityDate\"],format=\"%d.%m.%Y\", errors=\"coerce\")\n",
    "print(\"Cards: \" + str(len(concat_df.index)))"
   ]
  },
  {
   "cell_type": "markdown",
   "metadata": {},
   "source": [
    "## 1.4 Data cleaning\n",
    "\n",
    "### 1.4.1 Check masterdata for duplicate cards\n",
    "  Check for duplicate rows in **cardID**. Afterwards they will be eliminated."
   ]
  },
  {
   "cell_type": "code",
   "execution_count": 8,
   "metadata": {},
   "outputs": [
    {
     "name": "stdout",
     "output_type": "stream",
     "text": [
      "Duplicate cards: 0\n"
     ]
    }
   ],
   "source": [
    "concat_df = concat_df.sort_values(\"CustID\")\n",
    "concat_df.head()\n",
    "\n",
    "df_dup = concat_df.loc[concat_df.duplicated(subset=[\"CardID\"], keep=False)]\n",
    "df_dup.to_csv(\"data excluded/excluded 1_dup cards.csv\", encoding=\"utf-8\", sep=\",\")\n",
    "print(\"Duplicate cards: \" + str(len(df_dup.index)))"
   ]
  },
  {
   "cell_type": "code",
   "execution_count": 9,
   "metadata": {},
   "outputs": [
    {
     "name": "stdout",
     "output_type": "stream",
     "text": [
      "Cards after cleaning: 75\n"
     ]
    }
   ],
   "source": [
    "#Cleaning customers (first card id survives)\n",
    "df_exdup = concat_df.loc[~concat_df.duplicated(subset=[\"CardID\"], keep=\"first\")]\n",
    "df_exdup.to_csv(\"data new/masterdata.csv\",encoding = \"utf-8\",sep = \",\",index = False)\n",
    "print(\"Cards after cleaning: \" + str(len(df_exdup.index)))"
   ]
  },
  {
   "cell_type": "code",
   "execution_count": 10,
   "metadata": {},
   "outputs": [
    {
     "data": {
      "text/html": [
       "<div>\n",
       "<style scoped>\n",
       "    .dataframe tbody tr th:only-of-type {\n",
       "        vertical-align: middle;\n",
       "    }\n",
       "\n",
       "    .dataframe tbody tr th {\n",
       "        vertical-align: top;\n",
       "    }\n",
       "\n",
       "    .dataframe thead th {\n",
       "        text-align: right;\n",
       "    }\n",
       "</style>\n",
       "<table border=\"1\" class=\"dataframe\">\n",
       "  <thead>\n",
       "    <tr style=\"text-align: right;\">\n",
       "      <th></th>\n",
       "      <th>CardID</th>\n",
       "      <th>CustID</th>\n",
       "      <th>CustID old</th>\n",
       "      <th>Title</th>\n",
       "      <th>Country</th>\n",
       "      <th>Address</th>\n",
       "      <th>PostalCode</th>\n",
       "      <th>City</th>\n",
       "      <th>Mail</th>\n",
       "      <th>BirthDate</th>\n",
       "      <th>noAd</th>\n",
       "      <th>ValidityDate</th>\n",
       "    </tr>\n",
       "  </thead>\n",
       "  <tbody>\n",
       "    <tr>\n",
       "      <th>69</th>\n",
       "      <td>59681386599</td>\n",
       "      <td>1601060367199</td>\n",
       "      <td>1679012029199</td>\n",
       "      <td>Female</td>\n",
       "      <td>United States</td>\n",
       "      <td>Ap #632-5741 Dolor,  Rd.</td>\n",
       "      <td>48803</td>\n",
       "      <td>Mesa</td>\n",
       "      <td>at.iaculis.quis@feugiat.edu</td>\n",
       "      <td>1997-12-08</td>\n",
       "      <td>NaN</td>\n",
       "      <td>2015-10-07</td>\n",
       "    </tr>\n",
       "  </tbody>\n",
       "</table>\n",
       "</div>"
      ],
      "text/plain": [
       "         CardID         CustID     CustID old   Title        Country  \\\n",
       "69  59681386599  1601060367199  1679012029199  Female  United States   \n",
       "\n",
       "                     Address PostalCode  City                         Mail  \\\n",
       "69  Ap #632-5741 Dolor,  Rd.      48803  Mesa  at.iaculis.quis@feugiat.edu   \n",
       "\n",
       "    BirthDate noAd ValidityDate  \n",
       "69 1997-12-08  NaN   2015-10-07  "
      ]
     },
     "execution_count": 10,
     "metadata": {},
     "output_type": "execute_result"
    }
   ],
   "source": [
    "df_exdup.head(1)"
   ]
  },
  {
   "cell_type": "markdown",
   "metadata": {},
   "source": [
    "### 1.4.2 How many customer have more than one card?\n",
    "Check for multiple **custID**."
   ]
  },
  {
   "cell_type": "code",
   "execution_count": 11,
   "metadata": {},
   "outputs": [
    {
     "name": "stdout",
     "output_type": "stream",
     "text": [
      "Customers with multiple cards: 10\n"
     ]
    }
   ],
   "source": [
    "df1 = df_exdup.loc[:,[\"CardID\",\"CustID\"]]\n",
    "\n",
    "df1[\"Counter CardID\"] = df1.groupby(\"CardID\").cumcount(ascending=True) + 1\n",
    "\n",
    "df_more = df1.loc[df1.duplicated(subset=[\"CustID\"], keep=False)]\n",
    "df_more = df_more.groupby(\"CardID\").agg(np.max)\n",
    "\n",
    "print(\"Customers with multiple cards: \" + str(len(df_more.index)))"
   ]
  },
  {
   "cell_type": "markdown",
   "metadata": {},
   "source": [
    "### Step 3: Check for invalid BirthDates"
   ]
  },
  {
   "cell_type": "code",
   "execution_count": 12,
   "metadata": {},
   "outputs": [],
   "source": [
    "plt.style.use(\"default\")\n",
    "\n",
    "def show_hist (dataframe,var,title,labeliv,rot,output_path=None):\n",
    "    g = sns.factorplot(x=var, data=dataframe.sort_values(by=var, ascending=False), kind=\"count\",\n",
    "                      palette=\"Blues\", size=4, aspect=2)\n",
    "\n",
    "    g.fig.suptitle(title, fontsize=12, x=0.5)\n",
    "    g.set_xticklabels(step=labeliv)\n",
    "    g.set_xticklabels(rotation=rot)\n",
    "    plt.ylabel(\"Customers\")\n",
    "    \n",
    "    def set_style():\n",
    "        plt.style.use([\"seaborn-white\", \"seaborn-paper\"])\n",
    "        plt.rc(\"font\", family=\"Arial\")\n",
    "    \n",
    "    set_style()\n",
    "    plt.show()\n",
    "    \n",
    "    if output_path is not None:\n",
    "        g.savefig(output_path,dpi=350)"
   ]
  },
  {
   "cell_type": "code",
   "execution_count": 13,
   "metadata": {},
   "outputs": [],
   "source": [
    "obs_period = pd.to_datetime(\"2018-07-30\")\n",
    "\n",
    "#Clean \"under 16\" & \"older than 100 years\"\n",
    "df_exdup.loc[df_exdup[\"BirthDate\"] > \"2002-07-30\",\"BirthDate\"] = np.nan\n",
    "df_exdup.loc[df_exdup[\"BirthDate\"] < \"1918-07-30\",\"BirthDate\"] = np.nan\n",
    "\n",
    "df_exdup[\"Age\"] = (obs_period - df_exdup[\"BirthDate\"]).astype(\"<m8[Y]\")\n",
    "\n",
    "df_exdup.to_csv(\"data new/masterdata.csv\",encoding = \"utf-8\",sep = \",\",index = False)"
   ]
  },
  {
   "cell_type": "code",
   "execution_count": 14,
   "metadata": {},
   "outputs": [
    {
     "data": {
      "image/png": "[encoded data removed]",
      "text/plain": [
       "<Figure size 800x400 with 1 Axes>"
      ]
     },
     "metadata": {},
     "output_type": "display_data"
    }
   ],
   "source": [
    "show_hist(df_exdup,\"Age\",\"Customers by age\",5,60,\"visualizations/customers by age\")"
   ]
  },
  {
   "cell_type": "markdown",
   "metadata": {},
   "source": [
    "## 1.5 Variable engeneering\n",
    "\n",
    "### 1.5.1 City Customers?\n",
    "\n",
    "Adding a variable which deferentiates a customers who lives in a city from those who are not."
   ]
  },
  {
   "cell_type": "code",
   "execution_count": 15,
   "metadata": {},
   "outputs": [],
   "source": [
    "#define cities\n",
    "cities = [\"Hamburg\",\"San Francisco\",\"Berlin\",\"Bremen\"]"
   ]
  },
  {
   "cell_type": "code",
   "execution_count": 16,
   "metadata": {},
   "outputs": [],
   "source": [
    "df_exdup.loc[df_exdup[\"City\"].isin(cities),\"Dweller\"] = \"City\"\n",
    "df_exdup.loc[~df_exdup[\"City\"].isin(cities),\"Dweller\"] = \"Rural\""
   ]
  },
  {
   "cell_type": "code",
   "execution_count": 17,
   "metadata": {},
   "outputs": [],
   "source": [
    "df_exdup.to_csv(\"data new/masterdata.csv\",encoding = \"utf-8\",sep = \",\",index = False)"
   ]
  },
  {
   "cell_type": "code",
   "execution_count": 18,
   "metadata": {},
   "outputs": [
    {
     "data": {
      "image/png": "[encoded data removed]",
      "text/plain": [
       "<Figure size 800x400 with 1 Axes>"
      ]
     },
     "metadata": {},
     "output_type": "display_data"
    }
   ],
   "source": [
    "show_hist(df_exdup,\"Dweller\",\"Customers living in a city\",1,1,\"visualizations/customers living in a city\")"
   ]
  },
  {
   "cell_type": "code",
   "execution_count": null,
   "metadata": {},
   "outputs": [],
   "source": []
  },
  {
   "cell_type": "code",
   "execution_count": null,
   "metadata": {},
   "outputs": [],
   "source": []
  }
 ],
 "metadata": {
  "kernelspec": {
   "display_name": "Python 3",
   "language": "python",
   "name": "python3"
  },
  "language_info": {
   "codemirror_mode": {
    "name": "ipython",
    "version": 3
   },
   "file_extension": ".py",
   "mimetype": "text/x-python",
   "name": "python",
   "nbconvert_exporter": "python",
   "pygments_lexer": "ipython3",
   "version": "3.6.5"
  }
 },
 "nbformat": 4,
 "nbformat_minor": 2
}
