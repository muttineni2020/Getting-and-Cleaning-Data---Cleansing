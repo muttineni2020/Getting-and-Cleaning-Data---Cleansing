{
 "cells": [
  {
   "cell_type": "markdown",
   "metadata": {},
   "source": [
    "# 2 Transaction Data\n",
    "## Library Imports"
   ]
  },
  {
   "cell_type": "code",
   "execution_count": 1,
   "metadata": {},
   "outputs": [],
   "source": [
    "import numpy as np\n",
    "import pandas as pd\n",
    "import matplotlib.pyplot as plt\n",
    "import seaborn as sns\n",
    "import glob\n",
    "import os\n",
    "from functools import reduce"
   ]
  },
  {
   "cell_type": "markdown",
   "metadata": {},
   "source": [
    "## 2.1 Converting txt to csv"
   ]
  },
  {
   "cell_type": "code",
   "execution_count": 2,
   "metadata": {},
   "outputs": [],
   "source": [
    "#define variables\n",
    "inpath = \"../00_data/transdata/raw data/\"\n",
    "intype = \".txt\"\n",
    "incode = \"utf-16\"\n",
    "outpath = \"../00_data/transdata/csv/\"\n",
    "outtype = \".csv\"\n",
    "outcode = \"utf-8\"\n",
    "\n",
    "#define dataselection\n",
    "months = [\"2017_05\",\"2017_07\",\"2017_10\",\"2018_01\",\"2018_04\",\"2018_07\"]\n",
    "\n",
    "for m in months:\n",
    "    with open (outpath + \"transdata_\" + m + outtype,\"w\",encoding=outcode) as outfile:\n",
    "        infile = inpath + \"transdata_\" + m + intype \n",
    "        with open (infile, encoding=incode) as infile:\n",
    "            for line in infile:\n",
    "                outfile.write(line)"
   ]
  },
  {
   "cell_type": "markdown",
   "metadata": {},
   "source": [
    "## 2.2 Editing csv-files via pandas\n",
    "\n",
    "http://pandas.pydata.org/\n",
    "- Insert header\n",
    "- Clean and transform data\n",
    "- Save new csv-file"
   ]
  },
  {
   "cell_type": "code",
   "execution_count": 3,
   "metadata": {},
   "outputs": [],
   "source": [
    "header = [\"Store\",\"CardID\",\"EAN\",\"Category\",\"MedType\",\"SW2Key\", \n",
    "          \"Revenue\",\"RevenueInc.\",\"Qty\",\"TransactionType\",\"BookingDate\"]\n",
    "columns = [2,3,4,5,6,7,8,10,12,14,15]"
   ]
  },
  {
   "cell_type": "code",
   "execution_count": 4,
   "metadata": {},
   "outputs": [],
   "source": [
    "def new_csv_after_pd (var, month):\n",
    "\n",
    "    df = pd.read_csv(var, delimiter=\"\\t\", encoding=\"utf-8\", header=None,\n",
    "                          names=header, usecols=columns,skipfooter=1,na_filter=False,\n",
    "                          skip_blank_lines = False, error_bad_lines=False, warn_bad_lines=True,\n",
    "                          engine=\"python\", decimal=\",\",\n",
    "                          dtype={(\"EAN\",\"Category\",\"MedType\",\"SW2Key\",\"TransactionType\"):object})\n",
    "    \n",
    "    df[\"BookingDate\"] = pd.to_datetime(df[\"BookingDate\"], format = \"%d.%m.%Y\" )  \n",
    "    df.to_csv(\"../00_data/transdata/csv pd/transdata_\" + month + \".csv\",\n",
    "              encoding=\"utf-8\", sep=\",\", na_rep=\"NaN\", index=False)\n",
    "\n",
    "all_files = glob.glob(os.path.join(outpath, \"*.csv\"))\n",
    "\n",
    "for f in all_files:\n",
    "    month = f.replace(os.path.join(outpath, \"transdata_\"),\"\").replace(\".csv\",\"\")\n",
    "    new_csv_after_pd(f,month)"
   ]
  },
  {
   "cell_type": "markdown",
   "metadata": {},
   "source": [
    "## 2.3 Merge csv-files via pandas\n",
    "http://pandas.pydata.org/pandas-docs/stable/generated/pandas.concat.html    \n",
    "(Attention: only works with identical column names)\n",
    "- Save new csv-file"
   ]
  },
  {
   "cell_type": "code",
   "execution_count": 5,
   "metadata": {},
   "outputs": [],
   "source": [
    "#define which path to choose\n",
    "outpath2 = \"../00_data/transdata/csv pd/\"\n",
    "\n",
    "all_files = glob.glob(os.path.join(outpath2, \"*.csv\"))\n",
    "\n",
    "df_from_each_file = (pd.read_csv(f, low_memory=False) for f in all_files)\n",
    "concat_df = pd.concat(df_from_each_file, ignore_index = True)"
   ]
  },
  {
   "cell_type": "code",
   "execution_count": 6,
   "metadata": {},
   "outputs": [
    {
     "name": "stdout",
     "output_type": "stream",
     "text": [
      "Transactions: 1002\n"
     ]
    }
   ],
   "source": [
    "concat_df[\"BookingDate\"] = pd.to_datetime(concat_df[\"BookingDate\"],format=\"%Y-%m-%d\")\n",
    "print(\"Transactions: \" + str(len(concat_df.index)))"
   ]
  },
  {
   "cell_type": "markdown",
   "metadata": {},
   "source": [
    "## 2.4 Data cleaning\n",
    "\n",
    "### 2.4.1 Check transdata for blank transactions\n",
    "  Check for transactions with **Qty** or **Revenue** of zero. Afterwards they will be eliminated."
   ]
  },
  {
   "cell_type": "code",
   "execution_count": 7,
   "metadata": {},
   "outputs": [
    {
     "name": "stdout",
     "output_type": "stream",
     "text": [
      "Transactions without rev: 0\n"
     ]
    }
   ],
   "source": [
    "df1 = concat_df\n",
    "\n",
    "df_zerorev = df1.loc[df1[\"Revenue\"] == 0]\n",
    "df_zerorev.to_csv(\"data excluded/excluded 2_zero revenue.csv\", encoding=\"utf-8\", sep=\",\")\n",
    "print(\"Transactions without rev: \" + str(len(df_zerorev.index)))"
   ]
  },
  {
   "cell_type": "code",
   "execution_count": 8,
   "metadata": {},
   "outputs": [
    {
     "name": "stdout",
     "output_type": "stream",
     "text": [
      "Transactions without qty: 0\n"
     ]
    }
   ],
   "source": [
    "df_zeroqty = df1.loc[df1[\"Qty\"] == 0]\n",
    "df_zeroqty.to_csv(\"data excluded/excluded 3_zero qty.csv\", encoding=\"utf-8\", sep=\",\")\n",
    "print(\"Transactions without qty: \" + str(len(df_zeroqty.index)))"
   ]
  },
  {
   "cell_type": "code",
   "execution_count": 9,
   "metadata": {},
   "outputs": [
    {
     "name": "stdout",
     "output_type": "stream",
     "text": [
      "Transactions after cleaning: 1002\n"
     ]
    }
   ],
   "source": [
    "#Cleaning transactions\n",
    "df_exzeros = df1.loc[~(df1[\"Revenue\"] == 0)]\n",
    "df_exzeros = df_exzeros.loc[~(df_exzeros[\"Qty\"] == 0)]\n",
    "print(\"Transactions after cleaning: \" + str(len(df_exzeros.index)))"
   ]
  },
  {
   "cell_type": "markdown",
   "metadata": {},
   "source": [
    "### 2.4.2 Exclude returns\n",
    "Check how many returns exist with **TransactionType**: **5**."
   ]
  },
  {
   "cell_type": "code",
   "execution_count": 10,
   "metadata": {},
   "outputs": [
    {
     "name": "stdout",
     "output_type": "stream",
     "text": [
      "Returns: 52\n"
     ]
    }
   ],
   "source": [
    "df2 = df_exzeros\n",
    "\n",
    "df_ret = df2.loc[df2[\"TransactionType\"] == 5]\n",
    "df_ret.to_csv(\"data excluded/excluded 4_returns.csv\", encoding=\"utf-8\", sep=\",\")\n",
    "print(\"Returns: \" + str(len(df_ret.index)))"
   ]
  },
  {
   "cell_type": "code",
   "execution_count": 11,
   "metadata": {},
   "outputs": [
    {
     "name": "stdout",
     "output_type": "stream",
     "text": [
      "Transactions without returns: 950\n"
     ]
    }
   ],
   "source": [
    "#Cleaning transactions\n",
    "df_exret = df2.loc[~(df2[\"TransactionType\"] == 5)]\n",
    "df_exret.to_csv(\"data new/transdata.csv\",encoding = \"utf-8\",sep = \",\",index = False)\n",
    "print(\"Transactions without returns: \" + str(len(df_exret.index)))"
   ]
  },
  {
   "cell_type": "code",
   "execution_count": 12,
   "metadata": {},
   "outputs": [
    {
     "data": {
      "text/html": [
       "<div>\n",
       "<style scoped>\n",
       "    .dataframe tbody tr th:only-of-type {\n",
       "        vertical-align: middle;\n",
       "    }\n",
       "\n",
       "    .dataframe tbody tr th {\n",
       "        vertical-align: top;\n",
       "    }\n",
       "\n",
       "    .dataframe thead th {\n",
       "        text-align: right;\n",
       "    }\n",
       "</style>\n",
       "<table border=\"1\" class=\"dataframe\">\n",
       "  <thead>\n",
       "    <tr style=\"text-align: right;\">\n",
       "      <th></th>\n",
       "      <th>Store</th>\n",
       "      <th>CardID</th>\n",
       "      <th>EAN</th>\n",
       "      <th>Category</th>\n",
       "      <th>MedType</th>\n",
       "      <th>SW2Key</th>\n",
       "      <th>Revenue</th>\n",
       "      <th>RevenueInc.</th>\n",
       "      <th>Qty</th>\n",
       "      <th>TransactionType</th>\n",
       "      <th>BookingDate</th>\n",
       "    </tr>\n",
       "  </thead>\n",
       "  <tbody>\n",
       "    <tr>\n",
       "      <th>0</th>\n",
       "      <td>1</td>\n",
       "      <td>27924459899</td>\n",
       "      <td>9986</td>\n",
       "      <td>1</td>\n",
       "      <td>34</td>\n",
       "      <td>22</td>\n",
       "      <td>73.06</td>\n",
       "      <td>73.06</td>\n",
       "      <td>4.0</td>\n",
       "      <td>1</td>\n",
       "      <td>2018-01-02</td>\n",
       "    </tr>\n",
       "    <tr>\n",
       "      <th>1</th>\n",
       "      <td>5</td>\n",
       "      <td>66736159399</td>\n",
       "      <td>9994</td>\n",
       "      <td>4</td>\n",
       "      <td>32</td>\n",
       "      <td>22</td>\n",
       "      <td>24.16</td>\n",
       "      <td>24.16</td>\n",
       "      <td>1.0</td>\n",
       "      <td>1</td>\n",
       "      <td>2018-01-02</td>\n",
       "    </tr>\n",
       "    <tr>\n",
       "      <th>2</th>\n",
       "      <td>7</td>\n",
       "      <td>66736159399</td>\n",
       "      <td>9997</td>\n",
       "      <td>4</td>\n",
       "      <td>32</td>\n",
       "      <td>22</td>\n",
       "      <td>57.76</td>\n",
       "      <td>57.76</td>\n",
       "      <td>1.0</td>\n",
       "      <td>1</td>\n",
       "      <td>2018-01-02</td>\n",
       "    </tr>\n",
       "    <tr>\n",
       "      <th>3</th>\n",
       "      <td>2</td>\n",
       "      <td>59681386599</td>\n",
       "      <td>9992</td>\n",
       "      <td>3</td>\n",
       "      <td>34</td>\n",
       "      <td>22</td>\n",
       "      <td>72.82</td>\n",
       "      <td>68.82</td>\n",
       "      <td>2.0</td>\n",
       "      <td>1</td>\n",
       "      <td>2018-01-04</td>\n",
       "    </tr>\n",
       "    <tr>\n",
       "      <th>4</th>\n",
       "      <td>10</td>\n",
       "      <td>65801188599</td>\n",
       "      <td>9994</td>\n",
       "      <td>4</td>\n",
       "      <td>32</td>\n",
       "      <td>22</td>\n",
       "      <td>24.16</td>\n",
       "      <td>24.16</td>\n",
       "      <td>1.0</td>\n",
       "      <td>1</td>\n",
       "      <td>2018-01-04</td>\n",
       "    </tr>\n",
       "  </tbody>\n",
       "</table>\n",
       "</div>"
      ],
      "text/plain": [
       "   Store       CardID   EAN  Category  MedType  SW2Key  Revenue  RevenueInc.  \\\n",
       "0      1  27924459899  9986         1       34      22    73.06        73.06   \n",
       "1      5  66736159399  9994         4       32      22    24.16        24.16   \n",
       "2      7  66736159399  9997         4       32      22    57.76        57.76   \n",
       "3      2  59681386599  9992         3       34      22    72.82        68.82   \n",
       "4     10  65801188599  9994         4       32      22    24.16        24.16   \n",
       "\n",
       "   Qty  TransactionType BookingDate  \n",
       "0  4.0                1  2018-01-02  \n",
       "1  1.0                1  2018-01-02  \n",
       "2  1.0                1  2018-01-02  \n",
       "3  2.0                1  2018-01-04  \n",
       "4  1.0                1  2018-01-04  "
      ]
     },
     "execution_count": 12,
     "metadata": {},
     "output_type": "execute_result"
    }
   ],
   "source": [
    "df_exret.head()"
   ]
  },
  {
   "cell_type": "markdown",
   "metadata": {},
   "source": [
    "### 2.4.3 Analyse time dimension via tranactions"
   ]
  },
  {
   "cell_type": "code",
   "execution_count": 13,
   "metadata": {},
   "outputs": [],
   "source": [
    "plt.style.use(\"default\")\n",
    "\n",
    "def show_hist (dataframe,var,title,labeliv,rot,output_path=None):\n",
    "    g = sns.factorplot(x=var, data=dataframe.sort_values(by=var, ascending=True), kind=\"count\",\n",
    "                      palette=\"Blues\", size=4, aspect=2)\n",
    "\n",
    "    g.fig.suptitle(title, fontsize=12, x=0.5)\n",
    "    g.set_xticklabels(step=labeliv)\n",
    "    g.set_xticklabels(rotation=rot)\n",
    "    \n",
    "    plt.ylabel(\"Customers\")\n",
    "    \n",
    "    def set_style():\n",
    "        plt.style.use([\"seaborn-white\", \"seaborn-paper\"])\n",
    "        plt.rc(\"font\", family=\"Arial\")\n",
    "    \n",
    "    set_style()\n",
    "    plt.show()\n",
    "        \n",
    "    if output_path is not None:\n",
    "        g.savefig(output_path,dpi=350)"
   ]
  },
  {
   "cell_type": "code",
   "execution_count": 14,
   "metadata": {},
   "outputs": [],
   "source": [
    "df_exret2 = df_exret.loc[:,[\"BookingDate\"]]\n",
    "df_exret2[\"BookingMonth\"] = df_exret2[\"BookingDate\"].map(lambda x: x.strftime(\"%Y-%m\"))"
   ]
  },
  {
   "cell_type": "code",
   "execution_count": 15,
   "metadata": {},
   "outputs": [
    {
     "data": {
      "image/png": "[encoded data removed]",
      "text/plain": [
       "<Figure size 800x400 with 1 Axes>"
      ]
     },
     "metadata": {},
     "output_type": "display_data"
    }
   ],
   "source": [
    "show_hist(df_exret2,\"BookingMonth\",\"Amount of transactions over time\",1,90,\n",
    "          \"visualizations/transactions over time\")"
   ]
  },
  {
   "cell_type": "markdown",
   "metadata": {},
   "source": [
    "## 2.5 Variable engeneering"
   ]
  },
  {
   "cell_type": "markdown",
   "metadata": {},
   "source": [
    "### 2.5.1 Import data"
   ]
  },
  {
   "cell_type": "code",
   "execution_count": 16,
   "metadata": {},
   "outputs": [],
   "source": [
    "df_master = pd.read_csv(\"data new/masterdata.csv\",encoding=\"utf-8\",sep=\",\",\n",
    "                        parse_dates=[\"BirthDate\",\"ValidityDate\"],dtype={\"CardID\":\"int64\",\n",
    "                                                                        \"CustID\":object,\n",
    "                                                                        \"CustID old\":object,\n",
    "                                                                        \"PostalCode\":object})"
   ]
  },
  {
   "cell_type": "markdown",
   "metadata": {},
   "source": [
    "### 2.5.2 Online & offline shoppers\n",
    "\n",
    "Adding a variable which sums up the **online** purchases. Additionally inserting the **offline** stack.\n",
    "\n",
    "**ChannelShopperDetail:**\n",
    "- Online: 100% online revenue\n",
    "- HybridOn: >50% online revenue\n",
    "- HybridOff: <50% online revenue\n",
    "- Offline: 0% online revenue"
   ]
  },
  {
   "cell_type": "code",
   "execution_count": 17,
   "metadata": {},
   "outputs": [],
   "source": [
    "#define online channel\n",
    "onchannel = 1"
   ]
  },
  {
   "cell_type": "code",
   "execution_count": 18,
   "metadata": {},
   "outputs": [],
   "source": [
    "df_masterS = df_master.loc[:,[\"CustID\",\"CardID\"]]"
   ]
  },
  {
   "cell_type": "code",
   "execution_count": 19,
   "metadata": {},
   "outputs": [],
   "source": [
    "df_transO = df_exret.loc[:,[\"CardID\",\"Store\",\"Revenue\"]]\n",
    "df_transO = df_transO.groupby([\"CardID\",\"Store\"], as_index=False).agg(np.sum)\n",
    "df_transO.loc[df_transO[\"Store\"].isin([onchannel]),\"OnlineRevenue\"] = df_transO[\"Revenue\"]\n",
    "\n",
    "df_transO = pd.merge(df_transO,df_masterS,how=\"left\",on=\"CardID\",indicator=True)\n",
    "df_transO = df_transO.loc[~(df_transO[\"_merge\"] == \"left_only\")]\n",
    "df_transO = df_transO.groupby([\"CustID\"], as_index=False).agg({\"Revenue\": np.sum,\"OnlineRevenue\": np.sum})"
   ]
  },
  {
   "cell_type": "code",
   "execution_count": 20,
   "metadata": {},
   "outputs": [],
   "source": [
    "df_transOF = df_exret.loc[:,[\"CardID\",\"Store\",\"Revenue\"]]\n",
    "df_transOF = df_transOF.groupby([\"CardID\",\"Store\"], as_index=False).agg(np.sum)\n",
    "df_transOF.loc[~(df_transOF[\"Store\"].isin([onchannel])),\"OfflineRevenue\"] = df_transOF[\"Revenue\"]\n",
    "\n",
    "df_transOF = pd.merge(df_transOF,df_masterS,how=\"left\",on=\"CardID\",indicator=True)\n",
    "df_transOF = df_transOF.loc[~(df_transOF[\"_merge\"] == \"left_only\")]\n",
    "df_transOF = df_transOF.groupby([\"CustID\"], as_index=False).agg({\"OfflineRevenue\": np.sum})"
   ]
  },
  {
   "cell_type": "code",
   "execution_count": 21,
   "metadata": {},
   "outputs": [],
   "source": [
    "df_transOOF = pd.merge(df_transO,df_transOF,how=\"left\",on=\"CustID\",indicator=False)"
   ]
  },
  {
   "cell_type": "code",
   "execution_count": 22,
   "metadata": {},
   "outputs": [],
   "source": [
    "perc = df_transOOF[\"OnlineRevenue\"]/df_transOOF[\"Revenue\"]*100\n",
    "perco = df_transOOF[\"OfflineRevenue\"]/df_transOOF[\"Revenue\"]*100\n",
    "\n",
    "df_transOOF[\"ChannelShopper\"] = np.where(perc == 100,\"Online\",\n",
    "                                         np.where(perc > 0,\"Hybrid\",\"Offline\"))\n",
    "\n",
    "df_transOOF[\"ChannelShopperDetail\"] = np.where(perc == 100,\"Online\",\n",
    "                                               np.where(perc > 0.5,\"HybridOn(>0.5)\",\n",
    "                                                        np.where(perc <= 0.5,\"HybridOff(<=0.5)\",\n",
    "                                                                 np.where(perco == 100,\"Offline\",\"NoPurchase\"))))"
   ]
  },
  {
   "cell_type": "code",
   "execution_count": 23,
   "metadata": {},
   "outputs": [
    {
     "data": {
      "text/html": [
       "<div>\n",
       "<style scoped>\n",
       "    .dataframe tbody tr th:only-of-type {\n",
       "        vertical-align: middle;\n",
       "    }\n",
       "\n",
       "    .dataframe tbody tr th {\n",
       "        vertical-align: top;\n",
       "    }\n",
       "\n",
       "    .dataframe thead th {\n",
       "        text-align: right;\n",
       "    }\n",
       "</style>\n",
       "<table border=\"1\" class=\"dataframe\">\n",
       "  <thead>\n",
       "    <tr style=\"text-align: right;\">\n",
       "      <th></th>\n",
       "      <th>CustID</th>\n",
       "      <th>Revenue</th>\n",
       "      <th>OnlineRevenue</th>\n",
       "      <th>OfflineRevenue</th>\n",
       "      <th>ChannelShopper</th>\n",
       "      <th>ChannelShopperDetail</th>\n",
       "    </tr>\n",
       "  </thead>\n",
       "  <tbody>\n",
       "    <tr>\n",
       "      <th>0</th>\n",
       "      <td>1601060367199</td>\n",
       "      <td>1514.71</td>\n",
       "      <td>0.00</td>\n",
       "      <td>1514.71</td>\n",
       "      <td>Offline</td>\n",
       "      <td>HybridOff(&lt;=0.5)</td>\n",
       "    </tr>\n",
       "    <tr>\n",
       "      <th>1</th>\n",
       "      <td>1604011635399</td>\n",
       "      <td>360.17</td>\n",
       "      <td>167.27</td>\n",
       "      <td>192.90</td>\n",
       "      <td>Hybrid</td>\n",
       "      <td>HybridOn(&gt;0.5)</td>\n",
       "    </tr>\n",
       "    <tr>\n",
       "      <th>2</th>\n",
       "      <td>1604121617999</td>\n",
       "      <td>684.38</td>\n",
       "      <td>0.00</td>\n",
       "      <td>684.38</td>\n",
       "      <td>Offline</td>\n",
       "      <td>HybridOff(&lt;=0.5)</td>\n",
       "    </tr>\n",
       "    <tr>\n",
       "      <th>3</th>\n",
       "      <td>1605041917999</td>\n",
       "      <td>307.72</td>\n",
       "      <td>204.42</td>\n",
       "      <td>103.30</td>\n",
       "      <td>Hybrid</td>\n",
       "      <td>HybridOn(&gt;0.5)</td>\n",
       "    </tr>\n",
       "    <tr>\n",
       "      <th>4</th>\n",
       "      <td>1610010812799</td>\n",
       "      <td>550.89</td>\n",
       "      <td>0.00</td>\n",
       "      <td>550.89</td>\n",
       "      <td>Offline</td>\n",
       "      <td>HybridOff(&lt;=0.5)</td>\n",
       "    </tr>\n",
       "  </tbody>\n",
       "</table>\n",
       "</div>"
      ],
      "text/plain": [
       "          CustID  Revenue  OnlineRevenue  OfflineRevenue ChannelShopper  \\\n",
       "0  1601060367199  1514.71           0.00         1514.71        Offline   \n",
       "1  1604011635399   360.17         167.27          192.90         Hybrid   \n",
       "2  1604121617999   684.38           0.00          684.38        Offline   \n",
       "3  1605041917999   307.72         204.42          103.30         Hybrid   \n",
       "4  1610010812799   550.89           0.00          550.89        Offline   \n",
       "\n",
       "  ChannelShopperDetail  \n",
       "0     HybridOff(<=0.5)  \n",
       "1       HybridOn(>0.5)  \n",
       "2     HybridOff(<=0.5)  \n",
       "3       HybridOn(>0.5)  \n",
       "4     HybridOff(<=0.5)  "
      ]
     },
     "execution_count": 23,
     "metadata": {},
     "output_type": "execute_result"
    }
   ],
   "source": [
    "df_transOOF.head()"
   ]
  },
  {
   "cell_type": "markdown",
   "metadata": {},
   "source": [
    "### 2.5.3 Christmas shoppers\n",
    "\n",
    "Adding a variable which sums up the purchases in **december**."
   ]
  },
  {
   "cell_type": "code",
   "execution_count": 24,
   "metadata": {},
   "outputs": [],
   "source": [
    "df_transCS = df_exret.loc[:,[\"CardID\",\"BookingDate\",\"Revenue\"]]\n",
    "df_transCS.loc[df_transCS[\"BookingDate\"].dt.month.isin([12]),\"ChristmasRevenue\"] = df_transCS[\"Revenue\"]\n",
    "\n",
    "df_transCS = pd.merge(df_transCS,df_masterS,how=\"left\",on=\"CardID\",indicator=True)\n",
    "df_transCS = df_transCS.loc[~(df_transCS[\"_merge\"] == \"left_only\")]\n",
    "df_transCS = df_transCS.groupby([\"CustID\"], as_index=False).agg({\"ChristmasRevenue\": np.sum})"
   ]
  },
  {
   "cell_type": "markdown",
   "metadata": {},
   "source": [
    "### 2.5.4 Merge the variables"
   ]
  },
  {
   "cell_type": "code",
   "execution_count": 25,
   "metadata": {},
   "outputs": [],
   "source": [
    "dfs = [df_transOOF, df_transCS]\n",
    "df_variables = reduce(lambda left,right: pd.merge(left,right,how=\"left\",on=\"CustID\"), dfs)"
   ]
  },
  {
   "cell_type": "code",
   "execution_count": 26,
   "metadata": {},
   "outputs": [],
   "source": [
    "df_variables.to_csv(\"data new/variables.csv\", encoding=\"utf-8\", sep=\",\", index=False)"
   ]
  }
 ],
 "metadata": {
  "kernelspec": {
   "display_name": "Python 3",
   "language": "python",
   "name": "python3"
  },
  "language_info": {
   "codemirror_mode": {
    "name": "ipython",
    "version": 3
   },
   "file_extension": ".py",
   "mimetype": "text/x-python",
   "name": "python",
   "nbconvert_exporter": "python",
   "pygments_lexer": "ipython3",
   "version": "3.6.5"
  }
 },
 "nbformat": 4,
 "nbformat_minor": 2
}
