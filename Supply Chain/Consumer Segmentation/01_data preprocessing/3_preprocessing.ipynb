{
 "cells": [
  {
   "cell_type": "markdown",
   "metadata": {},
   "source": [
    "# 3 Preprocessing\n",
    "\n",
    "**Prerequisites:** master data and transaction data has been cleaned & processed"
   ]
  },
  {
   "cell_type": "markdown",
   "metadata": {},
   "source": [
    "## Library Imports"
   ]
  },
  {
   "cell_type": "code",
   "execution_count": 1,
   "metadata": {},
   "outputs": [],
   "source": [
    "import pandas as pd\n",
    "import numpy as np"
   ]
  },
  {
   "cell_type": "markdown",
   "metadata": {},
   "source": [
    "## 3.1 Import raw data\n",
    "master & transaction data for combining the data"
   ]
  },
  {
   "cell_type": "code",
   "execution_count": 2,
   "metadata": {},
   "outputs": [
    {
     "name": "stdout",
     "output_type": "stream",
     "text": [
      "Data entries masterdata: 75\n"
     ]
    }
   ],
   "source": [
    "df_master = pd.read_csv(\"data new/masterdata.csv\",encoding=\"utf-8\",sep=\",\",usecols=[0,1],dtype={\"CardID\":object})\n",
    "print(\"Data entries masterdata: \" + str(len(df_master.index)))"
   ]
  },
  {
   "cell_type": "code",
   "execution_count": 3,
   "metadata": {},
   "outputs": [
    {
     "name": "stdout",
     "output_type": "stream",
     "text": [
      "Data entries transdata: 950\n"
     ]
    }
   ],
   "source": [
    "df_trans = pd.read_csv(\"data new/transdata.csv\",encoding=\"utf-8\",sep=\",\",usecols=[0,1,6,7,8,9,10],parse_dates=[\"BookingDate\"],dtype={\"CardID\":object})\n",
    "print(\"Data entries transdata: \" + str(len(df_trans.index)))"
   ]
  },
  {
   "cell_type": "markdown",
   "metadata": {},
   "source": [
    "## 3.2 Merge dataframes\n",
    "Additionally a short overview about the merged data is given."
   ]
  },
  {
   "cell_type": "code",
   "execution_count": 4,
   "metadata": {},
   "outputs": [],
   "source": [
    "df_merged = pd.merge(df_master, df_trans, how=\"outer\", on=\"CardID\", indicator=True)\n",
    "df_merged = df_merged.sort_values([\"CardID\",\"BookingDate\"], ascending=[True,True])"
   ]
  },
  {
   "cell_type": "code",
   "execution_count": 5,
   "metadata": {},
   "outputs": [
    {
     "name": "stdout",
     "output_type": "stream",
     "text": [
      "Data entries: 950\n",
      "Transactions with CardID not in masterdata: -0\n",
      "Customers without transactions: -0\n",
      "Merged transdata which can be used: 950\n"
     ]
    }
   ],
   "source": [
    "print(\"Data entries: \" + str(len(df_merged.index)))\n",
    "\n",
    "#CardID who are not in masterdata\n",
    "#Reasons: wrong manual adaption, encoding error in transdata or missing card entry in masterdatabase\n",
    "print(\"Transactions with CardID not in masterdata: -\" + str(len(df_merged.loc[df_merged[\"_merge\"] == \"right_only\"])))\n",
    "\n",
    "print(\"Customers without transactions: -\" + str(len(df_merged.loc[df_merged[\"_merge\"] == \"left_only\"])))\n",
    "print(\"Merged transdata which can be used: \" + str(len(df_merged.loc[df_merged[\"_merge\"] == \"both\"])))"
   ]
  },
  {
   "cell_type": "markdown",
   "metadata": {},
   "source": [
    "## 3.3 Data Cleaning\n",
    "### 3.3.1 Customers with no transactions\n",
    "Filtering of customers who have not purchased in the evaluation period (transtype = NaN) and exporting a list of those costomers."
   ]
  },
  {
   "cell_type": "code",
   "execution_count": 6,
   "metadata": {},
   "outputs": [
    {
     "name": "stdout",
     "output_type": "stream",
     "text": [
      "Customers without transaction: 0\n"
     ]
    }
   ],
   "source": [
    "df_cust0 = df_merged.loc[df_merged[\"_merge\"] == \"left_only\"]\n",
    "\n",
    "df_cust0.to_csv(\"data excluded/excluded 5_customers without transaction.csv\", encoding=\"utf-8\", sep=\",\")\n",
    "print(\"Customers without transaction: \" + str(len(df_cust0.index)))                       "
   ]
  },
  {
   "cell_type": "code",
   "execution_count": 7,
   "metadata": {},
   "outputs": [
    {
     "name": "stdout",
     "output_type": "stream",
     "text": [
      "Data entries after cleaning 1: 950\n"
     ]
    }
   ],
   "source": [
    "#Cleaning the data\n",
    "df_merged = df_merged.loc[~(df_merged[\"_merge\"] == \"left_only\")]\n",
    "print(\"Data entries after cleaning 1: \" + str(len(df_merged.index)))"
   ]
  },
  {
   "cell_type": "markdown",
   "metadata": {},
   "source": [
    "### 3.3.2 Transactions with missing customer link\n",
    "Filtering of transactions which are not linked to a data entry in masterdata."
   ]
  },
  {
   "cell_type": "code",
   "execution_count": 8,
   "metadata": {},
   "outputs": [],
   "source": [
    "df_missingcustid = df_merged.loc[df_merged[\"_merge\"] == \"right_only\"]\n",
    "df_missingcustid.to_csv(\"data excluded/excluded 6_transactions with missing customer link.csv\",encoding=\"utf-8\",sep=\",\") "
   ]
  },
  {
   "cell_type": "code",
   "execution_count": 9,
   "metadata": {},
   "outputs": [
    {
     "name": "stdout",
     "output_type": "stream",
     "text": [
      "Data entries after cleaning 2: 950\n"
     ]
    }
   ],
   "source": [
    "#Cleaning the data\n",
    "df_merged = df_merged.loc[~(df_merged[\"_merge\"] == \"right_only\")]\n",
    "print(\"Data entries after cleaning 2: \" + str(len(df_merged.index)))"
   ]
  },
  {
   "cell_type": "markdown",
   "metadata": {},
   "source": [
    "## 3.4 Grouping the cleaned data\n",
    "**Objective:** One collumn should represent a single customer purchase\n",
    "\n",
    "Rounding the floats on two decimal places and adding price per article an total purchases.\n",
    "\n",
    "Afterwards the dataframe will be saved."
   ]
  },
  {
   "cell_type": "code",
   "execution_count": 10,
   "metadata": {},
   "outputs": [],
   "source": [
    "df_merged[\"TransactionType\"] = df_merged[\"TransactionType\"].astype(\"int64\")\n",
    "df_merged[\"Store\"] = df_merged[\"Store\"].astype(\"int64\")\n",
    "\n",
    "df_proc = df_merged.groupby([\"CustID\",\"CardID\",\"BookingDate\",\"Store\",\"TransactionType\"],\n",
    "                             as_index=False).agg(np.sum)"
   ]
  },
  {
   "cell_type": "code",
   "execution_count": 11,
   "metadata": {},
   "outputs": [
    {
     "name": "stdout",
     "output_type": "stream",
     "text": [
      "Data entries: 944\n"
     ]
    }
   ],
   "source": [
    "df_proc[\"Revenue\"] = np.round(df_proc[\"Revenue\"], decimals=2)\n",
    "df_proc[\"RevenueInc.\"] = np.round(df_proc[\"RevenueInc.\"], decimals=2)\n",
    "df_proc[\"Price/Article\"] = np.round(df_proc[\"Revenue\"].divide(df_proc[\"Qty\"]), decimals=2)\n",
    "\n",
    "df_proc.to_csv(\"data new/procdata.csv\",encoding = \"utf-8\",sep = \",\",index = False)\n",
    "print(\"Data entries: \" + str(len(df_proc.index)))"
   ]
  },
  {
   "cell_type": "code",
   "execution_count": 12,
   "metadata": {},
   "outputs": [
    {
     "data": {
      "text/html": [
       "<div>\n",
       "<style scoped>\n",
       "    .dataframe tbody tr th:only-of-type {\n",
       "        vertical-align: middle;\n",
       "    }\n",
       "\n",
       "    .dataframe tbody tr th {\n",
       "        vertical-align: top;\n",
       "    }\n",
       "\n",
       "    .dataframe thead th {\n",
       "        text-align: right;\n",
       "    }\n",
       "</style>\n",
       "<table border=\"1\" class=\"dataframe\">\n",
       "  <thead>\n",
       "    <tr style=\"text-align: right;\">\n",
       "      <th></th>\n",
       "      <th>CustID</th>\n",
       "      <th>CardID</th>\n",
       "      <th>BookingDate</th>\n",
       "      <th>Store</th>\n",
       "      <th>TransactionType</th>\n",
       "      <th>Revenue</th>\n",
       "      <th>RevenueInc.</th>\n",
       "      <th>Qty</th>\n",
       "      <th>Price/Article</th>\n",
       "    </tr>\n",
       "  </thead>\n",
       "  <tbody>\n",
       "    <tr>\n",
       "      <th>0</th>\n",
       "      <td>1601060367199</td>\n",
       "      <td>59681386599</td>\n",
       "      <td>2017-05-15</td>\n",
       "      <td>4</td>\n",
       "      <td>1</td>\n",
       "      <td>145.63</td>\n",
       "      <td>137.63</td>\n",
       "      <td>4.0</td>\n",
       "      <td>36.41</td>\n",
       "    </tr>\n",
       "    <tr>\n",
       "      <th>1</th>\n",
       "      <td>1601060367199</td>\n",
       "      <td>59681386599</td>\n",
       "      <td>2017-06-08</td>\n",
       "      <td>3</td>\n",
       "      <td>1</td>\n",
       "      <td>115.51</td>\n",
       "      <td>115.51</td>\n",
       "      <td>2.0</td>\n",
       "      <td>57.76</td>\n",
       "    </tr>\n",
       "    <tr>\n",
       "      <th>2</th>\n",
       "      <td>1601060367199</td>\n",
       "      <td>59681386599</td>\n",
       "      <td>2017-06-23</td>\n",
       "      <td>9</td>\n",
       "      <td>1</td>\n",
       "      <td>15.34</td>\n",
       "      <td>15.34</td>\n",
       "      <td>1.0</td>\n",
       "      <td>15.34</td>\n",
       "    </tr>\n",
       "    <tr>\n",
       "      <th>3</th>\n",
       "      <td>1601060367199</td>\n",
       "      <td>59681386599</td>\n",
       "      <td>2017-06-26</td>\n",
       "      <td>7</td>\n",
       "      <td>1</td>\n",
       "      <td>30.67</td>\n",
       "      <td>30.67</td>\n",
       "      <td>2.0</td>\n",
       "      <td>15.34</td>\n",
       "    </tr>\n",
       "    <tr>\n",
       "      <th>4</th>\n",
       "      <td>1601060367199</td>\n",
       "      <td>59681386599</td>\n",
       "      <td>2017-07-14</td>\n",
       "      <td>9</td>\n",
       "      <td>1</td>\n",
       "      <td>31.94</td>\n",
       "      <td>31.94</td>\n",
       "      <td>1.0</td>\n",
       "      <td>31.94</td>\n",
       "    </tr>\n",
       "  </tbody>\n",
       "</table>\n",
       "</div>"
      ],
      "text/plain": [
       "          CustID       CardID BookingDate  Store  TransactionType  Revenue  \\\n",
       "0  1601060367199  59681386599  2017-05-15      4                1   145.63   \n",
       "1  1601060367199  59681386599  2017-06-08      3                1   115.51   \n",
       "2  1601060367199  59681386599  2017-06-23      9                1    15.34   \n",
       "3  1601060367199  59681386599  2017-06-26      7                1    30.67   \n",
       "4  1601060367199  59681386599  2017-07-14      9                1    31.94   \n",
       "\n",
       "   RevenueInc.  Qty  Price/Article  \n",
       "0       137.63  4.0          36.41  \n",
       "1       115.51  2.0          57.76  \n",
       "2        15.34  1.0          15.34  \n",
       "3        30.67  2.0          15.34  \n",
       "4        31.94  1.0          31.94  "
      ]
     },
     "execution_count": 12,
     "metadata": {},
     "output_type": "execute_result"
    }
   ],
   "source": [
    "df_proc.head()"
   ]
  },
  {
   "cell_type": "code",
   "execution_count": null,
   "metadata": {},
   "outputs": [],
   "source": []
  }
 ],
 "metadata": {
  "kernelspec": {
   "display_name": "Python 3",
   "language": "python",
   "name": "python3"
  },
  "language_info": {
   "codemirror_mode": {
    "name": "ipython",
    "version": 3
   },
   "file_extension": ".py",
   "mimetype": "text/x-python",
   "name": "python",
   "nbconvert_exporter": "python",
   "pygments_lexer": "ipython3",
   "version": "3.6.5"
  }
 },
 "nbformat": 4,
 "nbformat_minor": 2
}
